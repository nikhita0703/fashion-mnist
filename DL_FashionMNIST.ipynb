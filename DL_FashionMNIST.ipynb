{
  "cells": [
    {
      "cell_type": "code",
      "execution_count": 2,
      "metadata": {
        "colab": {
          "base_uri": "https://localhost:8080/",
          "height": 35
        },
        "id": "GIZGn61A005h",
        "outputId": "e6eca0a5-5817-4ff8-8b45-8760464156f6"
      },
      "outputs": [
        {
          "output_type": "execute_result",
          "data": {
            "text/plain": [
              "'/content'"
            ],
            "application/vnd.google.colaboratory.intrinsic+json": {
              "type": "string"
            }
          },
          "metadata": {},
          "execution_count": 2
        }
      ],
      "source": [
        "import os \n",
        "import numpy as np\n",
        "import pandas as pd\n",
        "import zipfile\n",
        "#import seaborn as sns\n",
        "import tensorflow as tf\n",
        "from tensorflow import keras\n",
        "from sklearn.pipeline import Pipeline\n",
        "from sklearn.linear_model import LogisticRegression\n",
        "from sklearn.tree import DecisionTreeClassifier\n",
        "from sklearn.ensemble import RandomForestClassifier\n",
        "os.getcwd()"
      ]
    },
    {
      "cell_type": "code",
      "execution_count": 3,
      "metadata": {
        "id": "CwMwdbQ01Wcr",
        "colab": {
          "base_uri": "https://localhost:8080/"
        },
        "outputId": "42a14e02-71b6-4999-9be5-26a66e13106f"
      },
      "outputs": [
        {
          "output_type": "stream",
          "name": "stdout",
          "text": [
            "Mounted at /content/gdrive\n"
          ]
        }
      ],
      "source": [
        "from google.colab import drive \n",
        "drive.mount('/content/gdrive')"
      ]
    },
    {
      "cell_type": "code",
      "execution_count": 4,
      "metadata": {
        "id": "_N_Zsk0f1WlZ",
        "colab": {
          "base_uri": "https://localhost:8080/"
        },
        "outputId": "b0335141-3642-4a69-e60d-f7ac41059d37"
      },
      "outputs": [
        {
          "output_type": "execute_result",
          "data": {
            "text/plain": [
              "(60000, 785)"
            ]
          },
          "metadata": {},
          "execution_count": 4
        }
      ],
      "source": [
        "zf = zipfile.ZipFile('/content/gdrive/MyDrive/fashion-mnist_train.csv.zip') \n",
        "df = pd.read_csv(zf.open('fashion-mnist_train.csv'))\n",
        "#df.head()\n",
        "df_train=df.copy()\n",
        "df_train.shape"
      ]
    },
    {
      "cell_type": "code",
      "execution_count": 5,
      "metadata": {
        "id": "JrEbvWl-1Wov",
        "colab": {
          "base_uri": "https://localhost:8080/",
          "height": 288
        },
        "outputId": "be71adf6-1afe-4bdf-a2f1-fa579868736d"
      },
      "outputs": [
        {
          "output_type": "execute_result",
          "data": {
            "text/plain": [
              "   label  pixel1  pixel2  pixel3  pixel4  pixel5  pixel6  pixel7  pixel8  \\\n",
              "0      2       0       0       0       0       0       0       0       0   \n",
              "1      9       0       0       0       0       0       0       0       0   \n",
              "2      6       0       0       0       0       0       0       0       5   \n",
              "3      0       0       0       0       1       2       0       0       0   \n",
              "4      3       0       0       0       0       0       0       0       0   \n",
              "\n",
              "   pixel9  ...  pixel775  pixel776  pixel777  pixel778  pixel779  pixel780  \\\n",
              "0       0  ...         0         0         0         0         0         0   \n",
              "1       0  ...         0         0         0         0         0         0   \n",
              "2       0  ...         0         0         0        30        43         0   \n",
              "3       0  ...         3         0         0         0         0         1   \n",
              "4       0  ...         0         0         0         0         0         0   \n",
              "\n",
              "   pixel781  pixel782  pixel783  pixel784  \n",
              "0         0         0         0         0  \n",
              "1         0         0         0         0  \n",
              "2         0         0         0         0  \n",
              "3         0         0         0         0  \n",
              "4         0         0         0         0  \n",
              "\n",
              "[5 rows x 785 columns]"
            ],
            "text/html": [
              "\n",
              "  <div id=\"df-b5df1d61-4374-4e96-a63b-57637026524e\">\n",
              "    <div class=\"colab-df-container\">\n",
              "      <div>\n",
              "<style scoped>\n",
              "    .dataframe tbody tr th:only-of-type {\n",
              "        vertical-align: middle;\n",
              "    }\n",
              "\n",
              "    .dataframe tbody tr th {\n",
              "        vertical-align: top;\n",
              "    }\n",
              "\n",
              "    .dataframe thead th {\n",
              "        text-align: right;\n",
              "    }\n",
              "</style>\n",
              "<table border=\"1\" class=\"dataframe\">\n",
              "  <thead>\n",
              "    <tr style=\"text-align: right;\">\n",
              "      <th></th>\n",
              "      <th>label</th>\n",
              "      <th>pixel1</th>\n",
              "      <th>pixel2</th>\n",
              "      <th>pixel3</th>\n",
              "      <th>pixel4</th>\n",
              "      <th>pixel5</th>\n",
              "      <th>pixel6</th>\n",
              "      <th>pixel7</th>\n",
              "      <th>pixel8</th>\n",
              "      <th>pixel9</th>\n",
              "      <th>...</th>\n",
              "      <th>pixel775</th>\n",
              "      <th>pixel776</th>\n",
              "      <th>pixel777</th>\n",
              "      <th>pixel778</th>\n",
              "      <th>pixel779</th>\n",
              "      <th>pixel780</th>\n",
              "      <th>pixel781</th>\n",
              "      <th>pixel782</th>\n",
              "      <th>pixel783</th>\n",
              "      <th>pixel784</th>\n",
              "    </tr>\n",
              "  </thead>\n",
              "  <tbody>\n",
              "    <tr>\n",
              "      <th>0</th>\n",
              "      <td>2</td>\n",
              "      <td>0</td>\n",
              "      <td>0</td>\n",
              "      <td>0</td>\n",
              "      <td>0</td>\n",
              "      <td>0</td>\n",
              "      <td>0</td>\n",
              "      <td>0</td>\n",
              "      <td>0</td>\n",
              "      <td>0</td>\n",
              "      <td>...</td>\n",
              "      <td>0</td>\n",
              "      <td>0</td>\n",
              "      <td>0</td>\n",
              "      <td>0</td>\n",
              "      <td>0</td>\n",
              "      <td>0</td>\n",
              "      <td>0</td>\n",
              "      <td>0</td>\n",
              "      <td>0</td>\n",
              "      <td>0</td>\n",
              "    </tr>\n",
              "    <tr>\n",
              "      <th>1</th>\n",
              "      <td>9</td>\n",
              "      <td>0</td>\n",
              "      <td>0</td>\n",
              "      <td>0</td>\n",
              "      <td>0</td>\n",
              "      <td>0</td>\n",
              "      <td>0</td>\n",
              "      <td>0</td>\n",
              "      <td>0</td>\n",
              "      <td>0</td>\n",
              "      <td>...</td>\n",
              "      <td>0</td>\n",
              "      <td>0</td>\n",
              "      <td>0</td>\n",
              "      <td>0</td>\n",
              "      <td>0</td>\n",
              "      <td>0</td>\n",
              "      <td>0</td>\n",
              "      <td>0</td>\n",
              "      <td>0</td>\n",
              "      <td>0</td>\n",
              "    </tr>\n",
              "    <tr>\n",
              "      <th>2</th>\n",
              "      <td>6</td>\n",
              "      <td>0</td>\n",
              "      <td>0</td>\n",
              "      <td>0</td>\n",
              "      <td>0</td>\n",
              "      <td>0</td>\n",
              "      <td>0</td>\n",
              "      <td>0</td>\n",
              "      <td>5</td>\n",
              "      <td>0</td>\n",
              "      <td>...</td>\n",
              "      <td>0</td>\n",
              "      <td>0</td>\n",
              "      <td>0</td>\n",
              "      <td>30</td>\n",
              "      <td>43</td>\n",
              "      <td>0</td>\n",
              "      <td>0</td>\n",
              "      <td>0</td>\n",
              "      <td>0</td>\n",
              "      <td>0</td>\n",
              "    </tr>\n",
              "    <tr>\n",
              "      <th>3</th>\n",
              "      <td>0</td>\n",
              "      <td>0</td>\n",
              "      <td>0</td>\n",
              "      <td>0</td>\n",
              "      <td>1</td>\n",
              "      <td>2</td>\n",
              "      <td>0</td>\n",
              "      <td>0</td>\n",
              "      <td>0</td>\n",
              "      <td>0</td>\n",
              "      <td>...</td>\n",
              "      <td>3</td>\n",
              "      <td>0</td>\n",
              "      <td>0</td>\n",
              "      <td>0</td>\n",
              "      <td>0</td>\n",
              "      <td>1</td>\n",
              "      <td>0</td>\n",
              "      <td>0</td>\n",
              "      <td>0</td>\n",
              "      <td>0</td>\n",
              "    </tr>\n",
              "    <tr>\n",
              "      <th>4</th>\n",
              "      <td>3</td>\n",
              "      <td>0</td>\n",
              "      <td>0</td>\n",
              "      <td>0</td>\n",
              "      <td>0</td>\n",
              "      <td>0</td>\n",
              "      <td>0</td>\n",
              "      <td>0</td>\n",
              "      <td>0</td>\n",
              "      <td>0</td>\n",
              "      <td>...</td>\n",
              "      <td>0</td>\n",
              "      <td>0</td>\n",
              "      <td>0</td>\n",
              "      <td>0</td>\n",
              "      <td>0</td>\n",
              "      <td>0</td>\n",
              "      <td>0</td>\n",
              "      <td>0</td>\n",
              "      <td>0</td>\n",
              "      <td>0</td>\n",
              "    </tr>\n",
              "  </tbody>\n",
              "</table>\n",
              "<p>5 rows × 785 columns</p>\n",
              "</div>\n",
              "      <button class=\"colab-df-convert\" onclick=\"convertToInteractive('df-b5df1d61-4374-4e96-a63b-57637026524e')\"\n",
              "              title=\"Convert this dataframe to an interactive table.\"\n",
              "              style=\"display:none;\">\n",
              "        \n",
              "  <svg xmlns=\"http://www.w3.org/2000/svg\" height=\"24px\"viewBox=\"0 0 24 24\"\n",
              "       width=\"24px\">\n",
              "    <path d=\"M0 0h24v24H0V0z\" fill=\"none\"/>\n",
              "    <path d=\"M18.56 5.44l.94 2.06.94-2.06 2.06-.94-2.06-.94-.94-2.06-.94 2.06-2.06.94zm-11 1L8.5 8.5l.94-2.06 2.06-.94-2.06-.94L8.5 2.5l-.94 2.06-2.06.94zm10 10l.94 2.06.94-2.06 2.06-.94-2.06-.94-.94-2.06-.94 2.06-2.06.94z\"/><path d=\"M17.41 7.96l-1.37-1.37c-.4-.4-.92-.59-1.43-.59-.52 0-1.04.2-1.43.59L10.3 9.45l-7.72 7.72c-.78.78-.78 2.05 0 2.83L4 21.41c.39.39.9.59 1.41.59.51 0 1.02-.2 1.41-.59l7.78-7.78 2.81-2.81c.8-.78.8-2.07 0-2.86zM5.41 20L4 18.59l7.72-7.72 1.47 1.35L5.41 20z\"/>\n",
              "  </svg>\n",
              "      </button>\n",
              "      \n",
              "  <style>\n",
              "    .colab-df-container {\n",
              "      display:flex;\n",
              "      flex-wrap:wrap;\n",
              "      gap: 12px;\n",
              "    }\n",
              "\n",
              "    .colab-df-convert {\n",
              "      background-color: #E8F0FE;\n",
              "      border: none;\n",
              "      border-radius: 50%;\n",
              "      cursor: pointer;\n",
              "      display: none;\n",
              "      fill: #1967D2;\n",
              "      height: 32px;\n",
              "      padding: 0 0 0 0;\n",
              "      width: 32px;\n",
              "    }\n",
              "\n",
              "    .colab-df-convert:hover {\n",
              "      background-color: #E2EBFA;\n",
              "      box-shadow: 0px 1px 2px rgba(60, 64, 67, 0.3), 0px 1px 3px 1px rgba(60, 64, 67, 0.15);\n",
              "      fill: #174EA6;\n",
              "    }\n",
              "\n",
              "    [theme=dark] .colab-df-convert {\n",
              "      background-color: #3B4455;\n",
              "      fill: #D2E3FC;\n",
              "    }\n",
              "\n",
              "    [theme=dark] .colab-df-convert:hover {\n",
              "      background-color: #434B5C;\n",
              "      box-shadow: 0px 1px 3px 1px rgba(0, 0, 0, 0.15);\n",
              "      filter: drop-shadow(0px 1px 2px rgba(0, 0, 0, 0.3));\n",
              "      fill: #FFFFFF;\n",
              "    }\n",
              "  </style>\n",
              "\n",
              "      <script>\n",
              "        const buttonEl =\n",
              "          document.querySelector('#df-b5df1d61-4374-4e96-a63b-57637026524e button.colab-df-convert');\n",
              "        buttonEl.style.display =\n",
              "          google.colab.kernel.accessAllowed ? 'block' : 'none';\n",
              "\n",
              "        async function convertToInteractive(key) {\n",
              "          const element = document.querySelector('#df-b5df1d61-4374-4e96-a63b-57637026524e');\n",
              "          const dataTable =\n",
              "            await google.colab.kernel.invokeFunction('convertToInteractive',\n",
              "                                                     [key], {});\n",
              "          if (!dataTable) return;\n",
              "\n",
              "          const docLinkHtml = 'Like what you see? Visit the ' +\n",
              "            '<a target=\"_blank\" href=https://colab.research.google.com/notebooks/data_table.ipynb>data table notebook</a>'\n",
              "            + ' to learn more about interactive tables.';\n",
              "          element.innerHTML = '';\n",
              "          dataTable['output_type'] = 'display_data';\n",
              "          await google.colab.output.renderOutput(dataTable, element);\n",
              "          const docLink = document.createElement('div');\n",
              "          docLink.innerHTML = docLinkHtml;\n",
              "          element.appendChild(docLink);\n",
              "        }\n",
              "      </script>\n",
              "    </div>\n",
              "  </div>\n",
              "  "
            ]
          },
          "metadata": {},
          "execution_count": 5
        }
      ],
      "source": [
        "df_train.head(5)"
      ]
    },
    {
      "cell_type": "code",
      "execution_count": 6,
      "metadata": {
        "id": "SeElWppl1Wrx",
        "colab": {
          "base_uri": "https://localhost:8080/"
        },
        "outputId": "964bc5c5-9240-4ed5-973d-599ad4edf04a"
      },
      "outputs": [
        {
          "output_type": "execute_result",
          "data": {
            "text/plain": [
              "2    6000\n",
              "9    6000\n",
              "6    6000\n",
              "0    6000\n",
              "3    6000\n",
              "4    6000\n",
              "5    6000\n",
              "8    6000\n",
              "7    6000\n",
              "1    6000\n",
              "Name: label, dtype: int64"
            ]
          },
          "metadata": {},
          "execution_count": 6
        }
      ],
      "source": [
        "df_train.label.value_counts()"
      ]
    },
    {
      "cell_type": "code",
      "execution_count": 7,
      "metadata": {
        "id": "NusZk0Qf1WvB",
        "colab": {
          "base_uri": "https://localhost:8080/",
          "height": 248
        },
        "outputId": "b713a06b-1334-4184-a382-4c6ad0cde5ff"
      },
      "outputs": [
        {
          "output_type": "display_data",
          "data": {
            "text/plain": [
              "<Figure size 432x288 with 1 Axes>"
            ],
            "image/png": "[encoded data removed]"
          },
          "metadata": {
            "needs_background": "light"
          }
        }
      ],
      "source": [
        "%matplotlib inline\n",
        "import matplotlib\n",
        "import matplotlib.pyplot as plt\n",
        "some_obj=df_train.iloc[22000,1:] \n",
        "# Since the first column in the dataframe contains the label that column is omitted in the iloc selection.\n",
        "some_obj_arr = some_obj.values\n",
        "some_obj_image = some_obj_arr.reshape(28, 28)\n",
        "plt.imshow(some_obj_image, cmap = matplotlib.cm.binary,\n",
        "interpolation=\"nearest\")\n",
        "plt.axis(\"off\")\n",
        "plt.show()"
      ]
    },
    {
      "cell_type": "code",
      "execution_count": 8,
      "metadata": {
        "id": "RBaL_AEV1Wxy",
        "colab": {
          "base_uri": "https://localhost:8080/"
        },
        "outputId": "90b76239-ea2c-43f5-c921-ccde43e3a0f8"
      },
      "outputs": [
        {
          "output_type": "execute_result",
          "data": {
            "text/plain": [
              "(60000, 784)"
            ]
          },
          "metadata": {},
          "execution_count": 8
        }
      ],
      "source": [
        "y = df_train['label']\n",
        "X = df_train.drop('label',axis='columns')\n",
        "X.shape"
      ]
    },
    {
      "cell_type": "code",
      "execution_count": 9,
      "metadata": {
        "id": "Gnzmc3LqFJzW",
        "colab": {
          "base_uri": "https://localhost:8080/"
        },
        "outputId": "c51e3f57-5779-4a42-d782-c07ccf864d7b"
      },
      "outputs": [
        {
          "output_type": "execute_result",
          "data": {
            "text/plain": [
              "(60000,)"
            ]
          },
          "metadata": {},
          "execution_count": 9
        }
      ],
      "source": [
        "y.shape"
      ]
    },
    {
      "cell_type": "code",
      "source": [
        ""
      ],
      "metadata": {
        "id": "J5cLQ8vG_E-Z"
      },
      "execution_count": 9,
      "outputs": []
    },
    {
      "cell_type": "code",
      "execution_count": 10,
      "metadata": {
        "id": "JJIe_LTqXAHo",
        "colab": {
          "base_uri": "https://localhost:8080/"
        },
        "outputId": "98eecbd2-1a8c-4f5e-985c-78484f8f0bdc"
      },
      "outputs": [
        {
          "output_type": "execute_result",
          "data": {
            "text/plain": [
              "numpy.ndarray"
            ]
          },
          "metadata": {},
          "execution_count": 10
        }
      ],
      "source": [
        "# from keras.utils import to_categorical\n",
        "from tensorflow.keras.utils import to_categorical\n",
        "y_cat = to_categorical(y)\n",
        "type(y_cat)"
      ]
    },
    {
      "cell_type": "code",
      "execution_count": 10,
      "metadata": {
        "id": "dENOtpYoX8Z9"
      },
      "outputs": [],
      "source": [
        "\n"
      ]
    },
    {
      "cell_type": "code",
      "execution_count": 86,
      "metadata": {
        "id": "SxnmMbQa1nxt"
      },
      "outputs": [],
      "source": [
        "from sklearn.model_selection import train_test_split\n",
        "X_train, X_test, y_train, y_test = train_test_split(X,y_cat,test_size=0.1)"
      ]
    },
    {
      "cell_type": "code",
      "source": [
        "X_train = X_train.astype('float32')\n",
        "X_test = X_test.astype('float32')\n"
      ],
      "metadata": {
        "id": "vMqNU9zoPm7r"
      },
      "execution_count": 87,
      "outputs": []
    },
    {
      "cell_type": "code",
      "source": [
        "# from tensorflow.keras.utils import to_categorical\n",
        "# y_train_cat = to_categorical(y_train)\n",
        "# type(y_train_cat)"
      ],
      "metadata": {
        "id": "bCIS6xOi38DH"
      },
      "execution_count": 12,
      "outputs": []
    },
    {
      "cell_type": "code",
      "source": [
        "# from sklearn.model_selection import train_test_split\n",
        "# X_train, X_test, y_train_1D, y_test_1D = train_test_split(X,y,test_size=0.2,shuffle=True)"
      ],
      "metadata": {
        "id": "hKszmhi0_QiU"
      },
      "execution_count": 13,
      "outputs": []
    },
    {
      "cell_type": "code",
      "source": [
        "# y_train_1D.shape"
      ],
      "metadata": {
        "id": "mpOcssz-_cZL"
      },
      "execution_count": 14,
      "outputs": []
    },
    {
      "cell_type": "code",
      "execution_count": 15,
      "metadata": {
        "id": "EYSVPBE4FOIs"
      },
      "outputs": [],
      "source": [
        "from sklearn.preprocessing import MinMaxScaler\n",
        "scaler = MinMaxScaler()\n",
        "\n",
        "scaler.fit(X_train)\n",
        "\n",
        "X_train_scaled = scaler.transform(X_train)\n",
        "X_test_scaled = scaler.transform(X_test)"
      ]
    },
    {
      "cell_type": "code",
      "source": [
        "X_train_255=X_train/255\n",
        "X_train_255.head(5)\n",
        "X_test_255=X_test/255\n",
        "# X_train_255.head(5)"
      ],
      "metadata": {
        "id": "fRJjXO_Drmso"
      },
      "execution_count": 88,
      "outputs": []
    },
    {
      "cell_type": "code",
      "source": [
        "# X_test_255_df = pd.DataFrame(X_train_255, columns=X_train.columns)\n",
        "# X_train_255_df=pd.DataFrame(X_test_255, columns=X_test.columns)\n"
      ],
      "metadata": {
        "id": "y6uASBb-NRuF"
      },
      "execution_count": 70,
      "outputs": []
    },
    {
      "cell_type": "code",
      "execution_count": 17,
      "metadata": {
        "id": "Q3bDJWYEFVbu"
      },
      "outputs": [],
      "source": [
        "X_train_scaled = pd.DataFrame(X_train_scaled, columns=X_train.columns)\n",
        "X_test_scaled = pd.DataFrame(X_test_scaled, columns=X_test.columns)"
      ]
    },
    {
      "cell_type": "code",
      "execution_count": 64,
      "metadata": {
        "id": "6dGNipn71n5r"
      },
      "outputs": [],
      "source": [
        "import tensorflow as tf\n",
        "from tensorflow import keras\n",
        "from keras.models import Sequential\n",
        "from tensorflow.keras import layers \n",
        "from tensorflow.keras.optimizers import Adam\n",
        "from keras.layers import Dense, Activation, Flatten, Conv2D,MaxPool2D,Dropout,MaxPooling2D\n",
        "EP=100"
      ]
    },
    {
      "cell_type": "code",
      "source": [
        "# y_train.shape\n",
        "y_train_df=pd.DataFrame(y_train)\n",
        "# y_train_df.head(10)"
      ],
      "metadata": {
        "id": "zkGBTpXna1_k"
      },
      "execution_count": 19,
      "outputs": []
    },
    {
      "cell_type": "code",
      "source": [
        "# y_train_cat_df=pd.DataFrame(y_train_cat)"
      ],
      "metadata": {
        "id": "Y5i5o0Yz7Tcl"
      },
      "execution_count": 20,
      "outputs": []
    },
    {
      "cell_type": "code",
      "source": [
        "X_train_scaled.head(5)"
      ],
      "metadata": {
        "colab": {
          "base_uri": "https://localhost:8080/",
          "height": 288
        },
        "id": "TFpbkWUaiDx-",
        "outputId": "34473e78-ef91-4cad-dc48-d93bbb12c503"
      },
      "execution_count": 21,
      "outputs": [
        {
          "output_type": "execute_result",
          "data": {
            "text/plain": [
              "   pixel1  pixel2  pixel3  pixel4  pixel5  pixel6  pixel7    pixel8    pixel9  \\\n",
              "0     0.0     0.0     0.0     0.0     0.0     0.0     0.0  0.000000  0.000000   \n",
              "1     0.0     0.0     0.0     0.0     0.0     0.0     0.0  0.007843  0.007874   \n",
              "2     0.0     0.0     0.0     0.0     0.0     0.0     0.0  0.000000  0.000000   \n",
              "3     0.0     0.0     0.0     0.0     0.0     0.0     0.0  0.000000  0.000000   \n",
              "4     0.0     0.0     0.0     0.0     0.0     0.0     0.0  0.000000  0.000000   \n",
              "\n",
              "   pixel10  ...  pixel775  pixel776  pixel777  pixel778  pixel779  pixel780  \\\n",
              "0      0.0  ...  0.694118  0.309804  0.000000   0.00000  0.000000       0.0   \n",
              "1      0.0  ...  0.003922  0.000000  0.000000   0.00000  0.000000       0.0   \n",
              "2      0.0  ...  0.000000  0.000000  0.000000   0.00000  0.000000       0.0   \n",
              "3      0.0  ...  0.000000  0.000000  0.364706   0.67451  0.207843       0.0   \n",
              "4      0.0  ...  0.000000  0.000000  0.000000   0.00000  0.000000       0.0   \n",
              "\n",
              "   pixel781  pixel782  pixel783  pixel784  \n",
              "0       0.0       0.0       0.0       0.0  \n",
              "1       0.0       0.0       0.0       0.0  \n",
              "2       0.0       0.0       0.0       0.0  \n",
              "3       0.0       0.0       0.0       0.0  \n",
              "4       0.0       0.0       0.0       0.0  \n",
              "\n",
              "[5 rows x 784 columns]"
            ],
            "text/html": [
              "\n",
              "  <div id=\"df-a9514f6c-f4d2-45ad-a715-0d6d1cadf414\">\n",
              "    <div class=\"colab-df-container\">\n",
              "      <div>\n",
              "<style scoped>\n",
              "    .dataframe tbody tr th:only-of-type {\n",
              "        vertical-align: middle;\n",
              "    }\n",
              "\n",
              "    .dataframe tbody tr th {\n",
              "        vertical-align: top;\n",
              "    }\n",
              "\n",
              "    .dataframe thead th {\n",
              "        text-align: right;\n",
              "    }\n",
              "</style>\n",
              "<table border=\"1\" class=\"dataframe\">\n",
              "  <thead>\n",
              "    <tr style=\"text-align: right;\">\n",
              "      <th></th>\n",
              "      <th>pixel1</th>\n",
              "      <th>pixel2</th>\n",
              "      <th>pixel3</th>\n",
              "      <th>pixel4</th>\n",
              "      <th>pixel5</th>\n",
              "      <th>pixel6</th>\n",
              "      <th>pixel7</th>\n",
              "      <th>pixel8</th>\n",
              "      <th>pixel9</th>\n",
              "      <th>pixel10</th>\n",
              "      <th>...</th>\n",
              "      <th>pixel775</th>\n",
              "      <th>pixel776</th>\n",
              "      <th>pixel777</th>\n",
              "      <th>pixel778</th>\n",
              "      <th>pixel779</th>\n",
              "      <th>pixel780</th>\n",
              "      <th>pixel781</th>\n",
              "      <th>pixel782</th>\n",
              "      <th>pixel783</th>\n",
              "      <th>pixel784</th>\n",
              "    </tr>\n",
              "  </thead>\n",
              "  <tbody>\n",
              "    <tr>\n",
              "      <th>0</th>\n",
              "      <td>0.0</td>\n",
              "      <td>0.0</td>\n",
              "      <td>0.0</td>\n",
              "      <td>0.0</td>\n",
              "      <td>0.0</td>\n",
              "      <td>0.0</td>\n",
              "      <td>0.0</td>\n",
              "      <td>0.000000</td>\n",
              "      <td>0.000000</td>\n",
              "      <td>0.0</td>\n",
              "      <td>...</td>\n",
              "      <td>0.694118</td>\n",
              "      <td>0.309804</td>\n",
              "      <td>0.000000</td>\n",
              "      <td>0.00000</td>\n",
              "      <td>0.000000</td>\n",
              "      <td>0.0</td>\n",
              "      <td>0.0</td>\n",
              "      <td>0.0</td>\n",
              "      <td>0.0</td>\n",
              "      <td>0.0</td>\n",
              "    </tr>\n",
              "    <tr>\n",
              "      <th>1</th>\n",
              "      <td>0.0</td>\n",
              "      <td>0.0</td>\n",
              "      <td>0.0</td>\n",
              "      <td>0.0</td>\n",
              "      <td>0.0</td>\n",
              "      <td>0.0</td>\n",
              "      <td>0.0</td>\n",
              "      <td>0.007843</td>\n",
              "      <td>0.007874</td>\n",
              "      <td>0.0</td>\n",
              "      <td>...</td>\n",
              "      <td>0.003922</td>\n",
              "      <td>0.000000</td>\n",
              "      <td>0.000000</td>\n",
              "      <td>0.00000</td>\n",
              "      <td>0.000000</td>\n",
              "      <td>0.0</td>\n",
              "      <td>0.0</td>\n",
              "      <td>0.0</td>\n",
              "      <td>0.0</td>\n",
              "      <td>0.0</td>\n",
              "    </tr>\n",
              "    <tr>\n",
              "      <th>2</th>\n",
              "      <td>0.0</td>\n",
              "      <td>0.0</td>\n",
              "      <td>0.0</td>\n",
              "      <td>0.0</td>\n",
              "      <td>0.0</td>\n",
              "      <td>0.0</td>\n",
              "      <td>0.0</td>\n",
              "      <td>0.000000</td>\n",
              "      <td>0.000000</td>\n",
              "      <td>0.0</td>\n",
              "      <td>...</td>\n",
              "      <td>0.000000</td>\n",
              "      <td>0.000000</td>\n",
              "      <td>0.000000</td>\n",
              "      <td>0.00000</td>\n",
              "      <td>0.000000</td>\n",
              "      <td>0.0</td>\n",
              "      <td>0.0</td>\n",
              "      <td>0.0</td>\n",
              "      <td>0.0</td>\n",
              "      <td>0.0</td>\n",
              "    </tr>\n",
              "    <tr>\n",
              "      <th>3</th>\n",
              "      <td>0.0</td>\n",
              "      <td>0.0</td>\n",
              "      <td>0.0</td>\n",
              "      <td>0.0</td>\n",
              "      <td>0.0</td>\n",
              "      <td>0.0</td>\n",
              "      <td>0.0</td>\n",
              "      <td>0.000000</td>\n",
              "      <td>0.000000</td>\n",
              "      <td>0.0</td>\n",
              "      <td>...</td>\n",
              "      <td>0.000000</td>\n",
              "      <td>0.000000</td>\n",
              "      <td>0.364706</td>\n",
              "      <td>0.67451</td>\n",
              "      <td>0.207843</td>\n",
              "      <td>0.0</td>\n",
              "      <td>0.0</td>\n",
              "      <td>0.0</td>\n",
              "      <td>0.0</td>\n",
              "      <td>0.0</td>\n",
              "    </tr>\n",
              "    <tr>\n",
              "      <th>4</th>\n",
              "      <td>0.0</td>\n",
              "      <td>0.0</td>\n",
              "      <td>0.0</td>\n",
              "      <td>0.0</td>\n",
              "      <td>0.0</td>\n",
              "      <td>0.0</td>\n",
              "      <td>0.0</td>\n",
              "      <td>0.000000</td>\n",
              "      <td>0.000000</td>\n",
              "      <td>0.0</td>\n",
              "      <td>...</td>\n",
              "      <td>0.000000</td>\n",
              "      <td>0.000000</td>\n",
              "      <td>0.000000</td>\n",
              "      <td>0.00000</td>\n",
              "      <td>0.000000</td>\n",
              "      <td>0.0</td>\n",
              "      <td>0.0</td>\n",
              "      <td>0.0</td>\n",
              "      <td>0.0</td>\n",
              "      <td>0.0</td>\n",
              "    </tr>\n",
              "  </tbody>\n",
              "</table>\n",
              "<p>5 rows × 784 columns</p>\n",
              "</div>\n",
              "      <button class=\"colab-df-convert\" onclick=\"convertToInteractive('df-a9514f6c-f4d2-45ad-a715-0d6d1cadf414')\"\n",
              "              title=\"Convert this dataframe to an interactive table.\"\n",
              "              style=\"display:none;\">\n",
              "        \n",
              "  <svg xmlns=\"http://www.w3.org/2000/svg\" height=\"24px\"viewBox=\"0 0 24 24\"\n",
              "       width=\"24px\">\n",
              "    <path d=\"M0 0h24v24H0V0z\" fill=\"none\"/>\n",
              "    <path d=\"M18.56 5.44l.94 2.06.94-2.06 2.06-.94-2.06-.94-.94-2.06-.94 2.06-2.06.94zm-11 1L8.5 8.5l.94-2.06 2.06-.94-2.06-.94L8.5 2.5l-.94 2.06-2.06.94zm10 10l.94 2.06.94-2.06 2.06-.94-2.06-.94-.94-2.06-.94 2.06-2.06.94z\"/><path d=\"M17.41 7.96l-1.37-1.37c-.4-.4-.92-.59-1.43-.59-.52 0-1.04.2-1.43.59L10.3 9.45l-7.72 7.72c-.78.78-.78 2.05 0 2.83L4 21.41c.39.39.9.59 1.41.59.51 0 1.02-.2 1.41-.59l7.78-7.78 2.81-2.81c.8-.78.8-2.07 0-2.86zM5.41 20L4 18.59l7.72-7.72 1.47 1.35L5.41 20z\"/>\n",
              "  </svg>\n",
              "      </button>\n",
              "      \n",
              "  <style>\n",
              "    .colab-df-container {\n",
              "      display:flex;\n",
              "      flex-wrap:wrap;\n",
              "      gap: 12px;\n",
              "    }\n",
              "\n",
              "    .colab-df-convert {\n",
              "      background-color: #E8F0FE;\n",
              "      border: none;\n",
              "      border-radius: 50%;\n",
              "      cursor: pointer;\n",
              "      display: none;\n",
              "      fill: #1967D2;\n",
              "      height: 32px;\n",
              "      padding: 0 0 0 0;\n",
              "      width: 32px;\n",
              "    }\n",
              "\n",
              "    .colab-df-convert:hover {\n",
              "      background-color: #E2EBFA;\n",
              "      box-shadow: 0px 1px 2px rgba(60, 64, 67, 0.3), 0px 1px 3px 1px rgba(60, 64, 67, 0.15);\n",
              "      fill: #174EA6;\n",
              "    }\n",
              "\n",
              "    [theme=dark] .colab-df-convert {\n",
              "      background-color: #3B4455;\n",
              "      fill: #D2E3FC;\n",
              "    }\n",
              "\n",
              "    [theme=dark] .colab-df-convert:hover {\n",
              "      background-color: #434B5C;\n",
              "      box-shadow: 0px 1px 3px 1px rgba(0, 0, 0, 0.15);\n",
              "      filter: drop-shadow(0px 1px 2px rgba(0, 0, 0, 0.3));\n",
              "      fill: #FFFFFF;\n",
              "    }\n",
              "  </style>\n",
              "\n",
              "      <script>\n",
              "        const buttonEl =\n",
              "          document.querySelector('#df-a9514f6c-f4d2-45ad-a715-0d6d1cadf414 button.colab-df-convert');\n",
              "        buttonEl.style.display =\n",
              "          google.colab.kernel.accessAllowed ? 'block' : 'none';\n",
              "\n",
              "        async function convertToInteractive(key) {\n",
              "          const element = document.querySelector('#df-a9514f6c-f4d2-45ad-a715-0d6d1cadf414');\n",
              "          const dataTable =\n",
              "            await google.colab.kernel.invokeFunction('convertToInteractive',\n",
              "                                                     [key], {});\n",
              "          if (!dataTable) return;\n",
              "\n",
              "          const docLinkHtml = 'Like what you see? Visit the ' +\n",
              "            '<a target=\"_blank\" href=https://colab.research.google.com/notebooks/data_table.ipynb>data table notebook</a>'\n",
              "            + ' to learn more about interactive tables.';\n",
              "          element.innerHTML = '';\n",
              "          dataTable['output_type'] = 'display_data';\n",
              "          await google.colab.output.renderOutput(dataTable, element);\n",
              "          const docLink = document.createElement('div');\n",
              "          docLink.innerHTML = docLinkHtml;\n",
              "          element.appendChild(docLink);\n",
              "        }\n",
              "      </script>\n",
              "    </div>\n",
              "  </div>\n",
              "  "
            ]
          },
          "metadata": {},
          "execution_count": 21
        }
      ]
    },
    {
      "cell_type": "code",
      "execution_count": 22,
      "metadata": {
        "colab": {
          "base_uri": "https://localhost:8080/"
        },
        "id": "e2p6JdOh1n9A",
        "outputId": "71a909b8-52b3-4dad-88af-95aa8c73d0eb"
      },
      "outputs": [
        {
          "output_type": "stream",
          "name": "stdout",
          "text": [
            "Epoch 1/3\n",
            "432/432 [==============================] - 4s 3ms/step - loss: 0.6876 - accuracy: 0.7448 - val_loss: 0.4929 - val_accuracy: 0.8181\n",
            "Epoch 2/3\n",
            "432/432 [==============================] - 1s 3ms/step - loss: 0.5494 - accuracy: 0.8006 - val_loss: 0.4500 - val_accuracy: 0.8373\n",
            "Epoch 3/3\n",
            "432/432 [==============================] - 1s 3ms/step - loss: 0.5149 - accuracy: 0.8147 - val_loss: 0.4186 - val_accuracy: 0.8492\n"
          ]
        },
        {
          "output_type": "execute_result",
          "data": {
            "text/plain": [
              "<keras.callbacks.History at 0x7f3c96826290>"
            ]
          },
          "metadata": {},
          "execution_count": 22
        }
      ],
      "source": [
        "# Sequential model using scaled data \n",
        "model=keras.Sequential([\n",
        "        layers.Flatten(input_shape=(784,)),\n",
        "        layers.Dense(64, activation='relu'),\n",
        "        layers.Dropout(0.25),\n",
        "        layers.Dense(32, activation='relu'),\n",
        "        layers.Dense(10, activation='softmax')    \n",
        "    ])\n",
        "\n",
        "model.compile(optimizer=Adam(learning_rate=0.01),\n",
        "              loss='categorical_crossentropy',\n",
        "              metrics=['accuracy'])\n",
        "\n",
        "model.fit(X_train_scaled, y_train_df,validation_split=0.1,batch_size=100, epochs=3,shuffle=True)"
      ]
    },
    {
      "cell_type": "code",
      "execution_count": 23,
      "metadata": {
        "id": "Ufs0uhqB1oAQ",
        "colab": {
          "base_uri": "https://localhost:8080/"
        },
        "outputId": "fdd32ea6-e537-40fa-a7d5-589207844687"
      },
      "outputs": [
        {
          "output_type": "execute_result",
          "data": {
            "text/plain": [
              "array([[6.45031150e-07, 9.99983788e-01, 1.84577287e-09, ...,\n",
              "        9.51501139e-13, 2.54259280e-08, 8.09136959e-12],\n",
              "       [2.61193048e-03, 1.40348997e-03, 6.85992882e-06, ...,\n",
              "        4.80569775e-15, 3.17417216e-05, 2.38189690e-09],\n",
              "       [4.12805730e-06, 9.99881268e-01, 3.15137627e-09, ...,\n",
              "        1.23986813e-12, 1.66187533e-07, 8.37169847e-11],\n",
              "       ...,\n",
              "       [2.12900519e-01, 1.34097375e-02, 9.23579708e-02, ...,\n",
              "        7.02915804e-06, 6.78412663e-03, 2.97642953e-04],\n",
              "       [9.17238057e-01, 1.71432134e-07, 2.94703146e-04, ...,\n",
              "        2.54441080e-21, 5.02833331e-08, 3.65693363e-14],\n",
              "       [1.51837403e-02, 6.68544963e-05, 8.99642944e-01, ...,\n",
              "        4.41665315e-10, 2.64966482e-04, 8.93858569e-08]], dtype=float32)"
            ]
          },
          "metadata": {},
          "execution_count": 23
        }
      ],
      "source": [
        "y_pred=model.predict(X_test_scaled)\n",
        "y_pred\n"
      ]
    },
    {
      "cell_type": "code",
      "source": [
        "import numpy as np\n",
        "y_pred_list=[]\n",
        "for x in y_pred:\n",
        "  indices = np.where(x == x.max())\n",
        "  y_pred_list.append(indices[0][0])\n",
        "\n",
        "print(len(y_pred_list))\n"
      ],
      "metadata": {
        "colab": {
          "base_uri": "https://localhost:8080/"
        },
        "id": "Qq37ZtsBE62i",
        "outputId": "25beb87d-b53e-4d48-8f8c-28104de4e638"
      },
      "execution_count": 24,
      "outputs": [
        {
          "output_type": "stream",
          "name": "stdout",
          "text": [
            "12000\n"
          ]
        }
      ]
    },
    {
      "cell_type": "code",
      "source": [
        "type(y_test)"
      ],
      "metadata": {
        "colab": {
          "base_uri": "https://localhost:8080/"
        },
        "id": "aNG0cvrRH0d2",
        "outputId": "f28b084f-6341-40a4-8378-001065024e8f"
      },
      "execution_count": 25,
      "outputs": [
        {
          "output_type": "execute_result",
          "data": {
            "text/plain": [
              "numpy.ndarray"
            ]
          },
          "metadata": {},
          "execution_count": 25
        }
      ]
    },
    {
      "cell_type": "code",
      "source": [
        "y_test_df=pd.DataFrame(y_test)\n",
        "y_test_df.head(5)"
      ],
      "metadata": {
        "colab": {
          "base_uri": "https://localhost:8080/",
          "height": 195
        },
        "id": "52mh7C6CH-oo",
        "outputId": "94a25776-6329-4b8c-a5ba-89f30283662b"
      },
      "execution_count": 102,
      "outputs": [
        {
          "output_type": "execute_result",
          "data": {
            "text/plain": [
              "     0    1    2    3    4    5    6    7    8    9\n",
              "0  0.0  0.0  1.0  0.0  0.0  0.0  0.0  0.0  0.0  0.0\n",
              "1  0.0  0.0  0.0  0.0  0.0  0.0  1.0  0.0  0.0  0.0\n",
              "2  0.0  0.0  0.0  0.0  0.0  0.0  1.0  0.0  0.0  0.0\n",
              "3  0.0  0.0  0.0  0.0  0.0  0.0  0.0  0.0  1.0  0.0\n",
              "4  0.0  0.0  0.0  0.0  0.0  0.0  1.0  0.0  0.0  0.0"
            ],
            "text/html": [
              "\n",
              "  <div id=\"df-d2a18381-fcdd-4cb1-aa20-2e4fe93c3e96\">\n",
              "    <div class=\"colab-df-container\">\n",
              "      <div>\n",
              "<style scoped>\n",
              "    .dataframe tbody tr th:only-of-type {\n",
              "        vertical-align: middle;\n",
              "    }\n",
              "\n",
              "    .dataframe tbody tr th {\n",
              "        vertical-align: top;\n",
              "    }\n",
              "\n",
              "    .dataframe thead th {\n",
              "        text-align: right;\n",
              "    }\n",
              "</style>\n",
              "<table border=\"1\" class=\"dataframe\">\n",
              "  <thead>\n",
              "    <tr style=\"text-align: right;\">\n",
              "      <th></th>\n",
              "      <th>0</th>\n",
              "      <th>1</th>\n",
              "      <th>2</th>\n",
              "      <th>3</th>\n",
              "      <th>4</th>\n",
              "      <th>5</th>\n",
              "      <th>6</th>\n",
              "      <th>7</th>\n",
              "      <th>8</th>\n",
              "      <th>9</th>\n",
              "    </tr>\n",
              "  </thead>\n",
              "  <tbody>\n",
              "    <tr>\n",
              "      <th>0</th>\n",
              "      <td>0.0</td>\n",
              "      <td>0.0</td>\n",
              "      <td>1.0</td>\n",
              "      <td>0.0</td>\n",
              "      <td>0.0</td>\n",
              "      <td>0.0</td>\n",
              "      <td>0.0</td>\n",
              "      <td>0.0</td>\n",
              "      <td>0.0</td>\n",
              "      <td>0.0</td>\n",
              "    </tr>\n",
              "    <tr>\n",
              "      <th>1</th>\n",
              "      <td>0.0</td>\n",
              "      <td>0.0</td>\n",
              "      <td>0.0</td>\n",
              "      <td>0.0</td>\n",
              "      <td>0.0</td>\n",
              "      <td>0.0</td>\n",
              "      <td>1.0</td>\n",
              "      <td>0.0</td>\n",
              "      <td>0.0</td>\n",
              "      <td>0.0</td>\n",
              "    </tr>\n",
              "    <tr>\n",
              "      <th>2</th>\n",
              "      <td>0.0</td>\n",
              "      <td>0.0</td>\n",
              "      <td>0.0</td>\n",
              "      <td>0.0</td>\n",
              "      <td>0.0</td>\n",
              "      <td>0.0</td>\n",
              "      <td>1.0</td>\n",
              "      <td>0.0</td>\n",
              "      <td>0.0</td>\n",
              "      <td>0.0</td>\n",
              "    </tr>\n",
              "    <tr>\n",
              "      <th>3</th>\n",
              "      <td>0.0</td>\n",
              "      <td>0.0</td>\n",
              "      <td>0.0</td>\n",
              "      <td>0.0</td>\n",
              "      <td>0.0</td>\n",
              "      <td>0.0</td>\n",
              "      <td>0.0</td>\n",
              "      <td>0.0</td>\n",
              "      <td>1.0</td>\n",
              "      <td>0.0</td>\n",
              "    </tr>\n",
              "    <tr>\n",
              "      <th>4</th>\n",
              "      <td>0.0</td>\n",
              "      <td>0.0</td>\n",
              "      <td>0.0</td>\n",
              "      <td>0.0</td>\n",
              "      <td>0.0</td>\n",
              "      <td>0.0</td>\n",
              "      <td>1.0</td>\n",
              "      <td>0.0</td>\n",
              "      <td>0.0</td>\n",
              "      <td>0.0</td>\n",
              "    </tr>\n",
              "  </tbody>\n",
              "</table>\n",
              "</div>\n",
              "      <button class=\"colab-df-convert\" onclick=\"convertToInteractive('df-d2a18381-fcdd-4cb1-aa20-2e4fe93c3e96')\"\n",
              "              title=\"Convert this dataframe to an interactive table.\"\n",
              "              style=\"display:none;\">\n",
              "        \n",
              "  <svg xmlns=\"http://www.w3.org/2000/svg\" height=\"24px\"viewBox=\"0 0 24 24\"\n",
              "       width=\"24px\">\n",
              "    <path d=\"M0 0h24v24H0V0z\" fill=\"none\"/>\n",
              "    <path d=\"M18.56 5.44l.94 2.06.94-2.06 2.06-.94-2.06-.94-.94-2.06-.94 2.06-2.06.94zm-11 1L8.5 8.5l.94-2.06 2.06-.94-2.06-.94L8.5 2.5l-.94 2.06-2.06.94zm10 10l.94 2.06.94-2.06 2.06-.94-2.06-.94-.94-2.06-.94 2.06-2.06.94z\"/><path d=\"M17.41 7.96l-1.37-1.37c-.4-.4-.92-.59-1.43-.59-.52 0-1.04.2-1.43.59L10.3 9.45l-7.72 7.72c-.78.78-.78 2.05 0 2.83L4 21.41c.39.39.9.59 1.41.59.51 0 1.02-.2 1.41-.59l7.78-7.78 2.81-2.81c.8-.78.8-2.07 0-2.86zM5.41 20L4 18.59l7.72-7.72 1.47 1.35L5.41 20z\"/>\n",
              "  </svg>\n",
              "      </button>\n",
              "      \n",
              "  <style>\n",
              "    .colab-df-container {\n",
              "      display:flex;\n",
              "      flex-wrap:wrap;\n",
              "      gap: 12px;\n",
              "    }\n",
              "\n",
              "    .colab-df-convert {\n",
              "      background-color: #E8F0FE;\n",
              "      border: none;\n",
              "      border-radius: 50%;\n",
              "      cursor: pointer;\n",
              "      display: none;\n",
              "      fill: #1967D2;\n",
              "      height: 32px;\n",
              "      padding: 0 0 0 0;\n",
              "      width: 32px;\n",
              "    }\n",
              "\n",
              "    .colab-df-convert:hover {\n",
              "      background-color: #E2EBFA;\n",
              "      box-shadow: 0px 1px 2px rgba(60, 64, 67, 0.3), 0px 1px 3px 1px rgba(60, 64, 67, 0.15);\n",
              "      fill: #174EA6;\n",
              "    }\n",
              "\n",
              "    [theme=dark] .colab-df-convert {\n",
              "      background-color: #3B4455;\n",
              "      fill: #D2E3FC;\n",
              "    }\n",
              "\n",
              "    [theme=dark] .colab-df-convert:hover {\n",
              "      background-color: #434B5C;\n",
              "      box-shadow: 0px 1px 3px 1px rgba(0, 0, 0, 0.15);\n",
              "      filter: drop-shadow(0px 1px 2px rgba(0, 0, 0, 0.3));\n",
              "      fill: #FFFFFF;\n",
              "    }\n",
              "  </style>\n",
              "\n",
              "      <script>\n",
              "        const buttonEl =\n",
              "          document.querySelector('#df-d2a18381-fcdd-4cb1-aa20-2e4fe93c3e96 button.colab-df-convert');\n",
              "        buttonEl.style.display =\n",
              "          google.colab.kernel.accessAllowed ? 'block' : 'none';\n",
              "\n",
              "        async function convertToInteractive(key) {\n",
              "          const element = document.querySelector('#df-d2a18381-fcdd-4cb1-aa20-2e4fe93c3e96');\n",
              "          const dataTable =\n",
              "            await google.colab.kernel.invokeFunction('convertToInteractive',\n",
              "                                                     [key], {});\n",
              "          if (!dataTable) return;\n",
              "\n",
              "          const docLinkHtml = 'Like what you see? Visit the ' +\n",
              "            '<a target=\"_blank\" href=https://colab.research.google.com/notebooks/data_table.ipynb>data table notebook</a>'\n",
              "            + ' to learn more about interactive tables.';\n",
              "          element.innerHTML = '';\n",
              "          dataTable['output_type'] = 'display_data';\n",
              "          await google.colab.output.renderOutput(dataTable, element);\n",
              "          const docLink = document.createElement('div');\n",
              "          docLink.innerHTML = docLinkHtml;\n",
              "          element.appendChild(docLink);\n",
              "        }\n",
              "      </script>\n",
              "    </div>\n",
              "  </div>\n",
              "  "
            ]
          },
          "metadata": {},
          "execution_count": 102
        }
      ]
    },
    {
      "cell_type": "code",
      "source": [
        "def find_index(R):\n",
        "  val=R[R == 1.0].index[0]\n",
        "  return val\n",
        "\n",
        "y_test_df['target']= y_test_df.apply(lambda row: find_index(row), axis=1)\n",
        "y_test_df.head(5)\n",
        "y_test_df.shape\n"
      ],
      "metadata": {
        "colab": {
          "base_uri": "https://localhost:8080/"
        },
        "id": "Sb0wfNCrJWPQ",
        "outputId": "c7df0090-e19d-41a3-d025-9de6352e0f18"
      },
      "execution_count": 103,
      "outputs": [
        {
          "output_type": "execute_result",
          "data": {
            "text/plain": [
              "(6000, 11)"
            ]
          },
          "metadata": {},
          "execution_count": 103
        }
      ]
    },
    {
      "cell_type": "code",
      "source": [
        "y_test_list=y_test_df['target'].tolist()"
      ],
      "metadata": {
        "id": "eBdP1XVEbVr7"
      },
      "execution_count": 104,
      "outputs": []
    },
    {
      "cell_type": "code",
      "source": [
        "from sklearn.metrics import accuracy_score\n",
        "accuracy = accuracy_score(y_test_list, y_pred_list)\n",
        "print(\"Accuracy: %.2f%%\" % (accuracy * 100.0))"
      ],
      "metadata": {
        "colab": {
          "base_uri": "https://localhost:8080/"
        },
        "id": "rWUKCrYxCPAC",
        "outputId": "edeb8070-fae3-4b1a-e0b3-edaf3b106d2a"
      },
      "execution_count": 29,
      "outputs": [
        {
          "output_type": "stream",
          "name": "stdout",
          "text": [
            "Accuracy: 84.67%\n"
          ]
        }
      ]
    },
    {
      "cell_type": "code",
      "execution_count": 30,
      "metadata": {
        "id": "drD6f1EQ1oDq",
        "colab": {
          "base_uri": "https://localhost:8080/"
        },
        "outputId": "eceaace5-c77b-407f-f607-f70c39f06bb3"
      },
      "outputs": [
        {
          "output_type": "execute_result",
          "data": {
            "text/plain": [
              "(48000, 350)"
            ]
          },
          "metadata": {},
          "execution_count": 30
        }
      ],
      "source": [
        "from sklearn.decomposition import PCA\n",
        "\n",
        "pca = PCA(n_components=350)\n",
        "X_train_pca = pca.fit_transform(X_train_scaled)\n",
        "X_train_pca.shape"
      ]
    },
    {
      "cell_type": "code",
      "source": [
        "X_train_pca"
      ],
      "metadata": {
        "colab": {
          "base_uri": "https://localhost:8080/"
        },
        "id": "qVTKidVLOR9G",
        "outputId": "601e56a0-8bd8-4e2b-deca-3bf8421b9bf3"
      },
      "execution_count": 31,
      "outputs": [
        {
          "output_type": "execute_result",
          "data": {
            "text/plain": [
              "array([[ 2.41186698e+00, -5.58253406e+00,  1.53728674e+00, ...,\n",
              "         6.06249993e-02, -1.26317315e-02, -4.05167873e-02],\n",
              "       [ 3.35001004e+00,  3.44753288e-01, -2.19638310e+00, ...,\n",
              "        -1.15935035e-02,  3.81042337e-02, -8.76024364e-03],\n",
              "       [-2.11664291e+00,  5.78155309e+00,  4.20089950e+00, ...,\n",
              "         1.21957436e-01,  1.08739741e-03,  1.37630105e-02],\n",
              "       ...,\n",
              "       [-2.83271680e-01,  1.25519684e+00, -3.43165193e-01, ...,\n",
              "         5.96496274e-02, -1.43427911e-01,  3.39341904e-02],\n",
              "       [ 6.04631113e+00,  2.70232926e-01,  4.48856904e-02, ...,\n",
              "        -8.56139275e-02, -3.21613838e-02,  3.93095446e-02],\n",
              "       [-6.44175888e+00, -4.98082496e-01, -1.76379973e+00, ...,\n",
              "        -2.39387152e-02,  6.96712419e-02, -2.29704963e-01]])"
            ]
          },
          "metadata": {},
          "execution_count": 31
        }
      ]
    },
    {
      "cell_type": "code",
      "source": [
        "X_test_pca = pca.transform(X_test_scaled)\n",
        "X_test_pca.shape"
      ],
      "metadata": {
        "colab": {
          "base_uri": "https://localhost:8080/"
        },
        "id": "zi99RKcsuFqI",
        "outputId": "544c25ec-4d74-4a55-b035-699da477b36d"
      },
      "execution_count": 32,
      "outputs": [
        {
          "output_type": "execute_result",
          "data": {
            "text/plain": [
              "(12000, 350)"
            ]
          },
          "metadata": {},
          "execution_count": 32
        }
      ]
    },
    {
      "cell_type": "code",
      "source": [
        "y_train.shape"
      ],
      "metadata": {
        "colab": {
          "base_uri": "https://localhost:8080/"
        },
        "id": "Oyxi1f2R6mlC",
        "outputId": "aa788b42-0520-48ca-a030-3126c813a860"
      },
      "execution_count": 33,
      "outputs": [
        {
          "output_type": "execute_result",
          "data": {
            "text/plain": [
              "(48000, 10)"
            ]
          },
          "metadata": {},
          "execution_count": 33
        }
      ]
    },
    {
      "cell_type": "code",
      "source": [
        "\n",
        "# from xgboost import XGBClassifier\n",
        "# XGB_model = XGBClassifier(random_state =1)\n",
        "# # cv = cross_val_score(xgb,X_train_pca,y_train,cv=5)\n",
        "# # print(cv) \n",
        "# # print(cv.mean())\n",
        "\n",
        "# XGB_model.fit(X_train_pca, y_train_1D)"
      ],
      "metadata": {
        "id": "o6diBM6L6mwJ"
      },
      "execution_count": 34,
      "outputs": []
    },
    {
      "cell_type": "code",
      "source": [
        "# y_pred=XGB_model.predict(X_test_pca)"
      ],
      "metadata": {
        "id": "zmqWMqm77uE7"
      },
      "execution_count": 35,
      "outputs": []
    },
    {
      "cell_type": "code",
      "source": [
        "# from sklearn.metrics import accuracy_score\n",
        "# accuracy = accuracy_score(y_test_1D, y_pred)\n",
        "# print(\"Accuracy: %.2f%%\" % (accuracy * 100.0))"
      ],
      "metadata": {
        "id": "583j1bkh71XF"
      },
      "execution_count": 36,
      "outputs": []
    },
    {
      "cell_type": "code",
      "execution_count": 37,
      "metadata": {
        "colab": {
          "base_uri": "https://localhost:8080/"
        },
        "id": "cmIDWZjF1oGr",
        "outputId": "6a3c9b00-0495-4d3b-c91b-d8a3cf77ff44"
      },
      "outputs": [
        {
          "output_type": "stream",
          "name": "stdout",
          "text": [
            "Epoch 1/3\n",
            "432/432 [==============================] - 2s 3ms/step - loss: 0.5309 - accuracy: 0.8116 - val_loss: 0.3877 - val_accuracy: 0.8673\n",
            "Epoch 2/3\n",
            "432/432 [==============================] - 1s 3ms/step - loss: 0.4051 - accuracy: 0.8551 - val_loss: 0.3718 - val_accuracy: 0.8704\n",
            "Epoch 3/3\n",
            "432/432 [==============================] - 1s 3ms/step - loss: 0.3683 - accuracy: 0.8682 - val_loss: 0.3671 - val_accuracy: 0.8704\n"
          ]
        },
        {
          "output_type": "execute_result",
          "data": {
            "text/plain": [
              "<keras.callbacks.History at 0x7f3c9664d390>"
            ]
          },
          "metadata": {},
          "execution_count": 37
        }
      ],
      "source": [
        "# Sequential model using pca tranformed data\n",
        "model=keras.Sequential([\n",
        "        layers.Flatten(input_shape=(350,)),\n",
        "        layers.Dense(64, activation='relu'),\n",
        "        layers.Dropout(0.25),\n",
        "        layers.Dense(32, activation='relu'),\n",
        "        layers.Dense(10, activation='softmax')    \n",
        "    ])\n",
        "\n",
        "model.compile(optimizer=Adam(learning_rate=0.01),\n",
        "              loss='categorical_crossentropy',\n",
        "              metrics=['accuracy'])\n",
        "\n",
        "model.fit(X_train_pca, y_train_df,validation_split=0.1,batch_size=100, epochs=3,shuffle=True)"
      ]
    },
    {
      "cell_type": "code",
      "source": [
        "y_pred=model.predict(X_test_pca)\n",
        "y_pred"
      ],
      "metadata": {
        "colab": {
          "base_uri": "https://localhost:8080/"
        },
        "id": "Labpporoc2lA",
        "outputId": "6c58ba1c-10c1-4ca8-f389-d15d4fb0e8e0"
      },
      "execution_count": 38,
      "outputs": [
        {
          "output_type": "execute_result",
          "data": {
            "text/plain": [
              "array([[7.59906982e-09, 1.00000000e+00, 2.95212535e-11, ...,\n",
              "        1.27356179e-15, 6.23604224e-10, 1.63484109e-17],\n",
              "       [6.14919874e-04, 1.83095945e-05, 1.14083014e-06, ...,\n",
              "        2.76396100e-10, 4.67724058e-05, 1.60223976e-08],\n",
              "       [5.42516432e-08, 9.99998808e-01, 9.32852615e-11, ...,\n",
              "        5.20994482e-14, 9.54962776e-09, 6.56323267e-16],\n",
              "       ...,\n",
              "       [1.13849916e-01, 9.49754554e-04, 1.05752107e-02, ...,\n",
              "        5.07711434e-07, 1.00006703e-02, 3.43015699e-06],\n",
              "       [9.62294042e-01, 6.06134587e-10, 2.17094248e-06, ...,\n",
              "        2.55911768e-19, 2.99905745e-09, 1.73145043e-15],\n",
              "       [1.08122351e-02, 4.59914081e-05, 9.39981878e-01, ...,\n",
              "        1.43419241e-08, 5.36715728e-04, 3.55564197e-07]], dtype=float32)"
            ]
          },
          "metadata": {},
          "execution_count": 38
        }
      ]
    },
    {
      "cell_type": "code",
      "execution_count": 39,
      "metadata": {
        "colab": {
          "base_uri": "https://localhost:8080/"
        },
        "id": "WIprslVGfl9X",
        "outputId": "b4850052-a204-4eeb-9c43-ef0645152bcb"
      },
      "outputs": [
        {
          "output_type": "stream",
          "name": "stdout",
          "text": [
            "12000\n"
          ]
        }
      ],
      "source": [
        "import numpy as np\n",
        "y_pred_list=[]\n",
        "for x in y_pred:\n",
        "  indices = np.where(x == x.max())\n",
        "  y_pred_list.append(indices[0][0])\n",
        "\n",
        "print(len(y_pred_list))\n",
        "\n"
      ]
    },
    {
      "cell_type": "code",
      "source": [
        "from sklearn.metrics import accuracy_score\n",
        "accuracy = accuracy_score(y_test_list, y_pred_list)\n",
        "print(\"Accuracy: %.2f%%\" % (accuracy * 100.0))"
      ],
      "metadata": {
        "colab": {
          "base_uri": "https://localhost:8080/"
        },
        "id": "ZwsahwYcciPb",
        "outputId": "9083dacc-8661-49f1-a177-cfaf4496f7db"
      },
      "execution_count": 40,
      "outputs": [
        {
          "output_type": "stream",
          "name": "stdout",
          "text": [
            "Accuracy: 87.45%\n"
          ]
        }
      ]
    },
    {
      "cell_type": "code",
      "source": [
        "y_test"
      ],
      "metadata": {
        "colab": {
          "base_uri": "https://localhost:8080/"
        },
        "id": "J69jKFTEF0v4",
        "outputId": "43b68b40-2fc7-46eb-81a6-191841695a9e"
      },
      "execution_count": 41,
      "outputs": [
        {
          "output_type": "execute_result",
          "data": {
            "text/plain": [
              "array([[0., 1., 0., ..., 0., 0., 0.],\n",
              "       [0., 0., 0., ..., 0., 0., 0.],\n",
              "       [0., 1., 0., ..., 0., 0., 0.],\n",
              "       ...,\n",
              "       [0., 0., 0., ..., 0., 0., 0.],\n",
              "       [1., 0., 0., ..., 0., 0., 0.],\n",
              "       [0., 0., 1., ..., 0., 0., 0.]], dtype=float32)"
            ]
          },
          "metadata": {},
          "execution_count": 41
        }
      ]
    },
    {
      "cell_type": "code",
      "source": [
        "X_train_scaled.shape"
      ],
      "metadata": {
        "colab": {
          "base_uri": "https://localhost:8080/"
        },
        "id": "XCw02HuKK1e6",
        "outputId": "e6daac96-3fd8-41f1-bffc-bdffd2d44271"
      },
      "execution_count": 42,
      "outputs": [
        {
          "output_type": "execute_result",
          "data": {
            "text/plain": [
              "(48000, 784)"
            ]
          },
          "metadata": {},
          "execution_count": 42
        }
      ]
    },
    {
      "cell_type": "code",
      "source": [
        "X_train_scaled_reshape = X_train_scaled.values.reshape(-1,28,28,1).shape"
      ],
      "metadata": {
        "id": "0CbX6sFYY6Sv"
      },
      "execution_count": 43,
      "outputs": []
    },
    {
      "cell_type": "code",
      "source": [
        "X_train_pca = pd.DataFrame(X_train_pca)\n",
        "X_train_pca.shape"
      ],
      "metadata": {
        "colab": {
          "base_uri": "https://localhost:8080/"
        },
        "id": "evfUxuuN8RI3",
        "outputId": "c0a4da1a-3310-4ae9-e4ee-80bef5b3a6ab"
      },
      "execution_count": 44,
      "outputs": [
        {
          "output_type": "execute_result",
          "data": {
            "text/plain": [
              "(48000, 350)"
            ]
          },
          "metadata": {},
          "execution_count": 44
        }
      ]
    },
    {
      "cell_type": "code",
      "source": [
        "# X_train_pcaR = X_train_pca.values.reshape(-1,11,11,1).shape"
      ],
      "metadata": {
        "id": "TuoeIH_O8ket"
      },
      "execution_count": 45,
      "outputs": []
    },
    {
      "cell_type": "code",
      "source": [
        "type(X_train_pca)"
      ],
      "metadata": {
        "id": "t7UDn89JMMx_",
        "colab": {
          "base_uri": "https://localhost:8080/"
        },
        "outputId": "c242b789-242a-4cc2-d90b-a970910d48d3"
      },
      "execution_count": 46,
      "outputs": [
        {
          "output_type": "execute_result",
          "data": {
            "text/plain": [
              "pandas.core.frame.DataFrame"
            ]
          },
          "metadata": {},
          "execution_count": 46
        }
      ]
    },
    {
      "cell_type": "code",
      "source": [
        "X_train_pca.shape"
      ],
      "metadata": {
        "id": "SqJVWJH7Mq29",
        "colab": {
          "base_uri": "https://localhost:8080/"
        },
        "outputId": "5c06a526-dcaf-4fde-8950-3ca7dca3dda9"
      },
      "execution_count": 47,
      "outputs": [
        {
          "output_type": "execute_result",
          "data": {
            "text/plain": [
              "(48000, 350)"
            ]
          },
          "metadata": {},
          "execution_count": 47
        }
      ]
    },
    {
      "cell_type": "code",
      "source": [
        "# X_train_pca_reshape = X_train_pca.reshape(-1,11,11)"
      ],
      "metadata": {
        "id": "Rs6MZaLzK6O9"
      },
      "execution_count": 48,
      "outputs": []
    },
    {
      "cell_type": "code",
      "source": [
        "# X_train_pca_reshape"
      ],
      "metadata": {
        "id": "-6dLIRFEN8Gj"
      },
      "execution_count": 49,
      "outputs": []
    },
    {
      "cell_type": "code",
      "source": [
        "# X_train_pca_reshape.shape"
      ],
      "metadata": {
        "id": "o08UWUv7O-0D"
      },
      "execution_count": 50,
      "outputs": []
    },
    {
      "cell_type": "code",
      "source": [
        "X_train_scaled_reshape = X_train_scaled.values.reshape(-1,28,28,1)"
      ],
      "metadata": {
        "id": "jatKYU_vYkC_"
      },
      "execution_count": 51,
      "outputs": []
    },
    {
      "cell_type": "code",
      "source": [
        "X_test255_reshape=X_test_255.values.reshape(-1,28,28,1)\n",
        "X_train255_reshape=X_train_255.values.reshape(-1,28,28,1)\n"
      ],
      "metadata": {
        "id": "tfylpQehNra4"
      },
      "execution_count": 89,
      "outputs": []
    },
    {
      "cell_type": "code",
      "source": [
        "X_train_255"
      ],
      "metadata": {
        "id": "7PaHdTDXOgBD"
      },
      "execution_count": null,
      "outputs": []
    },
    {
      "cell_type": "code",
      "source": [
        "X_train_scaled_reshape.shape"
      ],
      "metadata": {
        "id": "vaD8MEc3Yuik",
        "colab": {
          "base_uri": "https://localhost:8080/"
        },
        "outputId": "645e29c7-710a-4f85-da14-4dbb8d14ae66"
      },
      "execution_count": 52,
      "outputs": [
        {
          "output_type": "execute_result",
          "data": {
            "text/plain": [
              "(48000, 28, 28, 1)"
            ]
          },
          "metadata": {},
          "execution_count": 52
        }
      ]
    },
    {
      "cell_type": "code",
      "source": [
        "y_train.shape"
      ],
      "metadata": {
        "colab": {
          "base_uri": "https://localhost:8080/"
        },
        "id": "schoY0QAj53m",
        "outputId": "8719028b-9b96-4eb4-bfae-5c84cc14d815"
      },
      "execution_count": 53,
      "outputs": [
        {
          "output_type": "execute_result",
          "data": {
            "text/plain": [
              "(48000, 10)"
            ]
          },
          "metadata": {},
          "execution_count": 53
        }
      ]
    },
    {
      "cell_type": "code",
      "source": [
        "type(X_train_scaled)"
      ],
      "metadata": {
        "colab": {
          "base_uri": "https://localhost:8080/"
        },
        "id": "OusSkWsrRxQM",
        "outputId": "5abd090d-7d6b-4e46-f4e8-00d31da36319"
      },
      "execution_count": 54,
      "outputs": [
        {
          "output_type": "execute_result",
          "data": {
            "text/plain": [
              "pandas.core.frame.DataFrame"
            ]
          },
          "metadata": {},
          "execution_count": 54
        }
      ]
    },
    {
      "cell_type": "code",
      "execution_count": 55,
      "metadata": {
        "colab": {
          "base_uri": "https://localhost:8080/"
        },
        "id": "ZjK7h0HMfmIL",
        "outputId": "ffadb11f-0feb-4008-a1c7-3ddc056a8852"
      },
      "outputs": [
        {
          "output_type": "stream",
          "name": "stdout",
          "text": [
            "Epoch 1/3\n",
            "768/768 [==============================] - 11s 4ms/step - loss: 0.4943 - accuracy: 0.8218 - val_loss: 0.3703 - val_accuracy: 0.8689\n",
            "Epoch 2/3\n",
            "768/768 [==============================] - 3s 4ms/step - loss: 0.3581 - accuracy: 0.8725 - val_loss: 0.3398 - val_accuracy: 0.8833\n",
            "Epoch 3/3\n",
            "768/768 [==============================] - 3s 4ms/step - loss: 0.3248 - accuracy: 0.8842 - val_loss: 0.3840 - val_accuracy: 0.8558\n"
          ]
        },
        {
          "output_type": "execute_result",
          "data": {
            "text/plain": [
              "<keras.callbacks.History at 0x7f3c802459d0>"
            ]
          },
          "metadata": {},
          "execution_count": 55
        }
      ],
      "source": [
        "# CNN without dropout layers \n",
        "              \n",
        "model = Sequential()\n",
        "convolutional = Sequential([\n",
        "    Conv2D(filters=6, kernel_size=(3, 3), input_shape=(28,28,1),activation='relu', padding='same'), \n",
        "    MaxPool2D(pool_size=(2, 2)),\n",
        "    \n",
        "    Conv2D(filters=5, kernel_size=(3, 3), activation='relu',padding='same'), \n",
        "    # Conv2D(filters=48, kernel_size=(3, 3), activation='relu',padding='same'),\n",
        "    Flatten(),\n",
        "    Dense(units=15, activation='relu'),\n",
        "    Flatten(),\n",
        "    Dense(units=10, activation='softmax'),\n",
        "    ])\n",
        "\n",
        "convolutional.compile(optimizer=Adam(learning_rate=0.01),\n",
        "              loss='categorical_crossentropy',\n",
        "              metrics=['accuracy'])\n",
        "\n",
        "convolutional.fit(X_train_scaled_reshape, y_train,validation_split=0.2,batch_size=50, epochs=3,shuffle=True)"
      ]
    },
    {
      "cell_type": "code",
      "source": [
        "X_test_scaled_reshape = X_test_scaled.values.reshape(-1,28,28,1)"
      ],
      "metadata": {
        "id": "d--VRwEodrm8"
      },
      "execution_count": 56,
      "outputs": []
    },
    {
      "cell_type": "code",
      "source": [
        "X_test_scaled_reshape.shape"
      ],
      "metadata": {
        "colab": {
          "base_uri": "https://localhost:8080/"
        },
        "id": "c52vrgakdr8K",
        "outputId": "9f76d2a2-bc40-4f7b-f72e-dd9d8bcc720d"
      },
      "execution_count": 57,
      "outputs": [
        {
          "output_type": "execute_result",
          "data": {
            "text/plain": [
              "(12000, 28, 28, 1)"
            ]
          },
          "metadata": {},
          "execution_count": 57
        }
      ]
    },
    {
      "cell_type": "code",
      "source": [
        "y_pred=model.predict(X_test_scaled_reshape)\n"
      ],
      "metadata": {
        "id": "SLWIoeaWdsHv"
      },
      "execution_count": 58,
      "outputs": []
    },
    {
      "cell_type": "code",
      "execution_count": 60,
      "metadata": {
        "id": "1_bj8Fm51oJ5",
        "colab": {
          "base_uri": "https://localhost:8080/"
        },
        "outputId": "8725e472-9c31-4172-fca0-d81c18839fee"
      },
      "outputs": [
        {
          "output_type": "stream",
          "name": "stdout",
          "text": [
            "[10, 1, 1, 2, 18, 2, 1, 6, 10, 8, 6, 1, 15, 15, 26, 14, 24, 8, 13, 15, 7, 22, 20, 1, 23, 26, 21, 21, 5, 4, 2, 2, 1, 12, 15, 1, 18, 8, 22, 6, 22, 24, 9, 26, 11, 18, 8, 7, 1, 26, 26, 22, 10, 18, 9, 1, 12, 1, 15, 14, 9, 19, 1, 1, 15, 23, 1, 2, 17, 13, 22, 3, 12, 8, 14, 12, 19, 13, 10, 1, 1, 20, 12, 5, 1, 1, 11, 16, 2, 17, 12, 1, 15, 5, 9, 22, 26, 11, 7, 1, 17, 1, 10, 14, 1, 26, 13, 1, 1, 1, 15, 14, 16, 13, 16, 5, 20, 23, 4, 1, 16, 19, 11, 22, 7, 26, 15, 1, 15, 1, 1, 1, 1, 25, 1, 1, 2, 4, 11, 1, 5, 14, 14, 1, 17, 10, 8, 5, 11, 12, 1, 11, 12, 1, 20, 3, 1, 6, 1, 16, 10, 12, 1, 17, 9, 11, 9, 1, 9, 18, 11, 0, 16, 1, 18, 21, 6, 14, 16, 8, 13, 2, 19, 12, 18, 5, 11, 2, 17, 1, 1, 22, 1, 21, 1, 9, 19, 20, 20, 1, 17, 2, 12, 1, 18, 8, 14, 6, 1, 19, 0, 0, 2, 11, 26, 9, 12, 22, 21, 13, 24, 21, 20, 16, 26, 1, 13, 8, 13, 17, 19, 1, 26, 9, 4, 2, 12, 3, 12, 17, 11, 14, 5, 3, 2, 10, 2, 26, 1, 1, 3, 1, 26, 8, 22, 1, 16, 1, 1, 2, 23, 1, 10, 8, 11, 2, 1, 19, 5, 19, 20, 17, 9, 14, 26, 9, 0, 1, 10, 17, 11, 3, 16, 1, 2, 21, 13, 14, 1, 19, 2, 22, 12, 8, 2, 9, 1, 1, 1, 10, 5, 17, 1, 7, 3, 26, 11, 4, 5, 1, 2, 20, 1, 18, 8, 1, 10, 9, 1, 1, 20, 1, 26, 15, 9, 1, 3, 12, 16, 26, 16, 1, 1, 2, 2, 26, 1, 26, 14, 5, 13, 3, 8, 1, 1, 11, 23, 15, 10, 11, 12, 16, 13, 19, 14, 11, 9, 21, 13, 1, 24, 15, 1, 1, 2, 1, 12, 11, 10, 2, 3, 1, 1, 25, 7, 5, 11, 5, 7, 11, 10, 1, 1, 1, 1, 1, 11, 13, 15, 2, 12, 22, 1, 22, 2, 10, 17, 8, 10, 15, 15, 1, 1, 1, 2, 23, 15, 16, 6, 12, 18, 1, 8, 9, 2, 2, 27, 17, 22, 22, 16, 6, 20, 12, 11, 10, 17, 1, 2, 20, 9, 11, 12, 7, 18, 14, 11, 10, 2, 5, 17, 16, 3, 13, 9, 16, 13, 7, 15, 5, 10, 21, 26, 1, 11, 20, 26, 2, 1, 25, 16, 10, 1, 12, 26, 2, 4, 1, 5, 12, 9, 10, 2, 1, 12, 7, 1, 1, 16, 26, 2, 13, 8, 2, 9, 2, 10, 1, 12, 5, 4, 5, 4, 24, 1, 9, 12, 2, 19, 18, 1, 18, 15, 1, 19, 6, 1, 11, 26, 26, 21, 10, 14, 2, 1, 26, 14, 0, 3, 1, 15, 12, 13, 5, 1, 15, 11, 24, 1, 21, 1, 12, 23, 11, 7, 16, 10, 8, 16, 11, 10, 0, 17, 16, 19, 18, 1, 22, 13, 26, 12, 19, 6, 6, 1, 2, 15, 1, 1, 10, 12, 20, 11, 8, 8, 10, 1, 26, 15, 1, 16, 1, 1, 22, 1, 9, 4, 1, 12, 2, 2, 16, 15, 1, 1, 6, 1, 1, 21, 2, 13, 2, 10, 9, 14, 1, 14, 8, 15, 20, 18, 1, 1, 1, 26, 6, 11, 0, 19, 18, 12, 1, 1, 26, 2, 2, 1, 1, 26, 8, 1, 22, 16, 1, 13, 13, 10, 1, 24, 13, 1, 5, 2, 16, 3, 26, 20, 25, 14, 1, 1, 3, 11, 10, 1, 25, 17, 9, 26, 15, 6, 3, 17, 3, 1, 17, 19, 3, 11, 2, 1, 1, 20, 16, 14, 20, 5, 7, 5, 26, 26, 15, 0, 14, 1, 10, 1, 3, 1, 9, 2, 12, 2, 14, 11, 1, 1, 1, 17, 11, 10, 1, 10, 19, 25, 8, 21, 11, 10, 11, 10, 10, 5, 6, 1, 17, 13, 17, 10, 26, 3, 1, 9, 1, 12, 11, 22, 8, 17, 7, 6, 1, 7, 24, 1, 4, 1, 8, 7, 21, 1, 1, 11, 14, 1, 9, 2, 14, 10, 6, 1, 3, 10, 5, 1, 11, 15, 17, 12, 1, 8, 3, 1, 1, 2, 24, 14, 17, 10, 17, 7, 20, 26, 15, 1, 2, 10, 1, 14, 1, 1, 25, 1, 17, 20, 1, 13, 25, 10, 11, 1, 13, 10, 20, 23, 3, 5, 18, 10, 1, 4, 14, 26, 18, 26, 1, 11, 1, 1, 15, 1, 11, 2, 8, 4, 12, 18, 8, 10, 6, 1, 12, 1, 17, 11, 6, 1, 25, 9, 13, 17, 18, 9, 21, 12, 7, 22, 6, 15, 1, 26, 4, 17, 1, 17, 1, 1, 17, 1, 2, 15, 11, 1, 13, 21, 11, 14, 2, 3, 1, 3, 6, 6, 3, 12, 2, 23, 1, 22, 18, 1, 2, 18, 13, 8, 14, 1, 13, 3, 13, 12, 1, 1, 13, 1, 14, 19, 15, 21, 19, 1, 12, 10, 14, 15, 10, 9, 11, 22, 9, 11, 14, 12, 9, 9, 11, 1, 1, 3, 15, 16, 10, 1, 16, 1, 9, 10, 25, 4, 24, 6, 10, 1, 9, 26, 12, 17, 1, 14, 17, 26, 2, 15, 10, 9, 7, 26, 17, 9, 9, 1, 15, 12, 11, 19, 1, 12, 17, 13, 8, 12, 16, 1, 1, 14, 1, 9, 2, 1, 12, 26, 3, 14, 5, 1, 16, 21, 13, 11, 2, 17, 1, 18, 15, 1, 1, 1, 5, 18, 16, 11, 3, 6, 1, 12, 20, 14, 21, 14, 2, 18, 24, 1, 7, 4, 25, 12, 10, 15, 7, 7, 20, 13, 7, 4, 9, 7, 20, 6, 1, 10, 15, 1, 5, 10, 13, 21, 9, 8, 26, 1, 26, 26, 2, 4, 26, 1, 22, 21, 1, 1, 23, 6, 1, 6, 22, 1, 21, 13, 3, 18, 12, 1, 6, 8, 8, 1, 1, 13, 17, 2, 11, 7, 1, 16, 16, 18, 6, 4, 26, 26, 6, 1, 16, 11, 18, 25, 1, 14, 23, 1, 17, 3, 17, 10, 1, 18, 4, 13, 1, 22, 13, 22, 1, 1, 1, 18, 15, 11, 21, 4, 26, 16, 2, 9, 26, 9, 1, 15, 22, 17, 1, 13, 1, 13, 23, 10, 19, 4, 1, 13, 2, 26, 20, 9, 8, 1, 16, 15, 1, 11, 1, 1, 12, 24, 7, 18, 21, 11, 8, 1, 1, 9, 12, 23, 1, 19, 14, 7, 8, 6, 2, 9, 14, 11, 5, 2, 2, 1, 13, 1, 21, 26, 10, 9, 1, 1, 0, 11, 18, 21, 1, 1, 21, 0, 7, 3, 8, 6, 19, 9, 8, 10, 1, 9, 15, 13, 11, 19, 9, 16, 2, 1, 1, 15, 14, 19, 1, 1, 9, 11, 25, 9, 3, 26, 5, 1, 4, 15, 11, 7, 3, 5, 14, 1, 16, 26, 25, 1, 1, 16, 12, 25, 18, 1, 10, 1, 25, 11, 2, 10, 26, 7, 1, 10, 22, 1, 26, 15, 17, 1, 15, 18, 1, 12, 2, 6, 13, 23, 16, 19, 15, 4, 24, 1, 13, 20, 13, 19, 1, 21, 1, 12, 9, 1, 16, 21, 1, 1, 15, 1, 8, 8, 17, 13, 5, 4, 4, 1, 13, 22, 10, 8, 1, 2, 7, 1, 1, 18, 5, 19, 17, 8, 26, 9, 2, 9, 17, 18, 10, 11, 21, 13, 1, 1, 6, 1, 25, 26, 22, 14, 11, 1, 14, 16, 15, 14, 16, 16, 3, 0, 9, 9, 11, 8, 6, 18, 11, 1, 7, 4, 12, 26, 1, 11, 8, 4, 3, 1, 11, 3, 26, 16, 16, 2, 1, 1, 1, 9, 21, 11, 16, 13, 18, 1, 1, 21, 15, 2, 25, 17, 1, 12, 13, 13, 13, 16, 17, 0, 15, 9, 7, 23, 10, 7, 19, 1, 26, 18, 12, 12, 20, 18, 9, 12, 7, 18, 2, 1, 10, 10, 20, 5, 14, 15, 26, 14, 2, 16, 1, 11, 1, 1, 19, 1, 12, 11, 20, 12, 2, 21, 13, 4, 7, 9, 6, 16, 6, 1, 1, 18, 1, 12, 7, 26, 14, 5, 17, 17, 3, 13, 18, 14, 25, 18, 12, 12, 1, 11, 12, 26, 26, 14, 26, 15, 1, 10, 1, 26, 18, 7, 14, 10, 6, 11, 7, 1, 4, 12, 1, 1, 6, 1, 26, 8, 9, 2, 1, 26, 12, 8, 13, 26, 6, 1, 16, 6, 6, 1, 17, 24, 26, 10, 12, 1, 1, 21, 4, 3, 18, 14, 18, 20, 5, 18, 10, 7, 13, 9, 19, 9, 26, 12, 13, 5, 7, 5, 2, 1, 1, 2, 22, 16, 15, 24, 12, 22, 21, 10, 18, 5, 15, 15, 14, 1, 1, 16, 1, 4, 2, 16, 14, 26, 1, 6, 12, 1, 20, 2, 20, 5, 1, 15, 16, 12, 18, 14, 20, 19, 10, 1, 13, 2, 18, 10, 16, 1, 18, 12, 1, 1, 13, 12, 24, 7, 8, 25, 1, 7, 26, 18, 1, 26, 26, 1, 13, 25, 17, 5, 1, 1, 26, 2, 20, 5, 9, 10, 13, 14, 1, 13, 1, 12, 1, 2, 11, 1, 5, 13, 21, 1, 1, 9, 1, 2, 3, 10, 1, 1, 2, 20, 25, 26, 13, 19, 7, 26, 13, 18, 1, 2, 1, 11, 17, 9, 17, 1, 1, 13, 5, 2, 10, 1, 7, 13, 4, 19, 15, 14, 1, 23, 13, 14, 1, 24, 3, 10, 18, 6, 16, 11, 1, 11, 14, 24, 3, 3, 2, 7, 21, 13, 9, 1, 24, 17, 8, 19, 12, 1, 17, 26, 26, 2, 8, 16, 15, 12, 9, 1, 9, 23, 12, 20, 22, 2, 25, 1, 22, 24, 4, 13, 9, 21, 8, 15, 19, 13, 17, 26, 5, 11, 1, 16, 26, 23, 16, 13, 1, 7, 13, 10, 10, 11, 19, 1, 16, 7, 3, 26, 12, 3, 24, 24, 1, 1, 20, 10, 2, 12, 9, 21, 1, 25, 8, 13, 1, 9, 26, 1, 16, 17, 16, 13, 24, 1, 7, 1, 13, 2, 5, 19, 16, 1, 1, 11, 1, 1, 3, 11, 4, 20, 3, 12, 1, 1, 1, 1, 24, 1, 8, 9, 8, 12, 8, 23, 20, 1, 4, 13, 9, 10, 22, 1, 1, 26, 10, 11, 10, 13, 1, 14, 1, 1, 3, 1, 1, 27, 1, 11, 19, 18, 15, 1, 1, 18, 14, 0, 14, 16, 26, 13, 10, 1, 15, 1, 1, 5, 2, 5, 1, 26, 14, 19, 16, 10, 26, 23, 9, 2, 19, 6, 13, 7, 1, 13, 9, 1, 22, 21, 9, 11, 15, 18, 10, 26, 10, 1, 24, 9, 26, 18, 26, 1, 20, 8, 10, 15, 2, 20, 15, 13, 4, 1, 26, 1, 25, 1, 19, 19, 4, 3, 6, 1, 15, 6, 20, 9, 16, 16, 3, 12, 21, 10, 23, 13, 16, 4, 22, 10, 3, 5, 9, 1, 18, 1, 2, 1, 23, 12, 1, 15, 12, 17, 9, 10, 0, 1, 2, 18, 14, 13, 12, 1, 1, 13, 23, 1, 0, 16, 15, 3, 17, 1, 18, 26, 11, 11, 1, 20, 25, 26, 26, 3, 17, 13, 17, 1, 10, 15, 3, 8, 15, 13, 21, 1, 1, 13, 16, 11, 24, 1, 1, 10, 16, 25, 3, 11, 12, 9, 7, 11, 4, 1, 14, 10, 9, 26, 5, 12, 1, 14, 1, 2, 10, 26, 14, 13, 4, 10, 10, 1, 1, 26, 15, 2, 17, 7, 18, 17, 5, 4, 14, 21, 2, 4, 11, 21, 11, 26, 25, 10, 26, 26, 9, 24, 26, 10, 20, 13, 7, 16, 17, 10, 13, 2, 8, 18, 1, 1, 12, 1, 26, 22, 1, 9, 22, 12, 24, 10, 2, 22, 1, 16, 9, 1, 9, 8, 14, 18, 5, 16, 2, 1, 2, 19, 18, 10, 20, 6, 1, 16, 10, 21, 1, 7, 15, 15, 15, 1, 26, 7, 13, 25, 1, 1, 12, 20, 24, 9, 23, 12, 26, 1, 10, 14, 11, 17, 11, 3, 3, 10, 13, 3, 10, 1, 19, 16, 10, 22, 21, 20, 1, 17, 15, 9, 17, 24, 8, 26, 7, 10, 1, 22, 8, 1, 9, 1, 1, 18, 1, 21, 16, 11, 12, 1, 13, 1, 1, 15, 1, 13, 10, 15, 1, 7, 1, 11, 16, 18, 1, 11, 1, 3, 17, 26, 8, 0, 10, 1, 16, 19, 9, 24, 1, 10, 16, 11, 19, 18, 1, 4, 21, 12, 1, 22, 13, 26, 26, 2, 25, 10, 11, 17, 8, 25, 26, 15, 15, 2, 17, 2, 4, 6, 15, 14, 1, 2, 11, 21, 15, 14, 9, 24, 23, 26, 5, 21, 1, 4, 26, 14, 11, 12, 13, 12, 22, 19, 10, 2, 25, 26, 23, 10, 26, 11, 1, 1, 3, 15, 17, 5, 1, 1, 12, 8, 15, 1, 17, 8, 2, 2, 18, 21, 13, 13, 2, 12, 25, 3, 5, 1, 12, 24, 17, 1, 1, 25, 1, 13, 21, 21, 17, 1, 10, 11, 4, 15, 10, 1, 1, 2, 10, 20, 1, 17, 5, 21, 5, 7, 1, 17, 21, 25, 5, 11, 15, 25, 2, 23, 14, 5, 8, 2, 21, 0, 1, 10, 6, 2, 14, 13, 2, 6, 2, 17, 13, 13, 8, 6, 26, 1, 1, 14, 17, 3, 1, 18, 1, 26, 5, 13, 5, 1, 26, 16, 16, 18, 12, 3, 2, 9, 14, 9, 20, 15, 4, 1, 12, 12, 26, 1, 26, 21, 10, 16, 1, 15, 1, 10, 13, 1, 13, 13, 1, 12, 26, 20, 22, 18, 26, 21, 19, 18, 1, 20, 14, 1, 18, 20, 5, 11, 8, 23, 8, 2, 16, 3, 1, 11, 3, 19, 22, 14, 1, 10, 1, 10, 9, 23, 2, 11, 17, 9, 12, 13, 13, 1, 0, 14, 20, 18, 25, 22, 9, 20, 1, 2, 1, 7, 20, 9, 26, 11, 9, 11, 23, 9, 1, 6, 5, 21, 19, 1, 1, 3, 3, 22, 1, 1, 11, 26, 1, 14, 1, 14, 3, 22, 6, 25, 9, 24, 3, 5, 7, 10, 10, 1, 26, 27, 1, 0, 12, 1, 9, 10, 11, 1, 21, 8, 1, 15, 7, 19, 10, 1, 22, 19, 13, 18, 24, 3, 19, 9, 26, 26, 1, 1, 9, 2, 17, 22, 14, 12, 19, 12, 9, 5, 1, 1, 16, 1, 13, 1, 1, 26, 10, 13, 22, 2, 1, 11, 21, 0, 2, 2, 13, 1, 1, 1, 1, 18, 10, 7, 24, 12, 1, 21, 23, 25, 14, 23, 19, 20, 21, 9, 26, 1, 6, 13, 14, 19, 26, 10, 2, 23, 8, 12, 26, 15, 10, 13, 11, 26, 13, 8, 1, 10, 3, 12, 25, 16, 16, 1, 8, 12, 13, 1, 6, 20, 22, 1, 2, 8, 13, 23, 10, 16, 14, 1, 1, 1, 23, 1, 17, 1, 9, 1, 1, 14, 10, 21, 1, 16, 10, 1, 9, 23, 2, 20, 15, 6, 1, 1, 10, 5, 8, 22, 26, 17, 2, 20, 4, 14, 3, 1, 5, 1, 9, 1, 22, 2, 21, 15, 10, 1, 8, 9, 2, 17, 2, 8, 1, 11, 14, 13, 9, 10, 9, 17, 26, 6, 3, 16, 24, 2, 4, 1, 26, 1, 10, 6, 26, 10, 1, 6, 1, 26, 11, 1, 2, 9, 1, 1, 1, 21, 8, 11, 11, 1, 0, 3, 2, 1, 15, 1, 1, 18, 7, 17, 26, 25, 2, 4, 3, 1, 26, 22, 14, 14, 16, 1, 24, 26, 6, 13, 1, 14, 10, 1, 6, 18, 12, 9, 1, 1, 1, 9, 26, 6, 5, 17, 2, 17, 1, 10, 15, 1, 12, 1, 14, 4, 13, 8, 11, 7, 1, 11, 1, 1, 22, 12, 3, 22, 1, 6, 10, 1, 4, 16, 17, 8, 10, 1, 1, 3, 1, 4, 9, 21, 8, 14, 22, 1, 1, 11, 4, 19, 17, 11, 1, 21, 20, 10, 1, 7, 1, 13, 1, 12, 17, 26, 14, 21, 1, 7, 15, 7, 20, 26, 11, 10, 12, 1, 18, 1, 2, 3, 1, 8, 9, 8, 16, 12, 16, 24, 10, 12, 9, 1, 8, 8, 2, 21, 11, 1, 13, 3, 2, 1, 17, 1, 26, 26, 1, 16, 12, 1, 9, 1, 10, 16, 12, 1, 16, 1, 10, 8, 1, 18, 13, 4, 12, 22, 11, 17, 19, 26, 9, 10, 19, 14, 12, 8, 18, 1, 15, 19, 2, 5, 16, 23, 26, 3, 15, 9, 14, 10, 1, 5, 3, 1, 8, 13, 13, 26, 22, 10, 26, 1, 1, 9, 15, 1, 13, 14, 10, 23, 1, 10, 1, 17, 13, 22, 5, 7, 9, 12, 10, 15, 22, 1, 18, 22, 11, 13, 1, 18, 17, 13, 26, 8, 4, 22, 26, 14, 25, 11, 12, 18, 13, 8, 20, 2, 5, 10, 5, 16, 26, 1, 18, 14, 3, 11, 20, 1, 26, 1, 16, 26, 1, 12, 13, 10, 9, 1, 15, 3, 9, 7, 8, 19, 1, 1, 10, 10, 16, 17, 11, 10, 1, 1, 19, 1, 26, 15, 14, 7, 15, 1, 17, 14, 1, 1, 15, 2, 21, 8, 23, 10, 1, 7, 1, 13, 18, 12, 1, 1, 11, 1, 15, 2, 16, 1, 11, 1, 23, 26, 1, 3, 26, 1, 13, 12, 18, 1, 18, 4, 12, 26, 8, 21, 10, 14, 18, 13, 17, 10, 21, 1, 15, 9, 17, 4, 1, 1, 1, 1, 1, 13, 3, 20, 1, 5, 8, 1, 1, 17, 1, 13, 15, 4, 1, 8, 5, 6, 11, 14, 1, 24, 23, 1, 22, 18, 18, 26, 3, 11, 9, 19, 11, 26, 23, 11, 19, 13, 8, 10, 11, 7, 26, 20, 1, 10, 23, 11, 11, 21, 1, 15, 16, 12, 26, 11, 11, 20, 9, 12, 1, 7, 21, 1, 12, 1, 25, 13, 10, 12, 3, 21, 1, 3, 1, 1, 4, 11, 6, 1, 1, 22, 26, 13, 15, 26, 10, 22, 24, 6, 1, 4, 1, 2, 2, 5, 10, 25, 5, 3, 16, 24, 4, 1, 23, 26, 11, 12, 8, 1, 16, 1, 13, 7, 8, 14, 1, 21, 9, 2, 13, 7, 3, 1, 1, 1, 6, 19, 13, 13, 16, 24, 12, 1, 1, 1, 10, 26, 10, 15, 12, 2, 8, 5, 1, 1, 10, 12, 13, 11, 0, 8, 1, 17, 17, 5, 2, 11, 1, 23, 17, 19, 15, 1, 2, 22, 12, 3, 5, 15, 26, 1, 18, 26, 12, 1, 26, 1, 14, 26, 14, 27, 10, 10, 3, 22, 9, 23, 14, 1, 1, 6, 23, 19, 1, 1, 3, 14, 9, 1, 7, 20, 1, 2, 12, 1, 2, 10, 4, 10, 19, 11, 5, 9, 11, 1, 10, 1, 7, 10, 11, 13, 26, 1, 16, 5, 1, 1, 21, 12, 9, 5, 3, 16, 2, 7, 18, 1, 1, 10, 7, 1, 17, 1, 13, 4, 15, 3, 13, 11, 8, 4, 12, 2, 26, 6, 0, 4, 11, 5, 4, 9, 2, 26, 10, 4, 1, 20, 16, 1, 10, 10, 20, 17, 19, 20, 1, 1, 0, 10, 5, 16, 7, 6, 1, 2, 13, 1, 3, 17, 16, 18, 1, 1, 6, 10, 8, 1, 6, 1, 15, 15, 24, 21, 4, 1, 4, 7, 12, 21, 9, 25, 19, 1, 18, 7, 1, 15, 2, 16, 14, 11, 17, 6, 1, 16, 26, 1, 8, 13, 12, 1, 1, 17, 1, 3, 1, 24, 2, 12, 12, 21, 1, 2, 1, 3, 2, 2, 23, 25, 12, 11, 3, 13, 1, 21, 1, 17, 22, 1, 1, 17, 18, 9, 1, 18, 14, 14, 5, 5, 14, 1, 13, 1, 12, 11, 1, 12, 1, 16, 1, 11, 1, 16, 2, 17, 13, 21, 17, 10, 6, 2, 11, 1, 1, 7, 1, 15, 11, 4, 14, 15, 7, 9, 6, 21, 9, 7, 6, 9, 26, 1, 20, 10, 2, 13, 1, 1, 1, 12, 26, 1, 1, 1, 26, 11, 1, 9, 10, 12, 9, 14, 2, 13, 2, 16, 11, 3, 1, 25, 2, 21, 1, 1, 17, 15, 7, 25, 4, 18, 1, 19, 1, 2, 15, 14, 15, 4, 14, 11, 20, 18, 1, 1, 26, 8, 23, 20, 26, 9, 16, 1, 13, 12, 9, 8, 1, 13, 16, 9, 23, 21, 22, 6, 23, 8, 15, 10, 10, 6, 6, 1, 15, 26, 1, 3, 11, 1, 4, 10, 9, 17, 7, 3, 19, 13, 17, 14, 25, 8, 12, 1, 19, 3, 17, 4, 25, 5, 1, 22, 1, 1, 16, 7, 2, 17, 19, 8, 17, 1, 5, 26, 16, 12, 25, 0, 4, 2, 15, 1, 20, 18, 3, 20, 13, 5, 1, 1, 14, 16, 5, 6, 8, 14, 1, 5, 8, 13, 25, 13, 23, 1, 1, 1, 9, 2, 6, 8, 15, 1, 6, 7, 10, 4, 12, 7, 9, 13, 9, 12, 19, 1, 21, 1, 8, 2, 13, 5, 13, 10, 1, 12, 13, 10, 1, 8, 12, 26, 5, 16, 1, 18, 13, 2, 16, 6, 1, 10, 1, 1, 6, 15, 8, 19, 1, 16, 2, 1, 1, 2, 5, 8, 16, 10, 11, 10, 18, 1, 12, 1, 2, 7, 21, 13, 22, 15, 21, 19, 1, 12, 21, 12, 18, 23, 15, 7, 14, 14, 2, 10, 13, 1, 10, 9, 1, 8, 12, 10, 2, 1, 14, 7, 7, 18, 25, 6, 1, 11, 1, 5, 21, 11, 1, 19, 18, 7, 3, 24, 13, 17, 7, 6, 9, 10, 11, 11, 1, 17, 21, 26, 3, 21, 15, 2, 1, 21, 12, 1, 8, 7, 1, 1, 26, 7, 2, 6, 16, 11, 1, 14, 19, 19, 14, 22, 24, 26, 1, 24, 1, 1, 18, 24, 15, 25, 25, 15, 21, 15, 12, 3, 7, 1, 22, 15, 12, 23, 11, 1, 1, 26, 10, 25, 8, 1, 1, 19, 26, 14, 9, 13, 16, 27, 14, 24, 8, 11, 26, 20, 26, 1, 13, 1, 2, 20, 1, 1, 26, 14, 12, 16, 19, 26, 9, 17, 4, 6, 25, 10, 21, 1, 9, 1, 19, 15, 16, 4, 1, 5, 9, 17, 2, 1, 1, 9, 9, 1, 3, 13, 5, 5, 3, 1, 21, 1, 1, 11, 3, 3, 11, 11, 1, 13, 24, 26, 8, 5, 2, 24, 10, 15, 1, 12, 1, 24, 14, 12, 2, 3, 11, 2, 12, 26, 22, 17, 26, 1, 16, 12, 1, 16, 16, 26, 10, 1, 5, 24, 9, 9, 7, 6, 1, 6, 22, 26, 2, 3, 1, 1, 17, 21, 1, 10, 1, 4, 17, 22, 11, 26, 4, 5, 22, 1, 13, 20, 3, 15, 6, 23, 1, 4, 24, 0, 20, 18, 3, 11, 26, 26, 18, 26, 25, 8, 20, 9, 13, 3, 23, 8, 11, 8, 15, 7, 23, 12, 12, 1, 15, 18, 21, 16, 13, 12, 8, 1, 3, 1, 5, 6, 9, 1, 1, 15, 19, 1, 3, 8, 20, 1, 8, 2, 25, 2, 15, 22, 20, 26, 12, 1, 26, 15, 1, 17, 11, 20, 16, 1, 3, 10, 21, 20, 21, 14, 13, 10, 19, 12, 9, 12, 12, 1, 1, 19, 2, 11, 1, 10, 26, 24, 11, 13, 9, 7, 9, 27, 15, 13, 11, 13, 1, 19, 5, 17, 6, 1, 18, 19, 1, 2, 9, 13, 26, 1, 11, 26, 12, 22, 10, 1, 15, 13, 11, 13, 19, 2, 1, 11, 2, 19, 11, 1, 1, 7, 1, 3, 4, 4, 2, 2, 10, 26, 1, 10, 1, 1, 20, 1, 10, 13, 10, 17, 23, 22, 11, 24, 11, 1, 1, 10, 17, 7, 13, 11, 17, 1, 4, 2, 15, 15, 16, 6, 24, 2, 2, 26, 3, 12, 15, 13, 12, 13, 26, 13, 7, 2, 8, 1, 1, 5, 1, 23, 1, 1, 4, 11, 18, 1, 3, 1, 3, 1, 8, 25, 5, 14, 9, 17, 12, 19, 21, 1, 20, 22, 1, 15, 9, 18, 1, 1, 24, 26, 1, 2, 16, 10, 13, 2, 19, 3, 1, 1, 1, 3, 13, 14, 26, 2, 10, 1, 26, 15, 1, 26, 1, 19, 25, 23, 9, 13, 24, 3, 16, 18, 9, 2, 15, 1, 1, 1, 26, 26, 2, 10, 11, 1, 1, 1, 19, 9, 21, 12, 2, 26, 13, 20, 15, 12, 11, 19, 4, 11, 14, 0, 18, 9, 2, 7, 8, 16, 10, 1, 2, 1, 9, 1, 16, 23, 9, 9, 22, 13, 18, 20, 19, 25, 2, 10, 11, 10, 4, 12, 8, 1, 7, 4, 4, 1, 7, 11, 13, 13, 18, 13, 1, 3, 9, 26, 4, 14, 16, 25, 16, 1, 23, 1, 14, 10, 6, 7, 1, 9, 10, 17, 11, 1, 16, 20, 13, 11, 7, 12, 1, 12, 1, 26, 15, 8, 9, 2, 23, 1, 1, 11, 1, 23, 25, 11, 19, 18, 3, 1, 7, 6, 1, 21, 15, 14, 19, 12, 2, 24, 11, 26, 19, 15, 3, 8, 15, 3, 22, 11, 18, 1, 1, 1, 2, 22, 26, 13, 6, 10, 1, 23, 21, 1, 1, 8, 21, 17, 1, 17, 7, 26, 1, 18, 6, 7, 1, 8, 18, 15, 11, 1, 19, 21, 13, 20, 1, 25, 7, 1, 1, 8, 7, 8, 8, 6, 14, 1, 1, 22, 14, 16, 16, 10, 20, 2, 1, 4, 19, 14, 1, 1, 14, 16, 25, 1, 4, 12, 8, 2, 26, 7, 12, 7, 0, 5, 1, 11, 20, 6, 6, 7, 1, 26, 10, 10, 26, 13, 13, 7, 7, 26, 15, 5, 6, 13, 22, 15, 12, 1, 24, 1, 4, 16, 24, 26, 23, 1, 1, 20, 12, 14, 1, 1, 1, 13, 7, 14, 19, 14, 3, 14, 8, 20, 9, 24, 1, 13, 15, 9, 26, 16, 12, 7, 21, 1, 14, 11, 14, 24, 1, 1, 13, 20, 23, 9, 6, 25, 1, 1, 11, 8, 23, 20, 1, 10, 2, 5, 2, 2, 8, 21, 26, 3, 1, 17, 1, 6, 16, 22, 1, 15, 4, 26, 4, 18, 1, 5, 14, 26, 1, 10, 13, 12, 1, 26, 15, 1, 19, 8, 1, 12, 12, 26, 3, 1, 26, 23, 14, 15, 1, 2, 12, 17, 7, 5, 22, 2, 3, 8, 1, 9, 17, 1, 25, 10, 1, 6, 14, 1, 14, 15, 15, 5, 13, 1, 13, 0, 14, 15, 8, 8, 1, 7, 1, 10, 20, 9, 20, 26, 8, 6, 8, 14, 24, 11, 25, 1, 6, 19, 26, 1, 2, 16, 1, 10, 17, 1, 26, 6, 1, 15, 23, 3, 20, 14, 5, 26, 12, 11, 8, 11, 22, 20, 1, 1, 4, 23, 21, 12, 1, 26, 26, 18, 18, 1, 1, 16, 2, 20, 15, 1, 15, 12, 23, 12, 7, 26, 6, 13, 11, 1, 18, 15, 18, 8, 14, 18, 15, 1, 13, 12, 10, 3, 4, 21, 9, 1, 8, 25, 1, 12, 19, 7, 1, 2, 14, 14, 1, 14, 0, 16, 8, 21, 15, 8, 22, 1, 8, 10, 16, 15, 1, 15, 18, 22, 15, 26, 19, 10, 4, 13, 15, 1, 11, 11, 9, 1, 18, 17, 5, 14, 1, 17, 5, 9, 5, 12, 2, 14, 19, 1, 1, 13, 11, 18, 14, 26, 2, 1, 1, 2, 1, 24, 1, 1, 23, 15, 26, 4, 4, 10, 1, 16, 10, 16, 10, 16, 1, 16, 11, 22, 16, 8, 0, 2, 6, 2, 1, 1, 18, 18, 11, 26, 1, 10, 2, 25, 14, 22, 8, 1, 2, 1, 1, 9, 13, 7, 26, 16, 25, 10, 7, 1, 10, 2, 8, 12, 7, 5, 8, 2, 1, 21, 7, 1, 9, 26, 11, 21, 3, 4, 1, 13, 26, 5, 14, 1, 21, 13, 12, 13, 9, 8, 20, 19, 15, 1, 26, 2, 14, 11, 11, 19, 21, 6, 13, 16, 19, 1, 1, 5, 11, 12, 10, 7, 1, 8, 6, 17, 9, 26, 4, 9, 17, 20, 1, 10, 9, 14, 2, 18, 10, 2, 1, 13, 16, 1, 11, 9, 1, 22, 26, 1, 18, 24, 25, 13, 6, 9, 17, 1, 19, 2, 18, 22, 7, 18, 15, 7, 10, 1, 23, 8, 17, 2, 8, 8, 23, 21, 25, 24, 26, 25, 1, 11, 1, 15, 8, 20, 13, 1, 1, 7, 17, 19, 16, 8, 4, 1, 11, 24, 5, 21, 3, 18, 19, 18, 26, 10, 16, 8, 1, 3, 1, 16, 11, 1, 8, 1, 16, 1, 2, 15, 25, 22, 17, 1, 7, 2, 1, 18, 9, 1, 10, 16, 17, 15, 14, 9, 22, 17, 18, 6, 1, 15, 13, 8, 8, 12, 26, 11, 21, 16, 2, 19, 24, 10, 9, 1, 6, 5, 12, 18, 1, 23, 10, 12, 1, 15, 1, 15, 19, 1, 2, 17, 26, 1, 20, 6, 21, 1, 12, 24, 14, 10, 1, 18, 16, 12, 12, 1, 1, 1, 5, 1, 24, 14, 13, 2, 16, 26, 5, 1, 1, 1, 1, 3, 26, 2, 1, 11, 10, 2, 13, 1, 1, 10, 20, 1, 1, 1, 24, 19, 11, 1, 21, 21, 13, 12, 9, 15, 1, 4, 10, 21, 10, 10, 9, 2, 12, 0, 2, 4, 18, 1, 10, 1, 7, 14, 20, 2, 15, 26, 1, 1, 13, 26, 9, 1, 7, 11, 11, 17, 15, 1, 21, 18, 13, 26, 25, 4, 26, 1, 1, 9, 10, 17, 15, 9, 19, 17, 17, 13, 1, 16, 1, 20, 6, 1, 1, 1, 23, 7, 1, 2, 1, 0, 1, 17, 20, 20, 15, 11, 2, 14, 26, 19, 25, 17, 8, 1, 15, 26, 18, 2, 1, 15, 1, 1, 13, 15, 21, 14, 20, 23, 14, 25, 1, 9, 12, 3, 15, 20, 26, 19, 19, 3, 1, 13, 1, 14, 15, 13, 14, 12, 2, 1, 16, 17, 17, 5, 2, 2, 12, 18, 7, 20, 1, 14, 22, 1, 13, 1, 1, 1, 19, 13, 15, 14, 7, 13, 1, 9, 17, 2, 22, 8, 26, 2, 10, 7, 2, 2, 14, 8, 1, 1, 0, 9, 17, 1, 16, 18, 18, 16, 4, 18, 6, 17, 10, 18, 6, 5, 26, 1, 8, 17, 14, 1, 1, 9, 26, 1, 20, 9, 21, 21, 1, 11, 1, 26, 14, 26, 13, 19, 10, 2, 12, 20, 15, 19, 23, 7, 1, 2, 20, 12, 13, 8, 1, 10, 23, 2, 16, 16, 13, 5, 8, 19, 1, 18, 11, 10, 8, 1, 17, 2, 13, 13, 12, 14, 1, 1, 10, 1, 1, 1, 14, 9, 13, 13, 7, 26, 15, 1, 18, 16, 6, 4, 1, 1, 10, 11, 12, 26, 25, 5, 24, 24, 1, 6, 14, 19, 26, 14, 11, 10, 26, 26, 4, 24, 9, 10, 25, 1, 10, 12, 3, 18, 17, 13, 10, 4, 18, 6, 8, 18, 1, 13, 24, 11, 1, 10, 14, 11, 16, 2, 1, 12, 15, 6, 1, 1, 1, 10, 1, 0, 11, 1, 10, 26, 12, 1, 22, 12, 13, 1, 1, 23, 1, 20, 18, 1, 1, 1, 12, 3, 13, 1, 13, 15, 9, 5, 6, 11, 10, 4, 15, 18, 1, 25, 11, 8, 3, 10, 27, 10, 7, 15, 2, 12, 1, 16, 7, 21, 18, 15, 1, 6, 10, 26, 8, 1, 1, 1, 11, 1, 17, 26, 6, 1, 1, 14, 23, 2, 2, 17, 12, 18, 1, 3, 1, 13, 5, 13, 25, 1, 1, 12, 26, 10, 2, 13, 8, 3, 8, 10, 26, 1, 5, 6, 26, 21, 19, 26, 12, 4, 14, 26, 6, 12, 1, 16, 26, 10, 1, 19, 13, 8, 1, 13, 22, 12, 5, 19, 1, 7, 15, 8, 19, 2, 24, 7, 25, 14, 19, 16, 13, 9, 2, 1, 15, 13, 17, 1, 24, 12, 10, 3, 4, 2, 5, 4, 7, 8, 19, 8, 3, 4, 7, 19, 6, 21, 17, 14, 1, 15, 7, 26, 20, 13, 1, 1, 5, 8, 26, 22, 1, 17, 6, 12, 6, 13, 1, 15, 26, 17, 20, 8, 9, 8, 26, 6, 12, 8, 1, 13, 26, 13, 11, 1, 11, 1, 2, 18, 10, 8, 2, 17, 19, 5, 1, 1, 21, 1, 16, 9, 16, 10, 1, 11, 6, 23, 1, 1, 19, 1, 25, 10, 8, 22, 4, 1, 7, 10, 3, 1, 10, 26, 14, 17, 2, 1, 14, 1, 15, 15, 1, 11, 19, 3, 15, 1, 21, 13, 21, 9, 24, 1, 13, 11, 12, 1, 15, 15, 23, 6, 12, 24, 8, 6, 6, 8, 1, 15, 8, 1, 16, 18, 1, 1, 9, 1, 8, 7, 17, 1, 14, 1, 0, 1, 1, 1, 12, 2, 4, 2, 25, 6, 23, 7, 14, 5, 25, 21, 4, 1, 1, 10, 1, 12, 5, 1, 26, 23, 8, 8, 12, 10, 10, 14, 7, 6, 18, 1, 9, 11, 15, 13, 11, 11, 19, 19, 26, 24, 9, 5, 24, 11, 1, 9, 6, 13, 19, 24, 26, 21, 17, 7, 25, 11, 17, 23, 5, 1, 8, 25, 6, 12, 1, 4, 2, 11, 1, 3, 10, 22, 26, 18, 1, 2, 1, 1, 10, 1, 5, 9, 14, 15, 19, 8, 17, 16, 10, 1, 3, 24, 13, 11, 18, 1, 1, 14, 1, 1, 5, 1, 18, 11, 7, 16, 24, 1, 1, 8, 10, 9, 7, 7, 21, 11, 0, 19, 9, 1, 14, 1, 1, 1, 21, 26, 1, 12, 7, 7, 9, 18, 1, 20, 20, 19, 10, 12, 1, 11, 2, 22, 1, 1, 1, 1, 12, 14, 10, 9, 8, 1, 2, 12, 3, 7, 1, 24, 1, 2, 10, 1, 18, 26, 26, 24, 11, 4, 18, 12, 15, 13, 5, 15, 7, 11, 1, 23, 10, 1, 26, 1, 16, 4, 12, 4, 11, 1, 9, 1, 2, 2, 21, 18, 1, 20, 1, 16, 1, 10, 15, 11, 2, 20, 26, 1, 2, 14, 24, 1, 9, 8, 13, 15, 1, 1, 1, 13, 4, 13, 1, 22, 1, 10, 17, 10, 8, 10, 26, 7, 1, 26, 12, 1, 1, 21, 13, 8, 18, 8, 11, 1, 1, 18, 2, 11, 19, 6, 2, 18, 1, 14, 13, 2, 10, 8, 14, 22, 1, 10, 1, 1, 12, 10, 26, 8, 9, 10, 3, 14, 3, 10, 7, 13, 14, 10, 1, 21, 5, 10, 1, 25, 23, 12, 10, 1, 17, 12, 0, 14, 24, 20, 1, 15, 7, 8, 2, 26, 15, 1, 21, 17, 19, 20, 9, 20, 9, 24, 19, 10, 8, 1, 15, 10, 1, 8, 16, 14, 9, 25, 19, 26, 11, 5, 13, 19, 24, 26, 1, 3, 10, 11, 1, 3, 10, 14, 2, 12, 10, 7, 2, 2, 18, 14, 23, 12, 12, 24, 0, 6, 12, 1, 7, 5, 25, 10, 10, 1, 23, 10, 16, 2, 1, 3, 26, 8, 10, 7, 15, 1, 10, 17, 3, 17, 1, 1, 1, 10, 15, 7, 9, 8, 23, 9, 18, 10, 21, 17, 22, 17, 15, 1, 24, 8, 8, 7, 1, 19, 22, 24, 3, 20, 7, 26, 10, 1, 1, 11, 17, 27, 8, 1, 18, 1, 23, 10, 19, 1, 1, 9, 5, 1, 5, 2, 9, 14, 8, 1, 2, 1, 1, 22, 16, 20, 8, 13, 6, 13, 11, 1, 1, 11, 17, 15, 25, 12, 3, 12, 6, 11, 12, 5, 9, 26, 11, 3, 18, 13, 23, 22, 1, 21, 9, 9, 1, 2, 11, 1, 2, 8, 15, 5, 1, 10, 2, 13, 26, 1, 9, 17, 14, 12, 1, 10, 2, 5, 1, 1, 2, 4, 10, 22, 12, 1, 16, 19, 18, 8, 8, 13, 22, 12, 10, 1, 19, 9, 1, 2, 13, 1, 26, 26, 8, 11, 26, 26, 11, 4, 2, 24, 21, 1, 4, 5, 2, 1, 1, 26, 1, 1, 2, 2, 16, 1, 9, 13, 8, 1, 5, 17, 12, 5, 12, 18, 22, 16, 14, 26, 20, 9, 1, 3, 1, 21, 22, 20, 18, 26, 15, 11, 6, 1, 9, 13, 1, 13, 12, 20, 13, 3, 1, 19, 26, 6, 1, 1, 7, 7, 11, 1, 7, 19, 3, 18, 1, 22, 22, 17, 1, 12, 17, 1, 12, 18, 14, 20, 26, 17, 1, 12, 4, 14, 11, 1, 26, 9, 16, 1, 8, 23, 1, 1, 12, 18, 4, 16, 22, 11, 1, 12, 16, 22, 1, 1, 11, 6, 16, 2, 1, 26, 9, 1, 7, 26, 1, 7, 2, 10, 15, 26, 10, 12, 14, 10, 17, 18, 16, 10, 2, 13, 2, 5, 1, 4, 1, 5, 26, 15, 21, 4, 13, 22, 11, 22, 1, 10, 6, 4, 1, 14, 7, 8, 23, 21, 1, 21, 25, 21, 4, 18, 1, 11, 11, 8, 12, 20, 8, 1, 10, 17, 12, 1, 6, 23, 1, 18, 1, 10, 19, 1, 26, 1, 23, 8, 15, 18, 13, 16, 15, 7, 10, 15, 1, 13, 5, 17, 26, 23, 10, 1, 8, 7, 6, 1, 15, 12, 11, 1, 1, 1, 18, 14, 8, 1, 1, 13, 10, 12, 8, 4, 8, 15, 26, 17, 18, 4, 11, 24, 1, 13, 8, 9, 13, 12, 20, 17, 16, 1, 1, 3, 14, 10, 20, 1, 8, 18, 17, 5, 10, 21, 2, 10, 24, 25, 12, 1, 6, 12, 16, 1, 1, 16, 13, 1, 2, 1, 10, 19, 12, 2, 18, 1, 21, 1, 26, 10, 1, 12, 26, 26, 15, 8, 17, 1, 3, 18, 11, 1, 17, 10, 16, 26, 20, 9, 26, 1, 12, 1, 26, 1, 20, 21, 12, 2, 19, 9, 16, 21, 8, 20, 4, 12, 2, 1, 15, 14, 2, 1, 22, 13, 1, 12, 12, 1, 19, 8, 11, 25, 7, 1, 13, 9, 1, 11, 1, 1, 9, 3, 3, 11, 5, 6, 14, 10, 14, 14, 2, 1, 16, 3, 1, 26, 2, 1, 1, 2, 6, 16, 9, 17, 17, 2, 2, 1, 26, 26, 27, 3, 2, 19, 2, 1, 23, 11, 18, 23, 10, 1, 1, 9, 1, 4, 2, 1, 1, 11, 1, 22, 1, 4, 3, 16, 1, 13, 1, 17, 15, 1, 26, 1, 3, 1, 12, 6, 17, 1, 10, 10, 13, 9, 7, 16, 22, 7, 16, 12, 19, 19, 6, 1, 8, 1, 22, 6, 7, 15, 17, 20, 19, 1, 9, 12, 17, 3, 9, 1, 16, 1, 14, 9, 22, 2, 1, 17, 19, 22, 7, 1, 25, 1, 23, 1, 14, 10, 21, 17, 17, 12, 10, 2, 1, 26, 16, 11, 14, 13, 22, 13, 17, 1, 3, 13, 25, 10, 8, 26, 26, 15, 17, 1, 6, 21, 4, 8, 1, 3, 26, 1, 25, 21, 8, 1, 11, 5, 10, 26, 1, 11, 1, 13, 11, 3, 1, 16, 3, 8, 4, 13, 13, 21, 1, 10, 1, 11, 1, 12, 12, 5, 4, 10, 9, 18, 2, 20, 6, 2, 17, 3, 6, 1, 16, 1, 10, 1, 1, 10, 9, 18, 16, 15, 4, 2, 18, 1, 1, 1, 2, 2, 23, 19, 1, 11, 1, 18, 1, 23, 13, 12, 1, 16, 13, 13, 7, 11, 7, 1, 2, 26, 12, 6, 10, 16, 7, 5, 22, 11, 15, 26, 14, 2, 8, 12, 10, 9, 17, 16, 26, 19, 25, 14, 17, 1, 6, 24, 2, 12, 18, 7, 13, 11, 24, 8, 1, 7, 26, 4, 6, 9, 11, 2, 1, 12, 14, 12, 3, 15, 19, 22, 4, 19, 21, 23, 17, 9, 15, 26, 16, 21, 1, 17, 1, 13, 15, 7, 16, 26, 1, 11, 15, 17, 13, 4, 25, 9, 1, 10, 1, 26, 19, 10, 11, 15, 1, 26, 14, 10, 5, 7, 14, 10, 18, 5, 25, 19, 13, 14, 26, 10, 22, 1, 15, 12, 1, 3, 1, 3, 20, 15, 4, 14, 5, 1, 11, 1, 17, 26, 18, 16, 12, 15, 6, 10, 2, 16, 12, 22, 17, 26, 12, 18, 14, 12, 1, 1, 18, 18, 12, 10, 12, 3, 9, 11, 11, 8, 6, 1, 19, 13, 16, 14, 7, 17, 1, 9, 1, 26, 1, 12, 1, 12, 15, 13, 8, 4, 14, 6, 15, 13, 14, 2, 12, 10, 14, 26, 1, 14, 26, 1, 16, 16, 4, 22, 17, 23, 1, 16, 1, 18, 15, 16, 11, 15, 10, 4, 2, 6, 24, 10, 11, 11, 18, 1, 1, 6, 2, 1, 12, 10, 10, 21, 1, 7, 3, 14, 12, 8, 10, 9, 16, 25, 26, 10, 12, 20, 2, 1, 1, 8, 1, 22, 1, 3, 1, 1, 3, 15, 3, 1, 1, 8, 10, 24, 1, 3, 19, 11, 14, 1, 16, 9, 6, 1, 20, 17, 11, 6, 7, 5, 9, 1, 1, 10, 18, 1, 2, 22, 16, 16, 3, 8, 22, 1, 16, 15, 17, 10, 1, 1, 20, 22, 1, 2, 16, 1, 15, 1, 18, 0, 9, 1, 12, 7, 12, 4, 11, 1, 1, 13, 13, 1, 1, 16, 18, 1, 6, 13, 1, 17, 4, 15, 11, 1, 1, 9, 13, 16, 26, 5, 16, 13, 5, 1, 1, 2, 20, 2, 21, 9, 13, 2, 23, 14, 1, 16, 8, 9, 1, 6, 11, 19, 5, 7, 1, 26, 26, 2, 1, 11, 15, 12, 11, 2, 16, 7, 10, 18, 6, 20, 8, 17, 26, 10, 9, 2, 11, 1, 4, 1, 19, 3, 1, 6, 13, 8, 2, 19, 0, 23, 1, 15, 12, 8, 1, 14, 2, 16, 8, 16, 9, 20, 17, 11, 2, 11, 12, 1, 19, 22, 6, 2, 11, 1, 1, 1, 17, 1, 26, 7, 1, 6, 8, 1, 15, 16, 17, 2, 17, 1, 10, 2, 2, 10, 16, 3, 8, 1, 8, 1, 1, 25, 17, 10, 9, 9, 1, 1, 3, 1, 10, 26, 14, 23, 12, 13, 6, 10, 1, 1, 4, 23, 9, 1, 3, 19, 9, 9, 1, 9, 14, 5, 15, 1, 17, 1, 3, 1, 13, 26, 16, 24, 26, 1, 26, 2, 12, 10, 26, 15, 12, 16, 4, 1, 16, 6, 3, 19, 18, 19, 1, 2, 8, 12, 7, 1, 11, 1, 19, 26, 2, 25, 14, 8, 1, 1, 7, 24, 26, 2, 2, 18, 1, 21, 2, 10, 8, 9, 13, 8, 17, 16, 8, 20, 2, 19, 19, 12, 8, 9, 14, 11, 15, 1, 26, 8, 1, 12, 26, 1, 9, 20, 23, 24, 17, 22, 14, 26, 8, 1, 3, 3, 11, 10, 3, 17, 8, 13, 14, 14, 20, 1, 10, 5, 12, 1, 1, 11, 21, 11, 27, 5, 3, 22, 25, 19, 14, 1, 19, 1, 1, 10, 2, 22, 16, 9, 4, 8, 6, 7, 6, 1, 3, 11, 26, 6, 5, 19, 1, 20, 1, 8, 26, 19, 3, 1, 15, 15, 18, 24, 26, 24, 12, 11, 3, 7, 2, 3, 3, 14, 10, 1, 16, 20, 12, 10, 26, 1, 15, 1, 1, 10, 1, 15, 3, 12, 4, 26, 16, 15, 6, 1, 4, 14, 2, 6, 4, 9, 22, 16, 14, 13, 1, 3, 2, 1, 4, 23, 9, 1, 11, 13, 1, 4, 1, 15, 12, 25, 14, 9, 1, 13, 1, 21, 10, 7, 12, 12, 1, 16, 26, 16, 16, 20, 11, 16, 2, 14, 19, 11, 1, 18, 9, 14, 9, 1, 10, 12, 13, 1, 2, 8, 14, 1, 2, 1, 8, 14, 11, 8, 1, 10, 23, 6, 2, 1, 18, 22, 14, 6, 2, 6, 12, 17, 2, 16, 17, 2, 1, 11, 2, 8, 12, 6, 3, 13, 14, 11, 26, 15, 26, 8, 5, 17, 26, 16, 1, 1, 19, 10, 26, 7, 1, 10, 1, 24, 16, 17, 7, 11, 18, 1, 8, 9, 23, 18, 25, 1, 13, 3, 4, 10, 10, 26, 7, 18, 11, 16, 1, 10, 15, 9, 2, 19, 7, 26, 21, 12, 14, 22, 15, 1, 25, 3, 1, 1, 10, 15, 2, 20, 24, 13, 19, 2, 1, 3, 24, 21, 19, 1, 8, 23, 17, 1, 15, 18, 4, 5, 14, 18, 13, 19, 4, 20, 1, 5, 26, 22, 19, 20, 2, 9, 21, 20, 2, 1, 1, 5, 16, 2, 18, 12, 5, 6, 11, 1, 15, 12, 13, 10, 26, 25, 11, 26, 1, 10, 13, 3, 7, 5, 15, 24, 13, 2, 18, 1, 17, 1, 14, 14, 1, 10, 3, 10, 20, 26, 2, 1, 11, 15, 8, 26, 9, 3, 14, 12, 10, 10, 12, 14, 12, 14, 1, 15, 2, 4, 14, 1, 23, 18, 1, 7, 10, 14, 7, 10, 11, 8, 7, 1, 25, 5, 9, 15, 6, 25, 8, 14, 1, 12, 9, 9, 1, 11, 26, 2, 4, 20, 1, 27, 1, 1, 2, 1, 2, 14, 13, 1, 22, 18, 1, 16, 7, 1, 13, 7, 13, 1, 22, 1, 15, 1, 2, 3, 17, 11, 7, 10, 1, 10, 9, 7, 20, 13, 20, 16, 10, 9, 5, 19, 24, 7, 9, 1, 5, 20, 25, 25, 1, 1, 22, 12, 1, 16, 24, 4, 5, 16, 10, 11, 16, 1, 21, 7, 19, 4, 24, 13, 4, 19, 3, 9, 17, 7, 10, 13, 14, 13, 12, 17, 10, 1, 2, 14, 20, 19, 26, 13, 10, 1, 10, 17, 21, 12, 11, 1, 13, 9, 16, 1, 26, 16, 1, 1, 5, 1, 7, 8, 1, 26, 10, 1, 7, 5, 17, 8, 17, 11, 23, 15, 22, 18, 19, 22, 10, 1, 9, 14, 17, 11, 2, 3, 16, 9, 15, 15, 1, 2, 10, 11, 1, 9, 1, 17, 1, 1, 12, 8, 12, 12, 16, 16, 3, 2, 1, 4, 9, 10, 11, 14, 3, 1, 19, 24, 5, 13, 26, 13, 1, 3, 1, 6, 22, 1, 2, 3, 15, 12, 19, 2, 10, 22, 24, 1, 1, 10, 15, 5, 0, 16, 7, 17, 0, 18, 11, 10, 18, 12, 26, 17, 3, 19, 9, 3, 6, 16, 26, 1, 16, 3, 7, 1, 20, 15, 1, 1, 8, 1, 10, 1, 1, 10, 16, 13, 15, 23, 20, 26, 12, 24, 1, 1, 17, 13, 11, 21, 1, 1, 13, 24, 0, 20, 9, 10, 5, 11, 11, 4, 15, 2, 11, 10, 5, 6, 14, 14, 25, 8, 16, 10, 1, 10, 16, 4, 1, 2, 10, 18, 12, 14, 15, 1, 26, 9, 18, 13, 3, 1, 14, 1, 1, 11, 0, 23, 9, 18, 26, 15, 1, 3, 10, 11, 13, 8, 21, 22, 15, 16, 1, 1, 18, 1, 5, 14, 13, 7, 17, 14, 3, 15, 1, 1, 3, 1, 1, 1, 8, 10, 19, 12, 19, 10, 10, 20, 9, 5, 4, 17, 12, 26, 1, 2, 16, 26, 12, 9, 9, 22, 1, 4, 20, 1, 1, 2, 1, 1, 12, 17, 26, 2, 1, 13, 1, 3, 17, 21, 18, 12, 23, 16, 23, 1, 24, 6, 22, 12, 14, 13, 16, 17, 11, 1, 26, 1, 26, 18, 12, 14, 16, 0, 7, 20, 3, 1, 12, 3, 20, 12, 3, 18, 3, 11, 2, 1, 19, 11, 1, 1, 11, 26, 1, 3, 1, 9, 13, 26, 8, 1, 10, 22, 9, 20, 26, 9, 1, 1, 20, 1, 8, 21, 26, 10, 19, 7, 18, 13, 3, 4, 9, 14, 10, 9, 21, 1, 15, 14, 2, 13, 18, 2, 8, 18, 25, 22, 2, 10, 9, 2, 26, 21, 10, 15, 26, 11, 22, 1, 16, 24, 1, 25, 26, 17, 18, 17, 2, 8, 26, 18, 13, 6, 1, 20, 1, 19, 11, 1, 13, 13, 1, 15, 19, 20, 3, 17, 7, 14, 1, 19, 10, 2, 13, 6, 10, 18, 1, 2, 3, 26, 1, 7, 5, 1, 17, 2, 15, 21, 4, 2, 2, 2, 8, 10, 1, 15, 7, 1, 7, 5, 22, 23, 8, 1, 7, 19, 2, 9, 12, 3, 1, 26, 14, 14, 9, 14, 1, 1, 1, 1, 16, 1, 26, 6, 13, 3, 1, 5, 14, 24, 12, 1, 6, 17, 21, 1, 7, 14, 1, 3, 23, 9, 1, 15, 19, 20, 1, 1, 1, 12, 1, 7, 9, 17, 1, 13, 9, 4, 7, 1, 12, 23, 17, 24, 8, 8, 12, 22, 17, 20, 12, 13, 12, 3, 9, 17, 21, 1, 26, 1, 1, 26, 8, 25, 2, 26, 1, 2, 20, 2, 10, 25, 15, 2, 10, 17, 19, 19, 12, 14, 11, 25, 17, 1, 16, 1, 10, 19, 6, 11, 1, 17, 12, 16, 16, 11, 1, 12, 10, 3, 1, 4, 2, 14, 7, 4, 16, 10, 22, 3, 7, 22, 26, 9, 6, 10, 16, 2, 1, 2, 11, 1, 21, 5, 24, 7, 3, 1, 11, 14, 1, 1, 25, 21, 13, 3, 8, 12, 1, 12, 17, 10, 16, 18, 1, 1, 9, 1, 15, 13, 21, 13, 8, 1, 1, 26, 5, 17, 1, 17, 12, 12, 26, 26, 26, 1, 17, 23, 14, 1, 12, 23, 1, 2, 1, 7, 17, 2, 1, 10, 18, 1, 8, 1, 1, 1, 1, 26, 3, 1, 14, 12, 21, 21, 12, 1, 10, 1, 1, 7, 1, 10, 6, 16, 18, 2, 11, 2, 5, 13, 9, 10, 2, 1, 11, 3, 1, 2, 14, 1, 1, 26, 1, 11, 1, 24, 6, 3, 22, 7, 13, 26, 10, 2, 14, 5, 1, 15, 17, 2, 13, 11, 1, 4, 1, 7, 8, 7, 14, 13, 20, 1, 9, 1, 22, 1, 6, 26, 8, 1, 9, 26, 18, 20, 20, 1, 4, 6, 7, 11, 8, 18, 23, 1, 10, 1, 9, 6, 3, 15, 8, 16, 1, 14, 1, 15, 8, 1, 17, 1, 1, 10, 8, 17, 1, 3, 5, 19, 26, 17, 22, 16, 10, 11, 11, 1, 4, 1, 17, 23, 4, 2, 12, 1, 1, 7, 18, 1, 2, 1, 12, 20, 12, 17, 1, 7, 17, 9, 8, 1, 1, 9, 23, 26, 16, 8, 3, 18, 5, 10, 8, 1, 1, 1, 4, 7, 18, 18, 5, 7, 8, 2, 1, 1, 8, 2, 15, 11, 23, 7, 6, 12, 1, 18, 9, 6, 1, 16, 4, 8, 2, 12, 1, 14, 8, 15, 18, 7, 19, 13, 13, 11, 8, 20, 16, 1, 1, 11, 26, 18, 17, 7, 9, 9, 8, 8, 26, 18, 26, 11, 12, 15, 19, 13, 10, 19, 26, 26, 13, 11, 7, 16, 26, 1, 13, 3, 5, 15, 22, 1, 26, 26, 26, 7, 8, 21, 8, 5, 0, 12, 26, 10, 16, 14, 18, 24, 11, 20, 1, 1, 11, 14, 1, 14, 1, 2, 10, 20, 26, 11, 1, 1, 2, 10, 13, 13, 12, 3, 22, 13, 1, 22, 3, 23, 13, 22, 1, 1, 2, 21, 16, 12, 22, 27, 9, 1, 15, 14, 13, 21, 7, 26, 12, 18, 1, 16, 1, 14, 21, 12, 1, 1, 24, 1, 8, 1, 26, 1, 17, 11, 10, 19, 9, 1, 10, 1, 16, 14, 12, 15, 20, 1, 19, 13, 11, 4, 9, 15, 26, 8, 5, 1, 3, 18, 12, 1, 12, 4, 1, 3, 11, 1, 8, 12, 11, 13, 8, 1, 1, 14, 2, 22, 11, 17, 2, 19, 8, 8, 24, 8, 2, 11, 2, 22, 14, 10, 12, 2, 1, 4, 14, 4, 7, 14, 18, 24, 19, 3, 5, 26, 1, 26, 14, 15, 22, 16, 3, 16, 20, 16, 5, 22, 1, 13, 1, 13, 1, 15, 5, 21, 13, 13, 16, 18, 15, 8, 20, 15, 3, 6, 1, 12, 4, 9, 18, 7, 1, 9, 2, 1, 4, 1, 7, 10, 26, 26, 22, 1, 1, 17, 7, 24, 12, 1, 1, 1, 4, 26, 13, 1, 12, 20, 20, 8, 11, 20, 1, 1, 25, 1, 25, 14, 1, 1, 4, 14, 9, 11, 26, 26, 11, 15, 15, 1, 11, 8, 11, 13, 26, 16, 1, 21, 13, 2, 24, 12, 12, 19, 26, 12, 1, 1, 6, 3, 8, 14, 10, 1, 13, 1, 2, 3, 1, 6, 4, 2, 2, 3, 18, 14, 1, 26, 12, 16, 13, 2, 3, 2, 1, 6, 4, 6, 1, 14, 2, 7, 13, 1, 1, 21, 5, 21, 1, 12, 16, 20, 13, 18, 26, 1, 24, 1, 16, 8, 1, 9, 8, 15, 15, 1, 1, 4, 16, 1, 10, 6, 19, 22, 1, 1, 13, 4, 18, 16, 18, 10, 1, 10, 8, 0, 1, 21, 1, 6, 10, 18, 2, 1, 23, 7, 21, 9, 24, 1, 17, 12, 1, 7, 4, 19, 1, 20, 9, 9, 14, 1, 12, 15, 1, 1, 1, 12, 13, 23, 3, 1, 20, 6, 2, 1, 17, 1, 21, 11, 1, 13, 13, 12, 18, 18, 0, 18, 16, 5, 7, 19, 1, 1, 1, 13, 1, 15, 12, 23, 23, 26, 20, 16, 11, 2, 4, 19, 26, 15, 1, 23, 6, 0, 15, 1, 25, 14, 0, 1, 22, 17, 1, 3, 1, 14, 2, 11, 5, 21, 8, 18, 13, 1, 16, 1, 7, 1, 8, 2, 21, 11, 3, 0, 19, 8, 17, 7, 21, 26, 4, 6, 8, 18, 1, 3, 3, 15, 24, 14, 0, 1, 25, 10, 8, 19, 26, 13, 7, 16, 23, 15, 18, 17, 8, 22, 21, 10, 11, 4, 20, 22, 1, 13, 26, 10, 25, 3, 17, 26, 10, 11, 9, 1, 7, 16, 3, 10, 4, 1, 1, 22, 19, 1, 14, 1, 1, 6, 14, 3, 17, 17, 23, 10, 10, 9, 18, 24, 1, 18, 1, 1, 4, 16, 18, 1, 12, 12, 24, 5, 2, 5, 0, 16, 1, 10, 7, 13, 5, 21, 15, 26, 14, 9, 26, 20, 16, 1, 13, 8, 4, 2, 8, 26, 18, 11, 12, 1, 1, 12, 16, 14, 16, 26, 9, 9, 4, 6, 10, 26, 10, 26, 11, 19, 9, 13, 19, 1, 6, 26, 13, 12, 21, 12, 1, 20, 9, 26, 24, 19, 2, 20, 18, 1, 15, 6, 2, 16, 1, 1, 1, 1, 7, 11, 7, 21, 11, 16, 11, 8, 17, 2, 1, 24, 14, 15, 14, 2, 8, 8, 12, 7, 20, 1, 1, 21, 11, 19, 1, 10, 7, 1, 4, 21, 5, 23, 5, 22, 12, 12, 1, 10, 19, 1, 4, 3, 12, 1, 9, 1, 3, 21, 4, 1, 15, 13, 1, 4, 17, 21, 14, 12, 9, 7, 8, 1, 1, 10, 23, 20, 19, 1, 4, 9, 1, 15, 1, 1, 1, 16, 25, 8, 2, 26, 12, 6, 19, 10, 1, 14, 18, 19, 4, 14, 22, 16, 13, 19, 18, 1, 1, 17, 0, 5, 6, 17, 10, 25, 15, 15, 2, 11, 3, 3, 19, 14, 1, 21, 7, 22, 9, 10, 10, 14, 2, 25, 11, 13, 24, 1, 11, 3, 15, 15, 12, 14, 15, 12, 1, 16, 22, 20, 1, 16, 12, 16, 1, 24, 26, 18, 5, 1, 22, 9, 19, 21, 3, 1, 15, 12, 11, 7, 1, 23, 1, 25, 8, 1, 2, 9, 19, 1, 26, 15, 2, 19, 12, 3, 22, 12, 1, 1, 9, 13, 6, 1, 25, 1, 1, 6, 1, 5, 1, 26, 5, 12, 4, 3, 1, 1, 1, 20, 13, 20, 8, 3, 15, 19, 21, 11, 14, 22, 1, 9, 3, 5, 16, 13, 1, 22, 26, 8, 15, 15, 17, 12, 22, 1, 1, 4, 1, 10, 1, 9, 11, 1, 13, 1, 17, 8, 15, 17, 6, 13, 2, 16, 15, 15, 2, 18, 7, 1, 1, 1, 26, 19, 11, 14, 7, 23, 15, 1, 11, 16, 1, 1, 16, 5, 7, 1, 16, 7, 8, 16, 21, 1, 15, 26, 14, 11, 19, 21, 3, 3, 7, 7, 10, 1, 1, 2, 8, 1, 14, 19, 5, 12, 8, 15, 1, 9, 23, 16, 9, 1, 0, 4, 22, 17, 12, 1, 10, 7, 17, 11, 20, 7, 10, 9, 12, 1, 14, 9, 23, 26, 22, 19, 3, 1, 8, 15, 2, 14, 1, 21, 16, 14, 10, 3, 9, 7, 8, 7, 16, 17, 26, 14, 2, 26, 6, 1, 8, 14, 12, 15, 1, 4, 1, 9, 18, 26, 19, 3, 6, 14, 20, 14, 4, 18, 18, 1, 15, 21, 15, 16, 14, 21, 3, 5, 9, 26, 8, 26, 1, 20, 9, 1, 20, 1, 8, 1, 8, 25, 1, 3, 1, 26, 7, 7, 22, 7, 2, 3, 12, 2, 18, 12, 14, 11, 11, 1, 15, 17, 7, 11, 6, 1, 9, 8, 12, 6, 7, 16, 10, 1, 9, 11, 16, 24, 1, 20, 18, 1, 4, 6, 1, 10, 9, 8, 10, 4, 13, 2, 2, 3, 3, 1, 5, 19, 1, 10, 16, 1, 4, 8, 1, 15, 4, 21, 1, 14, 13, 3, 22, 26, 10, 18, 25, 26, 1, 3, 9, 1, 2, 7, 8, 1, 15, 8, 10, 1, 3, 9, 12, 7, 1, 17, 10, 5, 14, 5, 4, 1, 6, 13, 14, 15, 8, 1, 16, 2, 8, 4, 22, 15, 1, 18, 1, 1, 16, 8, 6, 23, 20, 14, 19, 26, 23, 9, 1, 23, 12, 8, 14, 15, 11, 8, 26, 5, 3, 15, 1, 2, 26, 2, 9, 7, 7, 18, 2, 12, 7, 1, 6, 2, 12, 26, 23, 5, 1, 9, 2, 19, 23, 16, 6, 27, 0, 4, 15, 8, 13, 25, 19, 2, 16, 3, 11, 4, 1, 4, 18, 17, 1, 16, 7, 1, 11, 17, 19, 1, 23, 8, 1, 3, 13, 18, 1, 20, 2, 3, 4, 15, 11, 1, 14, 14, 7, 21, 19, 14, 9, 1, 1, 2, 9, 12, 13, 17, 16, 26, 19, 19, 14, 13, 4, 8, 1, 11, 1, 17, 22, 14, 2, 18, 10, 3, 7, 20, 15, 1, 1, 1, 1, 5, 10, 14, 3, 1, 26, 14, 5, 9, 17, 18, 2, 3, 9, 10, 14, 10, 1, 8, 11, 19, 1, 16, 8, 26, 5, 17, 1, 22, 25, 2, 5, 13, 15, 2, 12, 20, 1, 17, 8, 1, 1, 1, 13, 8, 26, 11, 1, 9, 1, 11, 11, 5, 5, 10, 9, 21, 26, 16, 10, 17, 18, 11, 11, 14, 7, 5, 26, 5, 1, 1, 2, 1, 1, 1, 13, 6, 1, 17, 3, 16, 15, 17, 26, 1, 1, 1, 21, 22, 1, 2, 1, 9, 15, 9, 10, 14, 13, 20, 16, 18, 1, 1, 3, 26, 22, 16, 3, 26, 1, 14, 19, 25, 14, 17, 13, 21, 25, 25, 3, 26, 6, 1, 9, 17, 13, 20, 18, 1, 1, 25, 2, 13, 7, 1, 10, 22, 7, 16, 10, 6, 26, 12, 17, 13, 16, 13, 14, 15, 26, 11, 9, 14, 12, 1, 11, 9, 1, 1, 9, 1, 1, 26, 1, 14, 16, 16, 1, 14, 1, 11, 14, 13, 10, 11, 11, 15, 15, 0, 22, 14, 17, 26, 11, 4, 17, 9, 18, 1, 1, 18, 20, 11, 13, 11, 2, 17, 1, 1, 12, 26, 11, 14, 11, 1, 8, 1, 8, 21, 11, 1, 13, 10, 1, 4, 1, 11, 17, 15, 17, 1, 17, 2, 1, 5, 11, 3, 26, 11, 11, 6, 12, 8, 12, 17, 13, 1, 2, 1, 21, 9, 1, 13, 19, 10, 14, 1, 3, 7, 4, 10, 13, 2, 10, 9, 2, 15, 0, 11, 17, 1, 2, 17, 17, 5, 16, 2, 8, 13, 1, 5, 17, 1, 3, 10, 24, 26, 10, 21, 10, 22, 8, 19, 23, 20, 18, 21, 10, 15, 7, 13, 1, 22, 8, 15, 20, 24, 3, 2, 1, 14, 9, 10, 14, 1, 26, 17, 12, 5, 1, 26, 4, 21, 9, 22, 1, 1, 26, 14, 13, 25, 8, 19, 26, 7, 22, 16, 16, 26, 3, 26, 8, 11, 9, 5, 14, 2, 1, 11, 10, 14, 3, 18, 1, 17, 26, 13, 12, 15, 3, 6, 12, 1, 2, 10, 7, 18, 6, 12, 22, 9, 9, 26, 1, 1, 16, 10, 22, 9, 2, 6, 5, 11, 21, 6, 1, 1, 10, 12, 1, 3, 1, 21, 2, 20, 8, 0, 12, 5, 1, 14, 1, 25, 10, 16, 24, 4, 9, 2, 1, 11, 1, 22, 1, 20, 17, 12, 26, 2, 7, 8, 25, 10, 3, 14, 10, 2, 25, 2, 15, 26, 20, 1, 10, 12, 4, 1, 9, 27, 11, 2, 26, 10, 13, 26, 2, 0, 18, 1, 9, 9, 18, 1, 20, 11, 9, 3, 9, 1, 22, 6, 19, 18, 5, 10, 19, 10, 9, 12, 5, 26, 25, 1, 19, 12, 23, 1, 26, 1, 16, 21, 24, 21, 17, 3, 6, 13, 14, 4, 1, 7, 16, 1, 4, 26, 8, 10, 16, 1, 14, 23, 1, 11, 1, 14, 1, 1, 13, 12, 1, 1, 14, 13, 14, 1, 1, 1, 3, 9, 1, 20, 5, 14, 15, 16, 8, 10, 26, 14, 17, 16, 4, 1, 21, 13, 7, 1, 17, 9, 26, 16, 11, 6, 12, 11, 14, 7, 9, 11, 21, 12, 4, 1, 1, 13, 19, 17, 20, 1, 20, 10, 10, 17, 16, 26, 1, 24, 4, 11, 26, 11, 1, 2, 15, 15, 8, 1, 5, 1, 15, 1, 22, 1, 1, 12, 1, 14, 1, 18, 14, 20, 26, 4, 1, 3, 2, 17, 18, 14, 10, 11, 1, 24, 17, 11, 1, 4, 16, 16, 1, 13, 1, 1, 10, 10, 15, 7, 1, 1, 26, 8, 8, 26, 13, 13, 13, 17, 26, 14, 15, 10, 6, 10, 1, 13, 2, 16, 12, 4, 10, 1, 8, 16, 10, 12, 16, 16, 1, 1, 14, 1, 13, 12, 17, 1, 1, 4, 1, 2, 6, 1, 1, 26, 4, 22, 1, 4, 16, 1, 1, 1, 15, 18, 13, 1, 14, 15, 24, 16, 17, 15, 2, 23, 1, 12, 19, 12, 3, 24, 1, 26, 1, 9, 8, 16, 8, 22, 17, 14, 26, 17, 1, 21, 16, 1, 2, 20, 2, 23, 1, 1, 1, 6, 20, 1, 15, 26, 20, 26, 16, 17, 1, 1, 10, 1, 13, 14, 21, 1, 13, 4, 12, 4, 1, 1, 26, 1, 11, 7, 2, 17, 12, 7, 2, 7, 12, 1, 7, 20, 4, 13, 2, 20, 13, 1, 26, 1, 13, 11, 12, 1, 7, 18, 9, 5, 24, 9, 1, 14, 26, 20, 1, 4, 19, 14, 23, 24, 6, 1, 8, 15, 16, 1, 26, 22, 10, 14, 7, 15, 16, 2, 5, 13, 11, 15, 20, 22, 11, 11, 1, 0, 9, 10, 4, 11, 19, 5, 25, 26, 19, 18, 21, 10, 1, 14, 10, 4, 18, 4, 12, 12, 17, 10, 26, 8, 8, 2, 13, 14, 18, 1, 1, 11, 2, 2, 1, 18, 5, 15, 1, 9, 1, 1, 23, 13, 10, 26, 14, 1, 6, 16, 26, 19, 18, 17, 4, 16, 1, 11, 13, 10, 6, 26, 17, 21, 22, 25, 2, 11, 15, 2, 18, 1, 15, 12, 26, 13, 1, 1, 11, 12, 4, 1, 24, 1, 16, 10, 1, 1, 21, 13, 22, 14, 2, 10, 1, 2, 3, 4, 10, 1, 3, 2, 6, 15, 8, 2, 6, 2, 5, 10, 11, 26, 26, 1, 7, 1, 10, 10, 5, 7, 8, 4, 2, 10, 5, 1, 1, 26, 10, 10, 8, 6, 12, 19, 12, 20, 18, 12, 17, 1, 1, 21, 20, 15, 4, 18, 11, 1, 14, 15, 1, 26, 18, 15, 13, 1, 17, 18, 5, 11, 15, 15, 1, 9, 19, 1, 21, 16, 1, 22, 19, 4, 1, 17, 1, 14, 6, 10, 1, 10, 1, 16, 20, 17, 26, 1, 21, 7, 1, 21, 18, 1, 10, 16, 8, 26, 25, 5, 17, 1, 15, 1, 22, 1, 9, 1, 19, 13, 0, 9, 20, 6, 19, 26, 13, 12, 11, 1, 26, 17, 26, 13, 10, 12, 22, 3, 7, 14, 18, 1, 22, 12, 6, 2, 16, 26, 1, 6, 1, 9, 4, 15, 6, 2, 1, 1, 4, 1, 13, 26, 15, 1, 23, 1, 1, 7, 10, 8, 12, 1, 15, 1, 9, 17, 1, 1, 1, 13, 1, 25, 26, 12, 1, 1, 12, 6, 13, 13, 5, 9, 6, 2, 6, 5, 26, 3, 13, 9, 8, 17, 16, 18, 23, 14, 1, 11, 7, 26, 6, 7, 13, 1, 1, 1, 24, 15, 13, 10, 2, 1, 16, 1, 9, 8, 1, 13, 9, 24, 12, 1, 18, 1, 1, 8, 13, 26, 11, 1, 25, 1, 14, 1, 9, 8, 4, 4, 13, 23, 12, 5, 1, 25, 1, 1, 14, 10, 1, 5, 1, 1, 16, 1, 2, 5, 9, 1, 14, 2, 15, 15, 10, 17, 26, 10, 23, 16, 22, 18, 2, 23, 8, 20, 5, 1, 12, 26, 1, 11, 2, 2, 20, 1, 9, 26, 17, 9, 1, 17, 1, 1, 14, 26, 26, 26, 1, 13, 26, 8, 11, 13, 22, 12, 8, 20, 1, 9, 3, 2, 2, 1, 2, 20, 1, 17, 24, 26, 26, 16, 23, 26, 5, 1, 2, 7, 14, 26, 10, 12, 1, 13, 17, 8, 7, 4, 19, 11, 1, 4, 6, 12, 1, 18, 1, 1, 1, 1, 9, 4, 1, 16, 1, 1, 23, 10, 9, 3, 10, 1, 7, 3, 1, 10, 1, 9, 8, 7, 6, 1, 1, 19, 8, 22, 1, 17, 12, 13, 10, 14, 7, 4, 16, 25, 18, 1, 8, 18, 19, 4, 17, 2, 15, 6, 2, 2, 12, 11, 17, 7, 10, 9, 13, 7, 1, 1, 8, 11, 3, 1, 15, 2, 9, 1, 14, 15, 12, 22, 1, 13, 1, 22, 3, 1, 1, 6, 14, 18, 23, 12, 19, 1, 11, 8, 26, 1, 1, 24, 1, 9, 23, 5, 9, 22, 19, 0, 13, 24, 1, 4, 1, 21, 5, 6, 1, 9, 4, 1, 3, 13, 13, 22, 10, 1, 21, 15, 15, 2, 12, 2, 26, 1, 7, 4, 4, 13, 22, 20, 8, 13, 1, 1, 4, 10, 13, 22, 13, 16, 4, 9, 2, 20, 15, 1, 9, 11, 13, 1, 1, 13, 15, 23, 10, 1, 9, 17, 10, 1, 22, 12, 1, 13, 8, 22, 17, 6, 1, 1, 8, 14, 7, 26, 26, 4, 18, 1, 9, 7, 12, 3, 1, 1, 21, 16, 5, 1, 10, 1, 19, 1, 1, 2, 1, 3, 8, 22, 26, 4, 8, 20, 1, 20, 24, 9, 5, 17, 22, 26, 1, 7, 22, 3, 6, 13, 19, 1, 18, 5, 1, 13, 1, 9, 1, 1, 11, 19, 8, 11, 5, 11, 2, 1, 18, 3, 16, 9, 26, 25, 9, 27, 6, 7, 26, 1, 1, 16, 10, 24, 15, 0, 17, 14, 14, 1, 17, 15, 0, 8, 18, 1, 16, 7, 9, 14, 1, 1, 24, 12, 1, 6, 8, 18, 8, 7, 17, 7, 1, 11, 10, 10, 1, 6, 19, 12, 4, 18, 5, 1, 22, 10, 1, 9, 21, 1, 15, 9, 1, 9, 22, 5, 1, 13, 7, 26, 5, 2, 26, 1, 2, 8, 13, 18, 1, 13, 2, 18, 19, 14, 1, 1, 18, 3, 7, 16, 1, 1, 26, 1, 11, 1, 1, 26, 9, 26, 1, 15, 3, 10, 3, 22, 1, 3, 5, 1, 8, 1, 15, 4, 10, 22, 15, 25, 11, 11, 21, 12, 26, 1, 5, 8, 9, 1, 9, 1, 2, 9, 3, 1, 1, 15, 9, 1, 12, 23, 5, 1, 19, 6, 2, 3, 17, 20, 26, 26, 15, 1, 10, 25, 22, 1, 3, 12, 12, 16, 7, 12, 15, 4, 12, 4, 1, 12, 1, 3, 1, 1, 1, 1, 10, 24, 1, 10, 14, 8, 18, 1, 26, 7, 9, 10, 13, 17, 1, 1, 23, 1, 16, 14, 9, 3, 2, 10, 11, 1, 27, 18, 16, 1, 7, 16, 21, 11, 1, 17, 1, 16, 12, 27, 1, 5, 10, 1, 1, 26, 1, 1, 14, 1, 15, 9, 16, 20, 5, 22, 4, 9, 15, 1, 2, 1, 9, 2, 19, 1, 20, 19, 1, 1, 16, 10, 18, 2, 10, 21, 16, 4, 1, 25, 5, 20, 2, 2, 1, 1, 26, 12, 14, 9, 13, 1, 10, 14, 15, 1, 22, 21, 16, 1, 1, 13, 12, 14, 1, 17, 6, 1, 9, 1, 14, 2, 26, 10, 14, 10, 12, 25, 20, 4, 18, 24, 4, 1, 23, 14, 1, 20, 14, 1, 11, 5, 10, 21, 1, 13, 10, 23, 9, 26, 13, 9, 18, 2, 17, 3, 17, 9, 1, 6, 24, 14, 21, 0, 13, 1, 14, 26, 13, 4, 17, 4, 21, 15, 12, 10, 13, 3, 11, 20, 17, 5, 3, 26, 11, 2, 1, 13, 20, 15, 16, 10, 21, 17, 4, 11, 26, 1, 8, 2, 17, 26, 7, 10, 4, 1, 8, 6, 6, 2, 2, 8, 1, 11, 10, 10, 1, 5, 26, 6, 22, 9, 18, 13, 7, 6, 3, 1, 1, 9, 15, 2, 9, 17, 4, 21, 1, 7, 6, 8, 15, 1, 7, 26, 18, 12, 15, 7, 17, 13, 14, 12, 13, 19, 13, 9, 18, 17, 16, 8, 15, 12, 1, 5, 15, 7, 15, 11, 1, 2, 1, 9, 20, 1, 8, 13, 4, 3, 9, 1, 17, 5, 18, 18, 22, 16, 9, 15, 16, 16, 1, 2, 13, 26, 2, 22, 20, 26, 8, 15, 9, 9, 1, 1, 2, 1, 12, 9, 22, 1, 18, 14, 1, 10, 16, 20, 23, 5, 1, 3, 1, 13, 3, 2, 1, 26, 10, 17, 1, 27, 5, 0, 26, 5, 13, 1, 0, 3, 24, 1, 10, 7, 21, 1, 2, 20, 6, 22, 9, 1, 11, 5, 13, 2, 21, 2, 11, 18, 8, 24, 18, 20, 23, 1, 1, 11, 1, 1, 17, 1, 12, 11, 2, 11, 13, 21, 16, 22, 3, 19, 27, 6, 2, 26, 17, 4, 6, 16, 3, 20, 14, 1, 5, 3, 11, 5, 15, 26, 1, 9, 1, 0, 9, 1, 17, 1, 2, 18, 1, 3, 11, 11, 9, 26, 18, 15, 8, 1, 3, 14, 11, 26, 1, 8, 1, 1, 22, 2, 8, 26, 18, 3, 11, 10, 1, 17, 13, 15, 1, 1, 20, 13, 2, 13, 2, 14, 8, 26, 1, 8, 10, 6, 3, 11, 3, 8, 1, 7, 22, 12, 2, 14, 9, 7, 27, 23, 2, 1, 1, 26, 6, 19, 22, 13, 2, 2, 6, 23, 14, 22, 1, 3, 19, 1, 18, 6, 7, 20, 1, 14, 2, 8, 18, 1, 4, 17, 19, 17, 1, 1, 13, 1, 19, 10, 10, 1, 18, 16, 2, 13, 1, 1, 4, 1, 19, 25, 6, 5, 13, 2, 3, 1, 12, 14, 20, 20, 17, 9, 1, 2, 1, 13, 3, 16, 1, 2, 1, 4, 2, 22, 1, 1, 17, 10, 1, 2, 19, 13, 1, 1, 15, 19, 18, 15, 12, 7, 5, 13, 1, 22, 4, 13, 2, 1, 1, 23, 1, 1, 5, 1, 17, 1, 1, 8, 15, 21, 13, 23, 9, 1, 7, 2, 2, 2, 19, 1, 11, 17, 4, 5, 15, 1, 2, 14, 10, 1, 5, 11, 1, 10, 13, 26, 21, 13, 15, 15, 22, 7, 8, 11, 10, 9, 19, 11, 4, 1, 14, 9, 11, 1, 16, 26, 1, 9, 12, 2, 18, 17, 1, 25, 1, 6, 5, 1, 1, 10, 1]\n"
          ]
        }
      ],
      "source": [
        "import numpy as np\n",
        "y_pred_list=[]\n",
        "for x in y_pred:\n",
        "  indices = np.where(x == x.max())\n",
        "  # print(indices)\n",
        "  y_pred_list.append(indices[0][0])\n",
        "\n",
        "print(y_pred_list)\n"
      ]
    },
    {
      "cell_type": "code",
      "source": [
        "print(y_test_list)"
      ],
      "metadata": {
        "colab": {
          "base_uri": "https://localhost:8080/"
        },
        "id": "9PEnPQx2fBaw",
        "outputId": "8aba429a-4a46-47d6-c2d7-b1aab6d0f97e"
      },
      "execution_count": 61,
      "outputs": [
        {
          "output_type": "stream",
          "name": "stdout",
          "text": [
            "[1, 3, 1, 1, 9, 0, 0, 8, 7, 1, 3, 6, 7, 5, 3, 4, 2, 8, 1, 5, 6, 4, 9, 1, 2, 3, 5, 8, 5, 4, 6, 0, 0, 7, 5, 6, 2, 6, 3, 9, 6, 2, 7, 1, 0, 0, 9, 9, 0, 8, 3, 2, 5, 5, 8, 4, 2, 4, 7, 8, 4, 8, 2, 4, 8, 6, 4, 4, 7, 3, 2, 9, 4, 1, 0, 7, 8, 5, 5, 0, 0, 7, 7, 4, 2, 2, 3, 2, 6, 3, 7, 4, 2, 9, 2, 1, 8, 7, 8, 0, 6, 6, 7, 8, 2, 5, 3, 0, 1, 2, 5, 6, 7, 9, 5, 6, 9, 2, 0, 3, 5, 8, 6, 9, 2, 8, 6, 0, 4, 4, 0, 1, 1, 6, 0, 0, 4, 1, 8, 1, 9, 7, 9, 2, 7, 7, 0, 9, 9, 9, 1, 1, 8, 2, 8, 9, 6, 7, 1, 7, 7, 4, 2, 5, 0, 7, 2, 6, 2, 7, 0, 3, 8, 2, 7, 4, 4, 3, 2, 9, 5, 6, 6, 7, 6, 6, 5, 6, 2, 0, 4, 9, 6, 6, 1, 9, 5, 2, 9, 2, 5, 6, 5, 0, 7, 8, 9, 7, 1, 4, 1, 3, 3, 8, 8, 4, 7, 4, 3, 9, 4, 3, 9, 5, 0, 1, 4, 9, 3, 5, 5, 1, 8, 4, 1, 6, 4, 3, 0, 6, 2, 5, 9, 8, 0, 7, 1, 6, 6, 1, 1, 2, 3, 3, 9, 0, 8, 2, 6, 6, 3, 8, 8, 8, 4, 4, 1, 5, 0, 9, 3, 3, 1, 3, 3, 3, 9, 1, 8, 9, 6, 2, 4, 0, 0, 8, 9, 5, 6, 5, 6, 9, 7, 3, 6, 0, 0, 1, 1, 7, 9, 8, 2, 3, 4, 0, 5, 6, 2, 3, 0, 8, 0, 7, 9, 1, 0, 0, 2, 1, 6, 3, 0, 5, 7, 1, 4, 6, 7, 2, 7, 4, 3, 6, 6, 6, 2, 0, 2, 0, 9, 4, 5, 3, 4, 8, 6, 6, 8, 9, 7, 1, 5, 7, 1, 0, 3, 9, 2, 2, 6, 2, 1, 0, 6, 1, 7, 4, 9, 2, 9, 4, 2, 8, 7, 8, 3, 3, 1, 7, 7, 2, 1, 0, 2, 2, 2, 9, 5, 6, 5, 9, 2, 8, 1, 7, 5, 9, 3, 2, 5, 3, 3, 5, 6, 9, 2, 7, 6, 8, 5, 1, 3, 7, 4, 4, 0, 5, 6, 2, 5, 5, 3, 7, 4, 9, 7, 9, 3, 9, 8, 2, 1, 5, 5, 6, 7, 9, 1, 4, 5, 5, 4, 7, 9, 5, 8, 2, 5, 9, 1, 5, 0, 1, 0, 3, 3, 6, 1, 8, 2, 7, 2, 7, 8, 4, 9, 0, 4, 9, 9, 5, 4, 2, 0, 5, 1, 2, 7, 0, 0, 1, 8, 2, 2, 6, 7, 0, 0, 4, 5, 0, 4, 9, 1, 6, 7, 6, 3, 6, 4, 5, 4, 6, 3, 2, 2, 6, 9, 9, 9, 7, 5, 2, 1, 1, 5, 6, 9, 1, 8, 7, 8, 4, 3, 8, 2, 5, 1, 4, 1, 4, 8, 7, 4, 5, 5, 7, 8, 5, 7, 0, 8, 8, 2, 7, 3, 2, 6, 8, 7, 8, 6, 9, 1, 3, 8, 2, 2, 9, 7, 8, 8, 3, 8, 7, 6, 8, 2, 0, 7, 4, 0, 6, 3, 1, 1, 0, 7, 0, 6, 8, 5, 3, 4, 0, 0, 0, 8, 6, 9, 6, 7, 0, 6, 0, 8, 9, 6, 0, 6, 3, 4, 4, 3, 3, 0, 2, 5, 8, 7, 2, 2, 3, 6, 7, 6, 1, 2, 9, 3, 3, 5, 0, 5, 9, 7, 2, 6, 3, 1, 9, 6, 5, 9, 3, 8, 3, 4, 2, 2, 4, 2, 9, 0, 2, 5, 6, 3, 3, 5, 4, 5, 9, 6, 2, 5, 1, 9, 0, 0, 3, 7, 7, 7, 9, 3, 0, 9, 8, 6, 5, 2, 6, 0, 7, 1, 9, 1, 7, 1, 7, 0, 2, 4, 1, 1, 4, 7, 8, 3, 6, 6, 7, 2, 1, 9, 3, 0, 7, 1, 7, 5, 5, 4, 9, 3, 7, 3, 8, 8, 3, 6, 1, 7, 1, 3, 9, 7, 9, 9, 2, 7, 8, 6, 4, 4, 3, 9, 7, 6, 3, 2, 8, 4, 6, 1, 7, 4, 2, 9, 3, 7, 3, 4, 7, 6, 5, 2, 0, 8, 1, 4, 1, 8, 4, 9, 9, 6, 5, 8, 9, 3, 4, 4, 6, 5, 0, 6, 4, 6, 9, 1, 7, 4, 0, 0, 2, 9, 7, 4, 5, 2, 5, 9, 8, 3, 9, 1, 4, 3, 2, 8, 2, 3, 0, 2, 0, 1, 1, 3, 5, 6, 1, 3, 3, 3, 6, 5, 0, 1, 6, 3, 5, 6, 1, 6, 2, 8, 7, 6, 4, 1, 3, 5, 3, 9, 8, 7, 2, 2, 9, 5, 1, 7, 0, 4, 3, 4, 6, 5, 5, 0, 0, 6, 4, 5, 2, 4, 2, 9, 8, 3, 3, 7, 9, 9, 1, 8, 7, 0, 4, 2, 8, 9, 6, 1, 6, 1, 3, 7, 6, 6, 5, 1, 8, 7, 7, 9, 7, 0, 7, 2, 7, 8, 1, 8, 7, 9, 1, 6, 8, 7, 7, 1, 7, 6, 3, 9, 5, 8, 5, 0, 6, 0, 1, 6, 3, 4, 9, 2, 0, 3, 5, 6, 7, 3, 2, 5, 8, 3, 4, 8, 6, 6, 8, 3, 7, 0, 5, 0, 0, 7, 7, 5, 6, 8, 2, 7, 2, 6, 4, 4, 0, 9, 3, 9, 0, 0, 5, 3, 6, 4, 9, 2, 2, 3, 2, 8, 4, 8, 1, 7, 9, 1, 0, 1, 4, 8, 1, 7, 9, 7, 4, 5, 9, 1, 3, 4, 2, 9, 3, 2, 5, 4, 3, 8, 1, 5, 9, 0, 5, 7, 3, 0, 8, 3, 9, 9, 6, 9, 4, 6, 9, 1, 5, 7, 1, 8, 1, 1, 1, 1, 6, 9, 8, 2, 4, 9, 3, 4, 9, 5, 3, 8, 6, 0, 5, 7, 5, 8, 5, 2, 0, 5, 7, 0, 1, 7, 5, 0, 6, 1, 0, 9, 6, 7, 0, 9, 3, 9, 5, 2, 5, 7, 5, 6, 2, 5, 9, 3, 5, 9, 5, 2, 0, 3, 3, 7, 1, 8, 7, 3, 6, 1, 4, 7, 7, 9, 0, 0, 2, 7, 6, 9, 4, 1, 4, 9, 9, 7, 0, 7, 6, 4, 8, 7, 8, 2, 2, 2, 9, 3, 9, 7, 1, 0, 6, 9, 2, 1, 0, 2, 0, 9, 2, 2, 3, 7, 0, 4, 4, 0, 5, 9, 6, 9, 8, 6, 5, 5, 2, 6, 1, 2, 9, 1, 3, 0, 8, 1, 5, 3, 7, 2, 2, 3, 4, 1, 7, 9, 4, 1, 9, 0, 5, 1, 5, 3, 5, 7, 9, 4, 6, 5, 2, 8, 3, 8, 2, 7, 6, 1, 2, 5, 7, 2, 0, 4, 9, 3, 4, 0, 3, 6, 5, 0, 4, 5, 8, 1, 6, 9, 5, 2, 5, 1, 2, 6, 6, 8, 7, 3, 4, 4, 5, 2, 2, 2, 2, 2, 6, 7, 2, 8, 9, 2, 6, 5, 7, 9, 4, 1, 4, 2, 6, 3, 5, 3, 5, 9, 7, 3, 8, 6, 7, 2, 8, 9, 4, 8, 1, 7, 9, 6, 7, 3, 0, 1, 9, 4, 9, 6, 9, 6, 0, 8, 3, 2, 5, 9, 1, 1, 0, 9, 2, 1, 0, 8, 3, 6, 5, 1, 0, 6, 6, 7, 5, 7, 1, 7, 3, 7, 0, 6, 9, 6, 8, 4, 6, 4, 1, 2, 6, 5, 2, 5, 7, 5, 6, 0, 3, 1, 2, 1, 4, 5, 0, 2, 0, 9, 7, 1, 8, 5, 1, 4, 0, 3, 8, 4, 0, 9, 6, 0, 1, 8, 2, 8, 9, 7, 8, 8, 5, 4, 2, 2, 7, 0, 0, 7, 0, 7, 5, 8, 5, 6, 5, 1, 8, 3, 3, 3, 9, 3, 9, 0, 8, 5, 7, 7, 3, 5, 9, 7, 7, 8, 6, 0, 0, 1, 8, 8, 5, 2, 8, 9, 4, 8, 6, 8, 0, 4, 4, 3, 7, 9, 9, 7, 1, 9, 5, 4, 9, 0, 3, 7, 5, 1, 1, 8, 1, 6, 9, 3, 5, 1, 4, 7, 1, 9, 5, 7, 2, 8, 0, 7, 9, 8, 4, 3, 8, 6, 3, 9, 0, 6, 6, 3, 7, 8, 1, 1, 1, 7, 8, 4, 3, 7, 1, 1, 3, 6, 3, 5, 0, 6, 2, 3, 0, 3, 4, 1, 9, 3, 5, 1, 9, 6, 4, 4, 0, 9, 6, 2, 1, 4, 3, 6, 5, 7, 7, 4, 4, 8, 0, 0, 5, 2, 6, 2, 4, 5, 2, 4, 5, 5, 6, 0, 6, 6, 3, 2, 7, 5, 5, 2, 9, 8, 4, 8, 7, 5, 7, 4, 4, 7, 0, 9, 4, 0, 3, 3, 1, 6, 5, 2, 3, 4, 3, 4, 1, 5, 5, 6, 9, 5, 7, 3, 9, 9, 9, 6, 4, 8, 4, 2, 2, 8, 2, 1, 4, 6, 2, 7, 1, 9, 4, 1, 3, 5, 1, 0, 0, 1, 5, 9, 7, 0, 9, 1, 8, 0, 8, 5, 2, 0, 7, 5, 1, 5, 3, 7, 1, 6, 8, 6, 9, 8, 9, 1, 2, 3, 3, 6, 9, 9, 0, 1, 9, 1, 9, 2, 7, 6, 1, 3, 2, 5, 3, 9, 2, 0, 5, 8, 5, 2, 2, 8, 9, 4, 2, 6, 8, 2, 4, 8, 7, 5, 0, 6, 7, 0, 6, 0, 0, 7, 5, 0, 8, 9, 2, 0, 5, 8, 4, 0, 8, 1, 9, 8, 9, 0, 4, 7, 0, 9, 7, 9, 7, 3, 6, 3, 1, 7, 5, 8, 2, 1, 9, 8, 8, 3, 9, 6, 2, 1, 0, 8, 4, 8, 0, 6, 7, 9, 6, 7, 6, 6, 7, 6, 3, 5, 0, 8, 2, 7, 6, 9, 8, 0, 5, 7, 0, 3, 5, 5, 6, 2, 9, 6, 9, 3, 2, 0, 8, 2, 2, 7, 9, 9, 0, 9, 7, 7, 0, 6, 0, 6, 7, 5, 7, 8, 5, 0, 8, 0, 0, 0, 8, 4, 7, 0, 2, 4, 6, 2, 4, 7, 0, 4, 8, 5, 1, 0, 1, 4, 4, 0, 6, 4, 3, 8, 9, 8, 3, 4, 2, 9, 7, 7, 1, 4, 1, 3, 3, 7, 5, 8, 2, 4, 0, 0, 4, 1, 2, 8, 4, 1, 6, 4, 8, 2, 4, 4, 5, 1, 5, 3, 6, 8, 7, 6, 1, 1, 3, 8, 0, 9, 0, 8, 8, 4, 4, 5, 8, 9, 3, 0, 8, 6, 4, 1, 6, 5, 8, 2, 3, 1, 0, 5, 7, 7, 6, 3, 6, 6, 1, 8, 1, 7, 8, 1, 9, 9, 7, 9, 3, 8, 1, 7, 4, 4, 0, 6, 2, 0, 5, 7, 8, 2, 3, 1, 4, 8, 3, 3, 5, 7, 4, 5, 6, 9, 4, 7, 7, 9, 6, 7, 5, 9, 7, 2, 4, 4, 0, 3, 3, 5, 0, 7, 5, 7, 9, 0, 8, 6, 6, 9, 5, 5, 4, 1, 3, 7, 4, 0, 1, 5, 8, 6, 9, 6, 3, 3, 0, 7, 3, 3, 4, 6, 2, 4, 4, 0, 9, 2, 2, 9, 1, 1, 7, 3, 9, 1, 2, 7, 4, 7, 9, 0, 2, 8, 9, 8, 9, 7, 6, 6, 0, 9, 6, 1, 3, 0, 5, 3, 2, 7, 1, 7, 1, 6, 1, 8, 5, 6, 0, 1, 4, 3, 0, 3, 7, 0, 5, 9, 9, 7, 4, 8, 7, 6, 4, 3, 2, 4, 7, 0, 2, 1, 4, 8, 1, 4, 8, 7, 9, 5, 0, 2, 3, 7, 8, 0, 1, 5, 6, 0, 8, 2, 3, 9, 1, 0, 9, 0, 8, 1, 1, 9, 4, 5, 5, 0, 1, 6, 5, 7, 4, 6, 9, 0, 6, 8, 0, 8, 2, 9, 2, 8, 2, 8, 6, 4, 8, 8, 1, 0, 1, 1, 9, 3, 3, 4, 4, 9, 9, 2, 3, 7, 0, 0, 7, 8, 5, 5, 8, 6, 9, 1, 1, 9, 8, 0, 5, 5, 5, 9, 6, 3, 4, 4, 7, 5, 7, 3, 0, 3, 8, 6, 1, 9, 7, 4, 7, 0, 0, 8, 9, 6, 7, 6, 8, 0, 0, 0, 1, 2, 1, 9, 7, 0, 9, 5, 2, 8, 5, 5, 0, 5, 0, 6, 7, 3, 9, 0, 1, 3, 8, 5, 1, 2, 1, 2, 6, 1, 7, 4, 9, 4, 5, 7, 0, 8, 7, 4, 3, 0, 2, 5, 5, 7, 7, 3, 0, 8, 5, 6, 4, 6, 0, 8, 9, 3, 2, 3, 4, 8, 1, 5, 3, 1, 8, 8, 9, 8, 0, 6, 3, 1, 0, 4, 7, 4, 6, 8, 9, 6, 5, 1, 8, 7, 2, 9, 2, 1, 2, 7, 8, 6, 1, 0, 5, 1, 6, 0, 8, 0, 6, 9, 8, 8, 5, 7, 6, 7, 6, 8, 3, 3, 6, 9, 7, 1, 2, 4, 2, 7, 2, 1, 9, 0, 7, 7, 5, 8, 3, 4, 1, 6, 6, 9, 2, 9, 0, 9, 9, 9, 6, 4, 8, 6, 0, 8, 1, 3, 2, 3, 5, 4, 5, 0, 9, 1, 0, 7, 3, 2, 7, 5, 0, 9, 6, 7, 8, 5, 1, 6, 1, 1, 4, 7, 8, 0, 0, 5, 1, 6, 6, 8, 5, 4, 1, 5, 0, 5, 8, 5, 6, 7, 5, 6, 2, 7, 9, 3, 7, 3, 2, 0, 8, 4, 1, 7, 1, 1, 3, 2, 7, 4, 6, 5, 0, 5, 1, 9, 9, 7, 8, 8, 5, 5, 4, 9, 4, 0, 5, 9, 5, 9, 9, 6, 3, 0, 7, 4, 4, 6, 4, 8, 0, 6, 2, 5, 4, 3, 7, 1, 2, 6, 7, 1, 1, 5, 9, 0, 1, 5, 5, 4, 8, 9, 7, 3, 2, 6, 2, 2, 8, 3, 1, 7, 9, 4, 9, 7, 1, 9, 4, 5, 6, 1, 1, 8, 1, 2, 0, 0, 1, 0, 0, 3, 6, 4, 2, 3, 1, 8, 1, 9, 1, 0, 9, 5, 9, 5, 1, 1, 0, 6, 7, 0, 6, 8, 5, 4, 6, 2, 0, 4, 8, 5, 1, 4, 9, 9, 7, 5, 6, 3, 8, 1, 0, 1, 6, 6, 7, 2, 6, 8, 7, 3, 9, 8, 2, 8, 6, 0, 7, 3, 5, 8, 1, 3, 7, 3, 8, 6, 6, 3, 2, 6, 0, 6, 6, 4, 4, 6, 1, 5, 0, 8, 4, 2, 6, 9, 2, 4, 5, 2, 9, 8, 8, 0, 2, 4, 5, 7, 9, 0, 0, 1, 4, 0, 7, 8, 6, 5, 3, 7, 7, 3, 7, 5, 1, 7, 3, 7, 8, 5, 4, 4, 8, 3, 9, 0, 1, 9, 8, 0, 6, 8, 7, 9, 1, 8, 5, 1, 0, 4, 2, 2, 7, 3, 2, 3, 4, 5, 4, 4, 4, 7, 6, 0, 8, 3, 1, 7, 8, 6, 4, 4, 7, 9, 3, 3, 3, 8, 4, 2, 2, 4, 4, 3, 0, 2, 7, 0, 5, 1, 8, 5, 7, 6, 9, 9, 6, 8, 4, 1, 1, 8, 5, 7, 7, 4, 9, 5, 0, 4, 2, 6, 8, 5, 4, 8, 1, 3, 8, 3, 8, 7, 4, 3, 4, 8, 3, 1, 3, 1, 0, 6, 1, 8, 9, 8, 3, 0, 1, 2, 6, 3, 8, 0, 2, 9, 2, 9, 0, 8, 4, 0, 6, 4, 1, 2, 9, 5, 5, 6, 5, 8, 9, 3, 2, 2, 7, 1, 1, 5, 7, 9, 2, 3, 5, 9, 3, 6, 4, 5, 4, 8, 6, 8, 6, 3, 7, 1, 4, 0, 9, 7, 5, 1, 2, 4, 2, 1, 5, 2, 1, 3, 3, 8, 5, 1, 8, 5, 5, 2, 7, 6, 1, 4, 3, 3, 6, 6, 8, 7, 1, 3, 1, 7, 5, 8, 5, 5, 2, 2, 9, 7, 1, 1, 1, 3, 9, 3, 8, 4, 8, 4, 2, 9, 8, 1, 5, 6, 5, 5, 7, 2, 9, 4, 4, 4, 0, 7, 7, 7, 4, 5, 5, 9, 7, 0, 7, 1, 2, 3, 9, 8, 8, 4, 3, 1, 4, 1, 3, 1, 1, 3, 4, 8, 5, 0, 1, 4, 2, 8, 8, 2, 5, 2, 7, 2, 3, 5, 8, 6, 8, 9, 7, 4, 5, 3, 7, 7, 1, 6, 5, 5, 5, 2, 2, 7, 0, 9, 8, 4, 0, 5, 5, 7, 8, 9, 1, 9, 5, 4, 9, 2, 9, 8, 4, 7, 8, 4, 6, 6, 5, 1, 7, 5, 8, 8, 4, 5, 0, 4, 5, 6, 4, 8, 1, 9, 1, 8, 1, 2, 8, 9, 5, 3, 6, 8, 6, 7, 0, 4, 6, 3, 3, 7, 6, 9, 7, 8, 7, 1, 9, 6, 8, 7, 9, 5, 6, 8, 5, 3, 4, 0, 3, 1, 9, 0, 8, 3, 1, 7, 3, 7, 0, 4, 8, 6, 2, 1, 3, 8, 1, 1, 3, 7, 5, 8, 7, 8, 6, 4, 7, 4, 4, 6, 5, 9, 5, 0, 4, 5, 3, 9, 5, 6, 9, 9, 9, 1, 6, 8, 6, 7, 5, 7, 6, 6, 6, 6, 8, 3, 3, 0, 4, 6, 7, 8, 1, 3, 3, 1, 7, 9, 3, 3, 9, 1, 8, 3, 6, 9, 7, 7, 7, 7, 3, 4, 3, 3, 7, 6, 4, 0, 1, 0, 0, 1, 0, 8, 1, 9, 2, 0, 0, 3, 3, 5, 2, 8, 5, 4, 0, 5, 4, 7, 2, 6, 2, 3, 8, 2, 9, 7, 3, 1, 6, 5, 0, 9, 0, 3, 9, 6, 6, 0, 8, 7, 7, 1, 3, 5, 4, 0, 0, 6, 3, 8, 3, 8, 9, 7, 3, 5, 9, 4, 3, 3, 4, 9, 6, 3, 4, 9, 2, 6, 3, 7, 6, 4, 0, 9, 2, 2, 3, 6, 4, 4, 6, 8, 0, 7, 5, 6, 1, 9, 9, 9, 3, 4, 6, 6, 6, 9, 1, 8, 0, 4, 8, 6, 1, 4, 5, 4, 8, 5, 4, 6, 5, 0, 6, 0, 8, 4, 2, 8, 1, 6, 6, 1, 4, 2, 6, 2, 4, 7, 1, 3, 7, 6, 6, 1, 4, 4, 5, 0, 3, 6, 5, 0, 5, 1, 6, 6, 4, 9, 7, 7, 3, 8, 0, 8, 7, 6, 4, 5, 6, 3, 5, 5, 8, 8, 6, 9, 7, 5, 2, 6, 0, 1, 8, 6, 4, 0, 3, 2, 5, 3, 4, 8, 5, 7, 9, 8, 9, 6, 9, 4, 4, 9, 4, 4, 0, 3, 6, 8, 7, 4, 9, 7, 3, 4, 5, 0, 0, 8, 4, 9, 8, 1, 4, 9, 5, 3, 2, 1, 9, 1, 6, 3, 1, 3, 7, 9, 0, 3, 4, 8, 3, 6, 6, 5, 0, 1, 7, 6, 0, 3, 9, 1, 7, 6, 7, 3, 7, 9, 8, 2, 2, 2, 7, 6, 6, 1, 1, 4, 9, 0, 1, 8, 0, 3, 7, 0, 0, 3, 9, 4, 6, 5, 5, 7, 7, 3, 4, 8, 4, 7, 9, 7, 8, 3, 0, 4, 7, 3, 4, 8, 6, 8, 0, 2, 9, 2, 1, 1, 3, 2, 4, 5, 4, 2, 0, 4, 4, 1, 2, 9, 1, 9, 9, 3, 6, 0, 4, 9, 6, 4, 2, 9, 7, 2, 3, 9, 4, 4, 6, 5, 6, 6, 6, 8, 6, 4, 0, 4, 2, 8, 5, 8, 3, 6, 4, 4, 0, 8, 3, 8, 5, 7, 9, 7, 5, 3, 4, 9, 8, 2, 2, 8, 5, 3, 4, 8, 8, 1, 3, 9, 8, 4, 5, 0, 7, 6, 0, 7, 0, 5, 1, 2, 2, 7, 4, 2, 0, 5, 8, 7, 7, 6, 1, 0, 4, 1, 2, 2, 8, 4, 9, 5, 5, 1, 3, 7, 5, 7, 3, 7, 6, 4, 7, 4, 4, 2, 4, 4, 0, 9, 4, 6, 1, 2, 8, 6, 1, 6, 4, 1, 4, 8, 0, 0, 4, 7, 8, 6, 0, 3, 2, 9, 2, 4, 9, 7, 0, 2, 2, 7, 4, 3, 2, 2, 8, 1, 7, 4, 6, 6, 3, 3, 0, 4, 8, 1, 6, 9, 3, 6, 3, 0, 5, 5, 7, 6, 3, 9, 8, 2, 3, 9, 9, 2, 3, 9, 8, 1, 5, 8, 5, 0, 5, 6, 0, 4, 7, 4, 9, 1, 8, 8, 9, 1, 5, 9, 5, 5, 3, 3, 5, 3, 7, 0, 2, 4, 2, 9, 4, 4, 3, 1, 5, 8, 0, 7, 5, 2, 9, 2, 4, 8, 5, 5, 8, 1, 9, 6, 7, 0, 8, 0, 8, 0, 5, 4, 0, 6, 0, 8, 3, 4, 1, 5, 3, 2, 9, 5, 5, 4, 9, 4, 4, 6, 1, 6, 9, 1, 5, 3, 1, 4, 2, 9, 2, 8, 1, 8, 5, 8, 2, 6, 9, 4, 1, 4, 2, 8, 7, 7, 1, 2, 5, 7, 1, 2, 4, 3, 9, 5, 0, 6, 8, 1, 4, 0, 2, 1, 4, 0, 9, 0, 9, 8, 1, 6, 4, 6, 2, 4, 1, 9, 5, 5, 5, 8, 3, 3, 5, 0, 1, 9, 8, 3, 5, 8, 5, 8, 4, 7, 9, 5, 4, 3, 8, 1, 5, 4, 2, 5, 8, 4, 7, 9, 6, 8, 2, 5, 6, 3, 9, 5, 9, 4, 3, 3, 3, 9, 2, 3, 5, 0, 1, 9, 7, 9, 4, 5, 1, 9, 1, 8, 1, 5, 8, 7, 1, 7, 2, 3, 3, 2, 7, 2, 1, 8, 8, 6, 3, 2, 6, 0, 1, 8, 6, 9, 7, 9, 6, 3, 4, 1, 5, 9, 4, 3, 3, 8, 4, 4, 0, 8, 3, 4, 9, 0, 3, 7, 5, 2, 9, 2, 9, 5, 8, 9, 7, 2, 4, 8, 9, 4, 1, 2, 4, 5, 3, 5, 1, 0, 2, 1, 0, 5, 0, 7, 3, 5, 9, 4, 7, 0, 8, 5, 2, 3, 6, 6, 7, 5, 1, 3, 3, 8, 0, 8, 0, 6, 9, 6, 7, 0, 6, 7, 5, 1, 4, 6, 3, 5, 3, 3, 0, 5, 8, 3, 4, 7, 9, 3, 0, 1, 4, 3, 2, 7, 6, 4, 5, 7, 6, 7, 6, 3, 4, 9, 6, 2, 1, 6, 3, 7, 0, 9, 5, 1, 0, 2, 7, 4, 9, 4, 4, 6, 4, 0, 7, 6, 2, 4, 7, 8, 7, 6, 9, 2, 0, 0, 8, 1, 1, 8, 8, 0, 6, 3, 3, 4, 7, 8, 1, 7, 2, 2, 8, 3, 9, 0, 4, 6, 9, 4, 6, 5, 4, 7, 4, 6, 3, 4, 4, 1, 9, 6, 4, 3, 0, 0, 7, 8, 6, 9, 9, 1, 7, 0, 5, 2, 2, 4, 3, 5, 9, 5, 7, 0, 2, 5, 9, 3, 0, 9, 0, 1, 4, 0, 4, 0, 5, 2, 6, 9, 7, 3, 0, 1, 3, 1, 1, 6, 2, 5, 7, 1, 4, 3, 1, 4, 8, 3, 2, 4, 3, 8, 8, 1, 1, 0, 6, 3, 9, 5, 0, 0, 5, 1, 1, 1, 8, 3, 2, 4, 6, 6, 0, 8, 4, 3, 8, 9, 5, 9, 1, 3, 7, 5, 7, 5, 0, 4, 4, 8, 0, 0, 2, 3, 6, 6, 1, 8, 3, 3, 7, 8, 7, 6, 6, 2, 8, 2, 6, 8, 8, 1, 0, 1, 4, 5, 0, 4, 3, 9, 0, 5, 4, 1, 6, 6, 0, 0, 6, 2, 6, 3, 6, 4, 7, 1, 9, 1, 2, 6, 0, 5, 6, 2, 3, 3, 7, 3, 5, 8, 9, 3, 2, 1, 2, 2, 7, 9, 8, 1, 2, 3, 8, 7, 6, 8, 7, 1, 0, 3, 1, 6, 3, 4, 9, 9, 1, 4, 1, 0, 9, 7, 7, 2, 4, 1, 4, 6, 4, 1, 4, 5, 1, 9, 5, 5, 3, 9, 8, 0, 4, 4, 8, 5, 6, 4, 9, 0, 0, 3, 5, 7, 7, 0, 5, 4, 4, 2, 4, 4, 8, 5, 2, 9, 4, 2, 9, 5, 2, 4, 0, 5, 9, 1, 5, 1, 4, 4, 4, 2, 8, 4, 6, 4, 1, 6, 4, 2, 0, 8, 1, 0, 3, 0, 5, 0, 6, 8, 6, 0, 6, 9, 8, 7, 5, 7, 4, 0, 9, 6, 5, 7, 2, 7, 9, 8, 7, 0, 9, 1, 5, 0, 6, 3, 1, 8, 8, 4, 3, 8, 0, 4, 9, 1, 1, 7, 0, 7, 6, 1, 1, 5, 4, 4, 0, 5, 5, 4, 3, 5, 1, 0, 9, 6, 3, 7, 5, 9, 7, 2, 1, 4, 4, 6, 0, 9, 4, 8, 3, 8, 4, 1, 9, 9, 7, 1, 7, 1, 3, 1, 2, 3, 0, 2, 7, 6, 3, 2, 1, 3, 8, 4, 5, 0, 6, 9, 9, 1, 9, 3, 1, 9, 5, 5, 7, 0, 2, 3, 7, 8, 6, 5, 4, 8, 7, 5, 9, 7, 8, 6, 4, 0, 2, 2, 5, 7, 9, 2, 1, 3, 3, 1, 0, 8, 6, 7, 2, 7, 8, 3, 0, 5, 1, 9, 4, 3, 8, 6, 7, 1, 9, 9, 7, 8, 1, 9, 8, 1, 0, 8, 8, 4, 0, 3, 5, 6, 6, 9, 5, 8, 7, 6, 3, 9, 3, 1, 9, 7, 6, 1, 7, 2, 5, 4, 2, 9, 0, 6, 8, 0, 2, 8, 1, 4, 1, 1, 5, 5, 9, 1, 0, 3, 8, 7, 8, 4, 8, 9, 2, 2, 7, 0, 3, 7, 3, 2, 8, 2, 6, 6, 4, 2, 8, 4, 6, 3, 3, 6, 7, 9, 6, 2, 4, 8, 7, 3, 2, 5, 8, 9, 8, 8, 8, 8, 0, 6, 3, 9, 0, 7, 7, 8, 3, 6, 5, 8, 5, 8, 0, 4, 2, 3, 3, 0, 9, 2, 4, 1, 0, 6, 4, 4, 9, 3, 4, 0, 6, 5, 1, 2, 8, 3, 2, 7, 8, 3, 2, 7, 2, 6, 4, 3, 2, 4, 6, 4, 5, 6, 4, 0, 9, 7, 2, 3, 5, 0, 8, 3, 4, 5, 0, 1, 4, 3, 4, 2, 5, 7, 0, 1, 4, 8, 9, 3, 6, 6, 9, 1, 4, 7, 5, 4, 9, 7, 6, 8, 8, 2, 1, 7, 7, 6, 8, 1, 5, 1, 5, 1, 0, 2, 4, 0, 0, 2, 9, 9, 8, 3, 5, 3, 6, 5, 9, 8, 5, 1, 9, 9, 8, 1, 0, 7, 6, 2, 5, 2, 1, 1, 1, 5, 9, 6, 6, 7, 3, 6, 6, 7, 1, 7, 9, 8, 1, 2, 5, 5, 5, 8, 2, 3, 3, 7, 7, 6, 4, 5, 6, 5, 4, 2, 3, 9, 3, 7, 9, 1, 9, 5, 5, 6, 1, 7, 9, 8, 6, 9, 7, 3, 7, 2, 0, 2, 2, 6, 6, 2, 1, 8, 4, 7, 5, 0, 6, 4, 7, 8, 0, 5, 1, 8, 8, 2, 7, 1, 8, 9, 3, 1, 7, 9, 2, 5, 7, 5, 7, 3, 9, 8, 3, 4, 5, 1, 2, 7, 9, 0, 5, 7, 9, 8, 1, 5, 6, 6, 3, 9, 2, 5, 8, 9, 1, 1, 8, 7, 5, 8, 6, 0, 0, 3, 0, 2, 6, 4, 6, 2, 8, 1, 7, 7, 0, 8, 3, 7, 5, 3, 3, 5, 2, 9, 5, 0, 3, 3, 8, 9, 0, 9, 5, 5, 9, 4, 1, 4, 1, 1, 2, 3, 2, 6, 6, 1, 4, 5, 1, 1, 4, 7, 3, 7, 4, 4, 8, 6, 9, 4, 0, 2, 8, 3, 1, 3, 9, 3, 8, 3, 0, 5, 4, 4, 2, 6, 1, 4, 7, 6, 4, 5, 4, 0, 8, 4, 8, 5, 8, 4, 0, 4, 8, 5, 6, 9, 9, 0, 0, 3, 4, 2, 2, 8, 8, 7, 9, 4, 6, 7, 0, 7, 7, 0, 3, 0, 5, 2, 0, 0, 7, 2, 0, 7, 6, 6, 3, 7, 1, 3, 2, 9, 0, 9, 6, 9, 5, 8, 1, 9, 9, 9, 8, 6, 8, 1, 7, 8, 1, 8, 7, 5, 1, 6, 8, 1, 5, 9, 6, 5, 2, 6, 2, 6, 3, 3, 3, 4, 4, 5, 0, 5, 3, 1, 3, 9, 2, 5, 8, 9, 3, 9, 8, 6, 4, 2, 3, 3, 4, 2, 3, 7, 5, 4, 2, 4, 4, 3, 0, 6, 2, 6, 0, 0, 6, 7, 1, 9, 8, 5, 1, 6, 2, 3, 9, 2, 7, 8, 5, 5, 1, 1, 1, 8, 9, 2, 1, 3, 7, 1, 9, 8, 1, 2, 7, 5, 6, 9, 4, 1, 7, 2, 3, 9, 5, 9, 2, 6, 6, 0, 8, 7, 6, 6, 6, 1, 6, 2, 8, 4, 9, 3, 4, 0, 0, 9, 7, 0, 1, 8, 7, 0, 1, 2, 3, 6, 9, 4, 0, 8, 7, 6, 8, 8, 9, 1, 3, 6, 1, 5, 3, 6, 1, 7, 0, 0, 3, 4, 0, 8, 1, 2, 1, 1, 6, 5, 2, 1, 0, 9, 7, 0, 6, 8, 1, 9, 7, 6, 1, 5, 7, 2, 5, 6, 4, 0, 7, 0, 1, 0, 7, 7, 2, 3, 8, 8, 0, 8, 2, 3, 0, 0, 1, 8, 3, 7, 2, 0, 8, 0, 8, 6, 6, 4, 0, 0, 0, 2, 0, 7, 6, 1, 8, 4, 5, 5, 2, 0, 9, 2, 1, 9, 3, 2, 5, 7, 2, 5, 1, 5, 4, 9, 3, 8, 7, 9, 0, 9, 3, 2, 6, 2, 8, 6, 7, 8, 7, 6, 6, 3, 4, 6, 8, 9, 8, 6, 8, 3, 7, 6, 4, 1, 2, 1, 8, 8, 1, 7, 5, 9, 4, 6, 8, 3, 4, 4, 8, 5, 2, 6, 5, 5, 7, 6, 0, 6, 7, 7, 3, 2, 4, 4, 2, 1, 7, 2, 1, 1, 5, 3, 3, 2, 1, 5, 0, 7, 5, 2, 1, 9, 4, 6, 9, 0, 4, 6, 3, 0, 1, 3, 4, 4, 4, 1, 7, 7, 7, 8, 4, 2, 8, 7, 0, 7, 4, 5, 1, 3, 3, 9, 4, 2, 3, 7, 8, 0, 7, 1, 9, 2, 0, 7, 6, 8, 7, 0, 9, 6, 1, 6, 7, 1, 3, 8, 8, 9, 0, 4, 9, 5, 7, 2, 4, 5, 6, 9, 7, 7, 9, 3, 1, 0, 0, 7, 5, 8, 7, 2, 2, 4, 0, 7, 7, 4, 4, 3, 1, 4, 0, 6, 5, 7, 0, 7, 8, 3, 5, 5, 8, 5, 1, 4, 0, 1, 4, 8, 2, 6, 8, 8, 3, 9, 1, 6, 9, 9, 8, 4, 7, 4, 3, 4, 3, 9, 2, 0, 5, 0, 1, 8, 4, 7, 4, 8, 7, 2, 9, 1, 6, 9, 0, 3, 8, 9, 0, 5, 5, 7, 1, 6, 9, 7, 5, 9, 3, 5, 1, 1, 1, 8, 6, 2, 7, 2, 9, 3, 3, 5, 7, 1, 2, 8, 0, 9, 5, 0, 1, 4, 8, 4, 3, 3, 6, 4, 7, 8, 6, 7, 1, 1, 8, 7, 1, 2, 0, 1, 4, 0, 3, 3, 4, 4, 6, 7, 4, 7, 5, 0, 3, 5, 1, 5, 5, 8, 8, 6, 2, 4, 8, 2, 8, 0, 3, 3, 2, 8, 9, 2, 4, 2, 5, 8, 6, 9, 6, 2, 2, 8, 6, 1, 4, 2, 1, 7, 0, 7, 0, 6, 1, 5, 3, 3, 4, 8, 8, 5, 6, 1, 7, 1, 0, 0, 3, 8, 2, 8, 3, 8, 0, 9, 9, 5, 3, 7, 9, 4, 9, 7, 4, 9, 8, 3, 5, 6, 6, 2, 1, 5, 5, 6, 3, 6, 1, 3, 5, 6, 2, 3, 3, 8, 9, 6, 3, 2, 4, 4, 8, 3, 6, 6, 6, 0, 5, 9, 8, 8, 5, 6, 4, 1, 7, 4, 5, 6, 6, 1, 3, 7, 3, 4, 3, 5, 2, 8, 3, 5, 4, 8, 2, 3, 1, 0, 1, 0, 1, 9, 0, 7, 8, 7, 2, 9, 1, 0, 0, 2, 6, 4, 9, 7, 3, 6, 7, 6, 3, 2, 8, 1, 8, 2, 8, 1, 9, 9, 3, 6, 4, 6, 0, 3, 8, 3, 3, 2, 9, 5, 9, 5, 2, 3, 5, 8, 6, 9, 0, 4, 2, 5, 7, 5, 6, 6, 0, 6, 6, 2, 2, 5, 2, 9, 8, 0, 8, 7, 5, 1, 5, 4, 4, 3, 3, 9, 7, 4, 4, 6, 1, 8, 1, 4, 8, 5, 4, 2, 7, 4, 3, 5, 2, 0, 7, 3, 3, 3, 1, 1, 4, 0, 3, 6, 6, 9, 0, 8, 7, 9, 3, 9, 9, 6, 0, 7, 4, 7, 8, 2, 3, 2, 3, 9, 8, 7, 0, 9, 7, 9, 7, 2, 8, 5, 4, 2, 2, 8, 9, 5, 8, 0, 7, 9, 3, 1, 2, 1, 9, 5, 9, 2, 3, 6, 8, 3, 1, 5, 7, 8, 8, 0, 1, 0, 1, 7, 4, 4, 6, 7, 0, 9, 5, 9, 3, 7, 0, 9, 0, 3, 1, 1, 4, 5, 0, 7, 6, 5, 3, 5, 9, 0, 5, 2, 5, 4, 4, 1, 9, 7, 2, 4, 9, 1, 8, 3, 8, 6, 3, 6, 1, 3, 0, 5, 7, 6, 9, 5, 1, 9, 8, 0, 5, 4, 0, 1, 8, 3, 4, 4, 1, 5, 0, 3, 3, 8, 5, 2, 7, 7, 0, 9, 4, 3, 6, 6, 3, 0, 4, 5, 7, 3, 0, 1, 6, 6, 9, 2, 2, 8, 6, 9, 0, 4, 8, 1, 2, 2, 1, 4, 9, 5, 5, 4, 9, 4, 9, 0, 0, 5, 7, 0, 8, 0, 6, 4, 5, 4, 8, 0, 6, 1, 0, 6, 8, 7, 4, 9, 2, 5, 2, 7, 5, 7, 6, 5, 4, 2, 8, 9, 6, 6, 1, 4, 5, 7, 1, 6, 2, 0, 2, 5, 0, 8, 0, 7, 8, 1, 0, 7, 2, 1, 0, 3, 5, 3, 1, 8, 4, 0, 9, 1, 1, 3, 6, 2, 2, 7, 5, 6, 2, 7, 0, 9, 3, 0, 2, 2, 9, 5, 0, 5, 0, 0, 2, 7, 0, 5, 0, 5, 0, 0, 4, 5, 1, 7, 8, 5, 0, 9, 2, 7, 6, 4, 1, 5, 0, 4, 5, 2, 6, 4, 8, 9, 3, 5, 7, 7, 3, 0, 8, 0, 5, 9, 8, 8, 8, 2, 7, 5, 8, 1, 2, 0, 8, 7, 2, 7, 6, 0, 7, 4, 5, 3, 5, 9, 2, 8, 5, 3, 1, 2, 7, 9, 1, 9, 1, 5, 6, 7, 9, 3, 6, 4, 8, 5, 8, 7, 7, 8, 3, 1, 5, 4, 9, 0, 8, 1, 2, 1, 3, 1, 7, 6, 0, 2, 0, 8, 1, 9, 5, 0, 2, 8, 9, 8, 1, 4, 2, 7, 7, 5, 1, 0, 9, 1, 7, 9, 6, 6, 8, 7, 7, 3, 8, 3, 8, 9, 0, 3, 5, 4, 0, 2, 9, 4, 9, 8, 4, 9, 8, 0, 6, 6, 5, 2, 9, 9, 5, 2, 2, 1, 6, 1, 0, 6, 0, 9, 6, 2, 4, 6, 2, 0, 7, 9, 0, 7, 9, 5, 8, 0, 1, 7, 5, 2, 2, 1, 5, 0, 9, 1, 8, 3, 1, 3, 4, 4, 5, 1, 2, 2, 1, 5, 6, 9, 1, 1, 6, 4, 6, 1, 7, 2, 3, 9, 9, 7, 3, 4, 2, 3, 5, 5, 6, 2, 6, 5, 0, 1, 6, 4, 7, 9, 8, 2, 8, 5, 4, 7, 7, 7, 2, 5, 7, 3, 9, 0, 9, 2, 7, 0, 8, 6, 5, 7, 3, 8, 6, 2, 6, 5, 3, 3, 9, 9, 2, 0, 1, 1, 0, 4, 0, 0, 5, 0, 7, 7, 0, 8, 4, 5, 9, 6, 5, 5, 3, 5, 0, 6, 8, 9, 6, 0, 0, 5, 4, 8, 6, 8, 8, 6, 9, 3, 2, 0, 1, 5, 7, 2, 9, 3, 1, 0, 0, 9, 3, 2, 1, 2, 7, 6, 9, 8, 2, 4, 2, 9, 7, 6, 2, 8, 3, 6, 5, 8, 1, 6, 3, 9, 6, 5, 9, 7, 4, 1, 1, 8, 7, 4, 7, 5, 3, 2, 0, 6, 0, 7, 5, 7, 0, 4, 1, 4, 4, 2, 1, 1, 0, 4, 3, 0, 9, 6, 0, 8, 1, 6, 6, 5, 7, 3, 3, 7, 7, 3, 5, 7, 0, 7, 4, 6, 4, 7, 3, 3, 0, 4, 3, 7, 4, 6, 4, 9, 1, 9, 8, 3, 3, 4, 0, 9, 1, 5, 4, 1, 4, 9, 8, 8, 0, 7, 2, 1, 7, 8, 5, 7, 8, 6, 7, 7, 4, 6, 8, 2, 3, 5, 4, 7, 8, 1, 2, 1, 6, 1, 7, 6, 6, 0, 2, 7, 1, 7, 2, 8, 6, 3, 8, 5, 4, 3, 7, 6, 8, 4, 1, 4, 5, 6, 1, 0, 6, 5, 8, 0, 1, 7, 6, 7, 7, 3, 5, 5, 0, 8, 5, 4, 3, 1, 1, 1, 0, 4, 6, 7, 3, 4, 5, 0, 6, 0, 5, 6, 8, 2, 1, 8, 2, 2, 5, 8, 0, 5, 6, 2, 9, 6, 9, 1, 7, 6, 4, 2, 8, 6, 3, 6, 8, 8, 8, 3, 7, 0, 2, 6, 3, 7, 1, 9, 3, 3, 5, 7, 1, 4, 5, 8, 6, 0, 5, 7, 4, 8, 3, 2, 8, 1, 3, 4, 3, 2, 8, 6, 8, 6, 2, 2, 2, 2, 8, 5, 4, 2, 4, 1, 3, 5, 4, 0, 3, 5, 1, 8, 8, 1, 9, 8, 8, 6, 3, 8, 8, 7, 0, 7, 1, 8, 7, 9, 4, 5, 0, 9, 4, 7, 7, 7, 4, 3, 7, 4, 0, 3, 0, 0, 2, 9, 6, 5, 3, 6, 9, 6, 0, 0, 3, 6, 8, 0, 0, 0, 0, 1, 3, 7, 9, 4, 2, 2, 0, 8, 0, 5, 0, 3, 0, 7, 0, 2, 3, 4, 9, 7, 4, 7, 9, 3, 4, 6, 6, 2, 9, 3, 6, 9, 4, 3, 9, 4, 7, 0, 1, 7, 4, 1, 7, 3, 9, 8, 1, 0, 0, 1, 9, 9, 3, 7, 6, 9, 9, 3, 7, 2, 5, 0, 9, 1, 6, 2, 7, 3, 4, 6, 0, 8, 2, 3, 1, 1, 6, 0, 9, 1, 6, 5, 9, 9, 5, 7, 8, 6, 4, 3, 9, 5, 5, 8, 9, 5, 8, 1, 3, 1, 3, 9, 0, 6, 1, 7, 6, 1, 3, 8, 8, 5, 1, 6, 3, 2, 8, 4, 7, 0, 8, 0, 1, 3, 6, 1, 4, 7, 5, 6, 3, 4, 4, 2, 4, 7, 7, 9, 4, 8, 2, 0, 0, 9, 8, 4, 0, 8, 7, 7, 6, 8, 1, 6, 6, 4, 9, 6, 7, 8, 5, 6, 6, 1, 0, 6, 6, 8, 8, 6, 4, 2, 0, 6, 6, 1, 9, 5, 2, 0, 2, 5, 4, 1, 5, 1, 3, 5, 3, 5, 8, 0, 8, 0, 2, 3, 7, 9, 0, 4, 9, 1, 9, 3, 7, 5, 2, 2, 3, 7, 0, 5, 5, 6, 3, 5, 5, 0, 7, 0, 3, 4, 0, 7, 7, 3, 1, 8, 3, 4, 3, 8, 4, 9, 8, 0, 4, 4, 3, 7, 6, 5, 0, 5, 7, 8, 3, 4, 3, 3, 7, 0, 9, 4, 7, 9, 0, 7, 1, 5, 7, 9, 9, 2, 4, 7, 5, 1, 7, 1, 2, 0, 1, 9, 1, 8, 8, 3, 0, 9, 1, 3, 5, 4, 6, 7, 1, 1, 4, 8, 6, 5, 7, 5, 3, 5, 9, 2, 9, 6, 1, 3, 1, 6, 9, 8, 0, 9, 5, 6, 7, 0, 2, 8, 8, 5, 0, 5, 9, 0, 6, 6, 7, 4, 5, 6, 5, 5, 7, 7, 3, 3, 3, 4, 6, 5, 4, 0, 0, 7, 7, 2, 4, 2, 7, 5, 2, 6, 0, 4, 3, 6, 4, 8, 9, 6, 3, 7, 6, 8, 1, 0, 5, 3, 5, 3, 6, 0, 3, 7, 7, 3, 2, 4, 4, 4, 5, 5, 3, 8, 4, 9, 1, 5, 1, 2, 5, 2, 8, 5, 7, 8, 9, 8, 3, 1, 3, 9, 2, 1, 6, 5, 3, 0, 9, 0, 1, 6, 2, 4, 0, 9, 2, 2, 6, 9, 8, 2, 3, 7, 1, 8, 2, 4, 2, 9, 6, 6, 3, 2, 1, 2, 9, 2, 6, 1, 1, 5, 6, 2, 6, 9, 0, 8, 1, 4, 5, 9, 3, 2, 7, 8, 7, 7, 3, 9, 5, 3, 0, 7, 7, 0, 9, 3, 7, 6, 4, 3, 4, 0, 5, 2, 2, 5, 0, 6, 8, 8, 1, 3, 9, 2, 4, 1, 5, 6, 8, 2, 1, 5, 1, 0, 4, 1, 1, 3, 7, 4, 6, 7, 5, 3, 9, 5, 9, 7, 5, 3, 1, 2, 0, 7, 1, 5, 2, 9, 6, 8, 5, 4, 2, 9, 5, 6, 9, 1, 4, 2, 2, 5, 4, 8, 9, 2, 1, 9, 5, 7, 9, 8, 2, 8, 8, 3, 2, 7, 4, 7, 7, 6, 6, 9, 7, 5, 8, 9, 2, 8, 3, 7, 9, 0, 1, 0, 4, 3, 3, 3, 2, 1, 7, 0, 0, 5, 6, 9, 2, 5, 5, 9, 0, 8, 6, 7, 0, 5, 4, 2, 5, 2, 8, 8, 6, 0, 7, 9, 3, 1, 0, 3, 1, 3, 5, 1, 8, 9, 0, 9, 8, 6, 5, 8, 5, 4, 7, 2, 0, 3, 9, 8, 7, 6, 3, 0, 3, 6, 1, 8, 5, 7, 7, 5, 4, 4, 8, 2, 1, 1, 5, 0, 4, 7, 1, 7, 4, 3, 0, 5, 9, 0, 0, 9, 3, 8, 1, 7, 1, 4, 7, 1, 7, 8, 3, 6, 2, 1, 7, 8, 4, 4, 3, 4, 0, 5, 3, 2, 8, 7, 3, 0, 7, 1, 9, 6, 5, 7, 2, 4, 1, 3, 1, 0, 7, 1, 9, 8, 3, 0, 7, 9, 4, 4, 9, 6, 8, 6, 4, 4, 2, 3, 0, 9, 7, 6, 7, 9, 3, 7, 1, 8, 0, 7, 9, 5, 1, 2, 7, 9, 8, 1, 6, 5, 0, 6, 4, 1, 5, 8, 9, 4, 8, 0, 5, 4, 1, 1, 6, 4, 8, 9, 6, 6, 0, 7, 5, 7, 3, 0, 2, 8, 2, 6, 4, 1, 9, 4, 0, 1, 3, 9, 4, 9, 2, 3, 3, 1, 3, 8, 3, 3, 2, 1, 0, 3, 1, 3, 3, 6, 4, 7, 2, 3, 9, 5, 3, 2, 1, 7, 3, 8, 3, 1, 5, 7, 5, 4, 1, 2, 4, 5, 6, 6, 1, 4, 4, 6, 6, 1, 9, 9, 7, 8, 6, 4, 9, 6, 9, 0, 6, 2, 2, 7, 9, 0, 7, 2, 3, 2, 3, 2, 6, 3, 3, 0, 4, 3, 2, 5, 0, 2, 8, 6, 4, 3, 3, 4, 4, 7, 6, 9, 2, 5, 8, 9, 8, 3, 0, 5, 1, 2, 0, 3, 7, 7, 3, 8, 3, 1, 3, 4, 1, 7, 8, 6, 0, 3, 0, 0, 7, 2, 0, 0, 7, 4, 5, 9, 0, 1, 5, 0, 0, 3, 8, 2, 8, 9, 6, 8, 6, 9, 6, 0, 9, 9, 6, 8, 4, 9, 3, 7, 0, 3, 7, 8, 4, 0, 4, 1, 7, 9, 6, 5, 8, 9, 3, 2, 2, 5, 3, 3, 8, 4, 3, 1, 5, 1, 6, 0, 1, 7, 4, 8, 8, 5, 5, 5, 6, 6, 1, 5, 0, 8, 2, 1, 4, 4, 4, 2, 5, 1, 1, 7, 1, 8, 3, 7, 8, 3, 6, 7, 2, 6, 9, 4, 8, 9, 7, 1, 6, 4, 3, 1, 6, 5, 0, 3, 8, 9, 8, 6, 0, 4, 4, 4, 5, 1, 9, 4, 8, 2, 9, 7, 4, 8, 4, 6, 1, 9, 4, 8, 3, 9, 2, 7, 7, 7, 6, 0, 2, 9, 2, 0, 2, 0, 8, 6, 2, 5, 9, 8, 7, 0, 4, 7, 2, 5, 0, 0, 7, 3, 4, 1, 2, 6, 3, 3, 9, 3, 7, 8, 5, 3, 7, 2, 5, 4, 2, 5, 4, 1, 2, 4, 2, 3, 5, 7, 7, 8, 0, 5, 4, 7, 7, 6, 0, 7, 5, 5, 4, 8, 3, 0, 7, 4, 4, 5, 8, 0, 7, 6, 0, 7, 3, 8, 9, 1, 4, 3, 7, 4, 1, 2, 0, 5, 4, 3, 1, 1, 1, 9, 8, 0, 3, 3, 1, 4, 0, 4, 4, 4, 6, 5, 1, 1, 9, 7, 3, 8, 3, 9, 5, 5, 6, 1, 5, 6, 9, 2, 3, 1, 5, 5, 9, 0, 1, 7, 2, 0, 6, 7, 9, 7, 2, 4, 9, 4, 9, 9, 6, 6, 1, 9, 2, 2, 2, 4, 6, 2, 9, 9, 3, 4, 9, 8, 7, 7, 3, 4, 1, 9, 5, 8, 9, 9, 3, 8, 4, 7, 9, 8, 1, 2, 7, 5, 1, 8, 2, 1, 6, 5, 5, 9, 0, 1, 2, 4, 9, 7, 9, 7, 8, 0, 5, 6, 9, 2, 4, 5, 3, 2, 9, 2, 0, 1, 4, 2, 7, 1, 9, 1, 7, 9, 8, 5, 9, 5, 3, 7, 3, 6, 7, 1, 3, 5, 5, 7, 0, 9, 2, 0, 3, 7, 6, 6, 3, 8, 0, 7, 0, 7, 1, 0, 0, 0, 6, 7, 7, 8, 0, 4, 4, 9, 2, 7, 8, 8, 4, 0, 7, 4, 5, 3, 3, 7, 0, 5, 2, 0, 3, 0, 0, 8, 5, 2, 3, 6, 3, 9, 3, 0, 0, 0, 9, 3, 1, 7, 9, 5, 1, 5, 1, 5, 5, 7, 3, 4, 1, 3, 7, 4, 2, 7, 0, 0, 2, 4, 0, 2, 0, 6, 1, 0, 9, 1, 8, 1, 2, 0, 8, 7, 5, 9, 9, 1, 6, 2, 1, 3, 5, 7, 1, 3, 9, 2, 4, 4, 0, 9, 2, 0, 8, 7, 6, 5, 2, 9, 5, 5, 4, 7, 5, 7, 1, 8, 3, 1, 6, 7, 8, 6, 3, 1, 9, 8, 5, 5, 9, 9, 8, 6, 9, 9, 4, 6, 5, 0, 4, 4, 5, 5, 3, 0, 0, 7, 0, 2, 8, 3, 6, 1, 8, 3, 5, 5, 0, 2, 7, 4, 8, 5, 7, 0, 6, 8, 4, 4, 1, 1, 0, 3, 2, 2, 9, 1, 7, 7, 9, 7, 7, 6, 2, 9, 9, 2, 2, 2, 6, 4, 3, 1, 9, 0, 2, 1, 6, 9, 9, 6, 4, 0, 0, 2, 8, 9, 1, 2, 1, 3, 0, 1, 5, 9, 5, 6, 3, 7, 9, 4, 3, 9, 8, 7, 1, 4, 6, 8, 1, 0, 3, 1, 3, 5, 0, 8, 8, 3, 1, 2, 6, 1, 3, 4, 8, 0, 2, 3, 4, 0, 6, 0, 1, 5, 1, 3, 7, 2, 9, 0, 2, 1, 7, 8, 8, 6, 7, 3, 0, 8, 8, 7, 2, 4, 3, 0, 0, 8, 1, 8, 6, 8, 1, 5, 6, 0, 0, 2, 1, 1, 3, 2, 5, 7, 6, 5, 7, 0, 5, 9, 4, 3, 6, 0, 9, 8, 9, 9, 7, 4, 3, 2, 8, 3, 3, 8, 1, 2, 3, 7, 8, 7, 2, 9, 2, 3, 6, 9, 1, 6, 1, 5, 2, 3, 3, 2, 3, 1, 5, 9, 4, 7, 8, 5, 4, 7, 1, 6, 2, 9, 2, 7, 0, 6, 4, 8, 1, 8, 9, 2, 5, 4, 5, 5, 0, 3, 3, 2, 8, 0, 0, 5, 9, 0, 5, 3, 7, 2, 1, 1, 9, 8, 5, 2, 3, 8, 6, 6, 5, 6, 2, 5, 0, 2, 4, 4, 4, 4, 0, 1, 7, 1, 1, 4, 8, 5, 4, 1, 9, 5, 9, 2, 1, 0, 1, 9, 8, 8, 1, 5, 2, 8, 2, 1, 4, 3, 1, 3, 1, 5, 1, 9, 8, 4, 8, 0, 7, 6, 8, 6, 3, 8, 4, 2, 2, 6, 7, 7, 7, 0, 2, 7, 9, 1, 0, 0, 1, 3, 9, 0, 0, 2, 0, 6, 0, 6, 2, 6, 6, 0, 8, 8, 6, 8, 9, 5, 6, 6, 7, 1, 6, 2, 7, 8, 8, 1, 9, 7, 2, 9, 5, 8, 6, 3, 5, 6, 0, 2, 6, 2, 6, 3, 5, 5, 5, 4, 5, 8, 1, 7, 4, 8, 5, 6, 0, 0, 5, 1, 3, 4, 0, 9, 3, 4, 0, 5, 4, 6, 1, 3, 7, 0, 8, 7, 8, 1, 0, 5, 7, 2, 1, 6, 7, 0, 3, 7, 9, 8, 7, 3, 1, 2, 5, 8, 1, 5, 6, 7, 3, 1, 0, 2, 5, 4, 9, 1, 5, 3, 0, 3, 3, 3, 5, 0, 4, 2, 7, 6, 1, 2, 3, 2, 1, 0, 6, 2, 2, 1, 8, 6, 0, 6, 1, 1, 2, 9, 0, 0, 9, 7, 8, 2, 8, 6, 2, 4, 8, 2, 6, 0, 1, 4, 6, 6, 5, 2, 0, 8, 4, 0, 0, 4, 3, 4, 1, 0, 0, 3, 3, 6, 9, 8, 6, 5, 5, 8, 6, 9, 2, 9, 2, 3, 7, 9, 3, 7, 9, 4, 9, 4, 9, 4, 4, 6, 8, 3, 3, 3, 4, 2, 9, 1, 4, 9, 9, 9, 9, 3, 8, 6, 5, 6, 5, 9, 4, 8, 6, 7, 6, 7, 6, 8, 8, 4, 5, 4, 4, 0, 5, 5, 3, 0, 9, 1, 2, 8, 5, 5, 1, 2, 6, 0, 3, 4, 8, 5, 8, 0, 0, 6, 6, 1, 5, 1, 6, 2, 3, 6, 7, 7, 3, 4, 5, 0, 3, 4, 2, 7, 5, 3, 6, 8, 4, 0, 3, 1, 5, 2, 2, 6, 4, 3, 7, 7, 6, 1, 8, 4, 1, 2, 7, 3, 1, 3, 0, 9, 6, 3, 3, 7, 0, 9, 2, 6, 2, 7, 6, 8, 1, 2, 0, 9, 1, 8, 9, 9, 7, 7, 9, 8, 7, 8, 0, 9, 3, 7, 8, 8, 1, 9, 1, 8, 2, 5, 5, 0, 1, 3, 9, 4, 8, 4, 0, 8, 0, 7, 9, 2, 8, 4, 8, 0, 9, 5, 3, 0, 3, 8, 3, 8, 2, 4, 9, 5, 9, 1, 1, 4, 7, 0, 3, 8, 5, 2, 4, 2, 5, 5, 0, 5, 4, 2, 5, 0, 3, 5, 1, 2, 0, 8, 5, 8, 7, 1, 3, 2, 2, 2, 5, 6, 7, 6, 2, 2, 6, 9, 7, 7, 3, 8, 2, 0, 5, 6, 7, 8, 7, 1, 5, 7, 2, 7, 1, 8, 9, 7, 2, 6, 0, 1, 7, 4, 4, 3, 9, 0, 2, 9, 7, 0, 5, 6, 7, 7, 2, 5, 3, 3, 6, 7, 8, 2, 6, 7, 3, 8, 0, 4, 4, 4, 2, 1, 2, 9, 1, 8, 4, 4, 3, 5, 8, 8, 8, 6, 4, 2, 3, 4, 4, 1, 2, 7, 7, 7, 8, 7, 2, 0, 6, 9, 0, 3, 7, 6, 3, 9, 5, 4, 6, 7, 3, 8, 9, 0, 6, 8, 6, 6, 4, 5, 6, 7, 2, 1, 2, 8, 5, 9, 0, 8, 3, 7, 3, 8, 3, 5, 7, 5, 6, 3, 3, 2, 8, 2, 4, 9, 0, 7, 9, 2, 5, 8, 4, 1, 6, 2, 1, 2, 6, 1, 2, 4, 8, 6, 4, 3, 3, 2, 1, 0, 3, 2, 8, 3, 5, 1, 3, 4, 9, 1, 6, 3, 0, 1, 3, 4, 8, 2, 0, 6, 4, 5, 5, 2, 1, 0, 7, 8, 5, 0, 5, 8, 8, 5, 3, 5, 0, 8, 7, 2, 6, 7, 6, 8, 3, 1, 4, 6, 7, 9, 1, 4, 7, 6, 8, 1, 6, 6, 1, 9, 6, 0, 6, 4, 3, 7, 0, 3, 5, 8, 2, 6, 4, 3, 0, 1, 8, 8, 8, 5, 4, 8, 3, 2, 1, 8, 6, 8, 6, 6, 7, 9, 9, 3, 3, 0, 8, 1, 6, 1, 1, 6, 9, 7, 6, 2, 3, 2, 4, 1, 7, 6, 8, 6, 2, 4, 7, 2, 5, 6, 5, 6, 2, 9, 9, 1, 4, 3, 2, 3, 2, 0, 0, 2, 5, 0, 3, 0, 9, 1, 5, 5, 4, 5, 4, 5, 0, 9, 3, 2, 8, 6, 5, 6, 4, 3, 2, 7, 7, 8, 4, 1, 6, 8, 6, 9, 4, 4, 9, 5, 0, 5, 7, 2, 5, 3, 1, 7, 5, 4, 3, 8, 6, 0, 1, 2, 1, 9, 7, 2, 2, 8, 0, 7, 5, 2, 1, 7, 8, 7, 4, 8, 5, 2, 5, 0, 8, 5, 1, 3, 8, 5, 1, 6, 9, 7, 6, 5, 9, 3, 9, 9, 6, 1, 8, 6, 9, 6, 7, 6, 9, 6, 8, 3, 9, 2, 4, 8, 9, 1, 0, 4, 8, 7, 4, 2, 1, 3, 2, 5, 3, 1, 2, 7, 6, 5, 1, 2, 8, 4, 9, 2, 5, 6, 9, 3, 9, 7, 8, 9, 6, 2, 3, 7, 4, 6, 1, 4, 8, 1, 5, 7, 1, 0, 9, 2, 4, 9, 8, 1, 4, 8, 7, 6, 8, 4, 1, 9, 5, 2, 8, 7, 9, 7, 5, 1, 8, 9, 2, 5, 4, 6, 9, 5, 6, 3, 7, 0, 4, 3, 3, 1, 2, 7, 6, 5, 0, 7, 3, 0, 7, 3, 5, 9, 3, 7, 7, 9, 5, 1, 9, 4, 2, 4, 8, 7, 7, 1, 3, 7, 5, 5, 7, 3, 5, 0, 0, 0, 4, 0, 7, 1, 2, 8, 6, 6, 5, 3, 9, 0, 5, 1, 6, 3, 4, 7, 2, 3, 9, 5, 9, 9, 2, 4, 6, 4, 0, 1, 0, 1, 1, 1, 8, 6, 0, 6, 7, 8, 8, 3, 0, 6, 1, 4, 0, 3, 6, 1, 7, 8, 6, 1, 2, 2, 1, 8, 1, 2, 2, 0, 8, 2, 6, 5, 9, 8, 5, 1, 5, 2, 1, 0, 8, 2, 9, 2, 6, 4, 8, 1, 1, 3, 4, 6, 5, 3, 0, 4, 2, 6, 5, 8, 9, 3, 1, 4, 6, 7, 9, 5, 7, 8, 9, 5, 2, 2, 4, 1, 1, 7, 8, 0, 0, 4, 2, 3, 7, 9, 1, 8, 8, 5, 6, 5, 9, 7, 5, 7, 8, 4, 0, 7, 2, 9, 0, 8, 9, 2, 6, 4, 6, 0, 9, 5, 7, 6, 0, 5, 1, 4, 1, 8, 6, 7, 6, 2, 5, 8, 4, 6, 0, 9, 8, 3, 1, 9, 1, 7, 2, 7, 8, 4, 4, 7, 5, 2, 1, 8, 8, 9, 3, 2, 8, 2, 9, 6, 4, 1, 6, 2, 1, 9, 0, 6, 6, 4, 9, 6, 6, 9, 9, 4, 0, 7, 8, 9, 0, 9, 3, 7, 2, 0, 9, 4, 9, 1, 3, 4, 4, 9, 3, 6, 4, 8, 9, 8, 4, 4, 1, 4, 3, 4, 5, 5, 0, 4, 4, 9, 8, 1, 5, 6, 0, 0, 4, 1, 8, 5, 4, 3, 6, 1, 7, 6, 5, 5, 6, 0, 0, 6, 1, 6, 4, 9, 1, 4, 7, 6, 5, 1, 7, 7, 5, 7, 6, 5, 1, 7, 6, 4, 9, 3, 3, 6, 3, 9, 6, 5, 3, 9, 8, 4, 9, 7, 1, 0, 6, 0, 1, 0, 5, 2, 2, 1, 2, 1, 2, 0, 2, 0, 7, 8, 2, 0, 8, 8, 0, 0, 9, 2, 9, 2, 7, 6, 9, 4, 3, 7, 1, 1, 9, 6, 0, 1, 1, 2, 1, 7, 5, 0, 1, 7, 9, 4, 9, 9, 8, 2, 5, 4, 1, 2, 9, 3, 8, 4, 4, 0, 8, 3, 8, 3, 0, 9, 3, 5, 5, 6, 1, 2, 2, 9, 7, 5, 3, 7, 6, 6, 8, 1, 2, 4, 9, 7, 8, 3, 3, 7, 7, 3, 9, 6, 0, 7, 2, 7, 9, 7, 4, 2, 9, 4, 0, 2, 7, 2, 4, 2, 5, 4, 3, 1, 5, 9, 1, 0, 8, 6, 1, 1, 0, 6, 1, 4, 1, 1, 3, 6, 1, 1, 0, 4, 9, 1, 9, 5, 0, 4, 5, 6, 0, 6, 1, 7, 3, 1, 9, 1, 5, 9, 4, 7, 8, 1, 3, 5, 7, 8, 0, 4, 7, 0, 1, 9, 2, 9, 2, 8, 8, 6, 5, 0, 6, 6, 8, 6, 5, 1, 0, 7, 5, 4, 5, 2, 2, 8, 9, 3, 3, 5, 7, 1, 8, 3, 4, 0, 6, 4, 1, 9, 2, 6, 6, 0, 9, 1, 9, 0, 1, 4, 4, 0, 0, 1, 6, 6, 1, 3, 7, 9, 0, 4, 9, 4, 0, 5, 6, 2, 5, 4, 0, 4, 3, 5, 2, 9, 4, 0, 7, 8, 1, 9, 9, 0, 6, 3, 6, 0, 3, 6, 8, 9, 2, 7, 8, 3, 9, 1, 5, 6, 0, 6, 8, 0, 7, 8, 5, 7, 0, 7, 4, 1, 0, 1, 6, 0, 2, 6, 2, 7, 6, 5, 9, 1, 4, 8, 1, 9, 6, 2, 4, 9, 2, 6, 5, 5, 9, 8, 9, 0, 7, 7, 0, 7, 9, 6, 6, 1, 7, 0, 6, 6, 2, 0, 2, 5, 0, 8, 3, 3, 4, 7, 7, 0, 5, 0, 5, 8, 7, 4, 7, 0, 0, 1, 7, 7, 6, 0, 7, 8, 9, 4, 8, 5, 4, 1, 2, 9, 6, 7, 3, 6, 7, 8, 1, 4, 2, 3, 6, 3, 0, 4, 2, 4, 3, 5, 1, 3, 8, 6, 9, 6, 9, 8, 0, 6, 9, 8, 9, 1, 0, 2, 6, 7, 2, 8, 6, 8, 3, 5, 0, 9, 1, 6, 1, 5, 8, 3, 5, 8, 8, 1, 8, 4, 0, 1, 5, 0, 3, 5, 4, 1, 4, 5, 4, 9, 9, 9, 6, 2, 3, 5, 7, 5, 0, 7, 5, 0, 3, 4, 1, 2, 0, 3, 6, 2, 1, 1, 3, 8, 1, 8, 6, 2, 7, 9, 2, 0, 0, 2, 3, 5, 2, 0, 1, 2, 6, 3, 5, 3, 5, 6, 1, 9, 6, 2, 0, 1, 8, 5, 9, 3, 0, 8, 0, 0, 5, 5, 9, 3, 2, 3, 6, 0, 9, 1, 8, 6, 8, 9, 6, 2, 2, 8, 0, 2, 8, 1, 8, 3, 3, 6, 8, 9, 9, 8, 9, 9, 7, 2, 2, 5, 3, 7, 5, 9, 8, 6, 7, 7, 2, 0, 0, 2, 0, 0, 2, 4, 7, 9, 2, 5, 3, 7, 4, 5, 1, 5, 8, 5, 3, 3, 8, 2, 3, 6, 8, 6, 8, 6, 7, 0, 1, 6, 8, 7, 7, 7, 8, 5, 4, 1, 5, 3, 5, 5, 5, 2, 1, 4, 0, 2, 0, 3, 8, 0, 0, 9, 9, 5, 7, 5, 5, 0, 7, 0, 1, 3, 2, 6, 3, 2, 0, 0, 7, 0, 9, 7, 5, 0, 6, 1, 6, 1, 1, 7, 9, 8, 9, 0, 0, 3, 6, 5, 8, 2, 7, 0, 3, 1, 4, 0, 8, 6, 0, 5, 7, 6, 7, 4, 0, 5, 4, 9, 5, 1, 0, 8, 4, 1, 1, 7, 3, 2, 8, 7, 5, 9, 7, 8, 3, 5, 9, 7, 1, 9, 0, 6, 9, 3, 9, 4, 6, 2, 2, 9, 7, 6, 0, 5, 9, 4, 1, 3, 9, 1, 7, 9, 2, 2, 0, 5, 5, 8, 2, 4, 9, 5, 5, 6, 5, 8, 1, 8, 9, 7, 0, 4, 5, 6, 0, 3, 9, 7, 1, 3, 0, 8, 3, 5, 7, 7, 2, 8, 5, 6, 3, 3, 1, 3, 8, 7, 9, 2, 2, 4, 0, 2, 8, 0, 8, 7, 2, 5, 4, 5, 8, 8, 1, 1, 7, 8, 6, 3, 2, 8, 6, 6, 0, 0, 4, 4, 6, 7, 2, 5, 0, 7, 9, 4, 7, 6, 1, 2, 3, 3, 1, 8, 5, 7, 1, 3, 6, 0, 0, 9, 9, 6, 4, 3, 0, 3, 6, 3, 8, 3, 3, 0, 8, 3, 5, 5, 9, 3, 8, 3, 5, 8, 4, 2, 9, 4, 3, 9, 6, 2, 7, 2, 5, 9, 0, 0, 9, 9, 0, 6, 5, 5, 2, 6, 8, 2, 9, 1, 4, 4, 7, 7, 8, 1, 8, 0, 5, 9, 5, 8, 9, 4, 9, 5, 0, 9, 0, 1, 5, 4, 1, 0, 9, 5, 7, 1, 7, 1, 1, 7, 1, 6, 4, 6, 5, 5, 3, 1, 7, 7, 7, 2, 3, 6, 1, 8, 2, 6, 8, 2, 3, 5, 7, 1, 3, 7, 8, 9, 4, 3, 9, 7, 5, 2, 2, 0, 0, 5, 7, 0, 8, 7, 8, 3, 2, 7, 9, 7, 4, 2, 1, 9, 5, 8, 3, 6, 5, 9, 7, 2, 1, 3, 0, 2, 1, 8, 1, 5, 4, 9, 8, 8, 3, 2, 5, 3, 6, 0, 8, 0, 0, 8, 6, 6, 1, 7, 7, 1, 1, 2, 4, 4, 0, 7, 7, 8, 7, 8, 0, 6, 7, 1, 4, 2, 5, 5, 6, 3, 1, 3, 3, 9, 7, 8, 2, 4, 8, 0, 3, 3, 2, 1, 5, 3, 2, 9, 5, 6, 6, 5, 2, 4, 2, 6, 8, 0, 7, 1, 8, 2, 8, 7, 7, 2, 0, 8, 3, 0, 7, 0, 4, 2, 4, 3, 0, 6, 0, 2, 2, 3, 4, 4, 4, 4, 5, 3, 4, 8, 4, 7, 2, 2, 7, 6, 6, 3, 7, 7, 0, 3, 0, 5, 7, 4, 9, 0, 0, 3, 0, 2, 8, 5, 9, 2, 7, 5, 3, 4, 3, 9, 4, 2, 6, 6, 9, 4, 4, 3, 2, 9, 9, 4, 5, 0, 5, 3, 7, 8, 3, 4, 2, 6, 8, 5, 9, 3, 6, 9, 7, 9, 2, 1, 3, 3, 7, 7, 3, 1, 7, 3, 6, 8, 1, 6, 2, 7, 3, 9, 6, 8, 5, 3, 1, 1, 0, 0, 7, 1, 3, 4, 7, 9, 9, 2, 2, 5, 8, 5, 1, 4, 6, 8, 6, 8, 0, 1, 2, 8, 6, 1, 3, 3, 2, 1, 1, 3, 9, 8, 0, 5, 0, 9, 4, 9, 3, 7, 1, 1, 0, 7, 4, 0, 7, 3, 6, 1, 0, 9, 4, 0, 6, 8, 0, 4, 7, 4, 5, 6, 5, 2, 2, 1, 9, 1, 7, 2, 7, 3, 4, 3, 1, 4, 3, 3, 2, 2, 4, 9, 4, 3, 1, 9, 9, 1, 4, 1, 4, 7, 8, 3, 5, 5, 5, 3, 6, 0, 9, 6, 8, 1, 4, 9, 9, 8, 8, 6, 5, 0, 4, 2, 4, 5, 4, 5, 0, 2, 8, 4, 4, 1, 3, 0, 9, 2, 1, 5, 1, 8, 6, 4, 0, 7, 4, 0, 1, 4, 6, 0, 4, 4, 9, 8, 1, 8, 3, 9, 5, 7, 7, 8, 4, 3, 5, 1, 6, 3, 2, 9, 3, 4, 4, 3, 5, 0, 0, 0, 8, 5, 0, 9, 1, 2, 5, 6, 0, 8, 7, 4, 1, 5, 9, 9, 1, 8, 1, 3, 2, 1, 3, 8, 1, 6, 5, 2, 5, 7, 4, 1, 7, 8, 4, 9, 6, 2, 0, 7, 3, 9, 9, 4, 4, 5, 4, 2, 3, 0, 4, 2, 6, 8, 5, 5, 8, 1, 5, 9, 0, 8, 9, 1, 5, 5, 3, 8, 6, 9, 5, 0, 3, 3, 1, 1, 1, 2, 9, 6, 3, 7, 3, 9, 5, 2, 4, 0, 1, 0, 8, 6, 0, 7, 7, 5, 3, 9, 2, 5, 5, 1, 2, 8, 3, 3, 7, 4, 3, 9, 4, 7, 9, 8, 9, 0, 4, 0, 4, 1, 5, 8, 5, 3, 4, 4, 0, 4, 4, 9, 8, 0, 2, 4, 8, 7, 0, 3, 2, 1, 6, 8, 4, 0, 2, 2, 1, 7, 9, 5, 4, 0, 5, 1, 0, 0, 8, 0, 5, 7, 5, 4, 8, 0, 8, 9, 0, 7, 9, 3, 8, 4, 7, 9, 6, 3, 4, 5, 3, 7, 2, 4, 6, 2, 1, 9, 4, 4, 2, 9, 6, 4, 2, 3, 4, 4, 5, 8, 2, 2, 2, 6, 5, 6, 0, 8, 8, 5, 9, 3, 3, 2, 1, 5, 4, 4, 8, 4, 4, 8, 6, 1, 8, 1, 4, 9, 8, 9, 5, 3, 5, 9, 0, 5, 1, 0, 4, 7, 2, 1, 4, 9, 7, 3, 5, 4, 4, 3, 4, 1, 0, 6, 4, 6, 7, 0, 8, 9, 6, 8, 2, 0, 7, 3, 4, 2, 3, 2, 4, 3, 5, 0, 6, 2, 9, 9, 3, 4, 2, 0, 6, 1, 8, 7, 6, 4, 2, 6, 3, 7, 8, 1, 4, 0, 6, 2, 5, 1, 2, 9, 2, 2, 7, 5, 1, 1, 9, 5, 4, 5, 8, 2, 6, 8, 2, 3, 1, 0, 0, 6, 3, 8, 3, 2, 9, 2, 1, 1, 6, 4, 7, 4, 3, 2, 4, 1, 8, 3, 5, 1, 1, 3, 8, 9, 0, 7, 1, 7, 5, 7, 9, 8, 7, 8, 9, 3, 1, 8, 6, 8, 3, 4, 5, 8, 0, 0, 7, 8, 5, 3, 2, 7, 2, 9, 2, 0, 0, 9, 9, 0, 5, 6, 6, 2, 4, 9, 9, 8, 3, 8, 6, 9, 0, 6, 3, 6, 7, 9, 9, 5, 2, 0, 5, 0, 8, 1, 0, 9, 2, 9, 8, 9, 3, 4, 8, 2, 8, 9, 4, 9, 3, 5, 9, 8, 1, 5, 4, 6, 5, 5, 5, 2, 7, 3, 8, 5, 9, 4, 6, 3, 1, 4, 3, 4, 0, 8, 4, 8, 9, 3, 2, 9, 9, 7, 2, 4, 7, 0, 8, 2, 6, 0, 7, 1, 8, 9, 7, 2, 3, 2, 4, 6, 2, 4, 2, 7, 9, 6, 2, 2, 0, 7, 2, 4, 5, 3, 6, 4, 8, 9, 1, 8, 3, 8, 2, 4, 8, 5, 5, 6, 2, 2, 1, 1, 5, 3, 7, 4, 8, 4, 1, 2, 4, 6, 7, 9, 0, 1, 7, 9, 1, 8, 4, 0, 6, 6, 2, 3, 0, 9, 9, 0, 9, 7, 7, 1, 8, 3, 2, 9, 1, 2, 3, 1, 7, 0, 8, 4, 6, 6, 8, 3, 8, 0, 7, 7, 0, 5, 7, 0, 8, 5, 3, 1, 1, 4, 6, 4, 7, 2, 5, 8, 5, 1, 7, 5, 2, 5, 7, 1, 4, 7, 9, 5, 1, 1, 0, 7, 1, 3, 4, 9, 1, 1, 2, 2, 4, 7, 4, 0, 1, 6, 3, 1, 6, 7, 0, 6, 4, 4, 0, 9, 8, 1, 5, 8, 0, 7, 6, 9, 6, 1, 3, 3, 6, 6, 0, 3, 0, 9, 7, 8, 1, 2, 4, 5, 9, 8, 3, 2, 8, 1, 1, 2, 0, 1, 3, 0, 1, 2, 3, 1, 0, 4, 0, 7, 5, 5, 2, 8, 3, 6, 8, 2, 4, 6, 7, 0, 7, 9, 8, 6, 2, 0, 3, 8, 3, 6, 5, 9, 7, 0, 0, 4, 6, 0, 4, 4, 6, 4, 2, 4, 2, 0, 3, 4, 9, 5, 6, 0, 3, 2, 8, 3, 5, 1, 6, 6, 8, 0, 4, 5, 7, 7, 0, 8, 7, 9, 7, 4, 3, 7, 0, 4, 2, 3, 1, 0, 6, 4, 1, 2, 8, 9, 5, 1, 1, 8, 4, 1, 7, 7, 2, 0, 9, 9, 8, 2, 2, 9, 6, 7, 6, 1, 0, 4, 5, 6, 9, 7, 5, 4, 4, 6, 2, 1, 6, 6, 1, 3, 3, 1, 1, 1, 3, 4, 5, 4, 5, 1, 4, 6, 9, 8, 2, 9, 9, 1, 4, 1, 4, 4, 9, 4, 5, 9, 1, 6, 6, 7, 2, 5, 7, 4, 6, 4, 2, 8, 2, 8, 6, 1, 1, 2, 8, 2, 5, 0, 3, 0, 7, 4, 5, 4, 8, 5, 5, 0, 4, 8, 9, 7, 0, 1, 9, 0, 5, 4, 8, 6, 9, 4, 5, 5, 0, 5, 8, 3, 7, 6, 4, 2, 4, 3, 6, 9, 8, 2, 8, 8, 7, 3, 9, 5, 5, 3, 5, 8, 6, 8, 8, 6, 2, 6, 7, 1, 4, 7, 0, 1, 9, 6, 2, 0, 3, 4, 3, 6, 7, 9, 3, 3, 7, 0, 5, 4, 4, 2, 5, 8, 9, 3, 9, 1, 1, 7, 3, 5, 7, 3, 9, 5, 4, 5, 8, 0, 2, 6, 2, 3, 3, 6, 8, 1, 0, 7, 3, 4, 6, 0, 0, 2, 1, 9, 1, 1, 4, 4, 3, 4, 5, 5, 0, 5, 1, 2, 9, 8, 8, 1, 8, 2, 4, 9, 0, 1, 3, 0, 5, 6, 4, 3, 3, 7, 6, 0, 8, 5, 4, 7, 8, 8, 1, 7, 1, 7, 8, 7, 2, 4, 1, 8, 8, 6, 6, 4, 1, 3, 1, 9, 9, 6, 8, 7, 9, 2, 7, 6, 5, 4, 7, 6, 5, 9, 0, 8, 4, 6, 6, 1, 5, 3, 4, 4, 8, 3, 1, 1, 0, 1, 4, 1, 3, 2, 8, 8, 9, 0, 5, 5, 3, 7, 8, 8, 9, 4, 1, 4, 4, 7, 1, 4, 9, 1, 1, 3, 1, 3, 6, 6, 2, 0, 5, 4, 0, 5, 3, 2, 3, 7, 9, 6, 6, 9, 9, 8, 2, 4, 0, 6, 6, 0, 9, 0, 1, 8, 7, 3, 0, 3, 8, 6, 2, 5, 1, 4, 8, 2, 7, 4, 6, 9, 5, 2, 8, 9, 4, 5, 3, 0, 0, 6, 7, 7, 8, 0, 4, 6, 2, 0, 4, 2, 1, 4, 3, 3, 1, 3, 0, 2, 0, 2, 7, 1, 2, 7, 2, 9, 6, 0, 2, 3, 3, 7, 9, 0, 4, 8, 6, 3, 0, 3, 3, 9, 3, 0, 8, 1, 4, 4, 4, 9, 3, 7, 1, 5, 2, 3, 6, 8, 6, 6, 3, 5, 3, 3, 0, 0, 0, 9, 3, 7, 6, 6, 4, 9, 3, 5, 6, 8, 8, 5, 3, 8, 3, 0, 4, 4, 8, 7, 3, 8, 6, 6, 0, 8, 8, 4, 1, 9, 6, 0, 3, 1, 8, 2, 1, 9, 6, 2, 5, 2, 2, 7, 7, 8, 3, 3, 6, 9, 3, 2, 1, 0, 7, 7, 1, 2, 1, 6, 4, 1, 9, 4, 8, 5, 7, 6, 9, 0, 9, 7, 6, 9, 5, 1, 4, 6, 4, 5, 4, 8, 1, 9, 1, 2, 0, 4, 0, 3, 5, 8, 0, 2, 9, 5, 1, 4, 3, 5, 8, 7, 7, 3, 0, 0, 1, 4, 4, 2, 6, 2, 2, 6, 3, 0, 4, 4, 7, 4, 1, 2, 6, 2, 3, 5, 8, 1, 8, 6, 6, 6, 8, 0, 2, 5, 6, 8, 8, 1, 2, 5, 5, 6, 3, 5, 2, 3, 5, 0, 9, 9, 3, 5, 8, 5, 1, 5, 8, 7, 6, 1, 5, 6, 4, 3, 2, 3, 7, 4, 6, 3, 8, 6, 7, 0, 3, 2, 0, 8, 0, 1, 3, 0, 2]\n"
          ]
        }
      ]
    },
    {
      "cell_type": "code",
      "source": [
        "from sklearn.metrics import accuracy_score\n",
        "accuracy = accuracy_score(y_test_list, y_pred_list)\n",
        "print(\"Accuracy: %.2f%%\" % (accuracy * 100.0))"
      ],
      "metadata": {
        "colab": {
          "base_uri": "https://localhost:8080/"
        },
        "id": "AI-dFdNAe0i7",
        "outputId": "50d00e2a-cd4f-4c60-a7e9-c93d7923f558"
      },
      "execution_count": 62,
      "outputs": [
        {
          "output_type": "stream",
          "name": "stdout",
          "text": [
            "Accuracy: 7.08%\n"
          ]
        }
      ]
    },
    {
      "cell_type": "code",
      "source": [
        "model = Sequential()\n",
        "model.add(Conv2D(64, (3,3), input_shape=(28, 28, 1)))\n",
        "model.add(Activation('relu'))\n",
        "model.add(MaxPooling2D(pool_size=(2,2)))\n",
        "model.add(Conv2D(64, (3,3)))\n",
        "model.add(Activation('relu'))\n",
        "model.add(MaxPooling2D(pool_size=(2,2)))\n",
        "model.add(Flatten())\n",
        "model.add(Dense(64))\n",
        "model.add(Dense(10))\n",
        "model.add(Activation('softmax'))\n",
        "model.compile(loss=keras.losses.categorical_crossentropy, optimizer=keras.optimizers.Adam(learning_rate=0.001),metrics=['accuracy'])\n",
        "\n",
        "model.fit(X_train255_reshape, y_train,validation_split=0,batch_size=64, epochs=30,shuffle=True)"
      ],
      "metadata": {
        "colab": {
          "base_uri": "https://localhost:8080/"
        },
        "id": "Mvn5gieDJ2nW",
        "outputId": "75d3d008-66c1-4756-f128-e2b3d40f1333"
      },
      "execution_count": 109,
      "outputs": [
        {
          "output_type": "stream",
          "name": "stdout",
          "text": [
            "Epoch 1/30\n",
            "844/844 [==============================] - 113s 4ms/step - loss: 0.4905 - accuracy: 0.8231\n",
            "Epoch 2/30\n",
            "844/844 [==============================] - 3s 4ms/step - loss: 0.3237 - accuracy: 0.8834\n",
            "Epoch 3/30\n",
            "844/844 [==============================] - 3s 4ms/step - loss: 0.2823 - accuracy: 0.8978\n",
            "Epoch 4/30\n",
            "844/844 [==============================] - 3s 4ms/step - loss: 0.2538 - accuracy: 0.9091\n",
            "Epoch 5/30\n",
            "844/844 [==============================] - 3s 4ms/step - loss: 0.2339 - accuracy: 0.9143\n",
            "Epoch 6/30\n",
            "844/844 [==============================] - 4s 5ms/step - loss: 0.2134 - accuracy: 0.9212\n",
            "Epoch 7/30\n",
            "844/844 [==============================] - 3s 4ms/step - loss: 0.1970 - accuracy: 0.9286\n",
            "Epoch 8/30\n",
            "844/844 [==============================] - 3s 4ms/step - loss: 0.1845 - accuracy: 0.9325\n",
            "Epoch 9/30\n",
            "844/844 [==============================] - 3s 4ms/step - loss: 0.1722 - accuracy: 0.9368\n",
            "Epoch 10/30\n",
            "844/844 [==============================] - 3s 4ms/step - loss: 0.1605 - accuracy: 0.9411\n",
            "Epoch 11/30\n",
            "844/844 [==============================] - 3s 4ms/step - loss: 0.1536 - accuracy: 0.9441\n",
            "Epoch 12/30\n",
            "844/844 [==============================] - 3s 4ms/step - loss: 0.1421 - accuracy: 0.9486\n",
            "Epoch 13/30\n",
            "844/844 [==============================] - 3s 4ms/step - loss: 0.1332 - accuracy: 0.9509\n",
            "Epoch 14/30\n",
            "844/844 [==============================] - 3s 4ms/step - loss: 0.1249 - accuracy: 0.9547\n",
            "Epoch 15/30\n",
            "844/844 [==============================] - 3s 4ms/step - loss: 0.1215 - accuracy: 0.9547\n",
            "Epoch 16/30\n",
            "844/844 [==============================] - 3s 4ms/step - loss: 0.1131 - accuracy: 0.9581\n",
            "Epoch 17/30\n",
            "844/844 [==============================] - 3s 4ms/step - loss: 0.1092 - accuracy: 0.9601\n",
            "Epoch 18/30\n",
            "844/844 [==============================] - 3s 4ms/step - loss: 0.1003 - accuracy: 0.9632\n",
            "Epoch 19/30\n",
            "844/844 [==============================] - 3s 4ms/step - loss: 0.0946 - accuracy: 0.9648\n",
            "Epoch 20/30\n",
            "844/844 [==============================] - 3s 4ms/step - loss: 0.0906 - accuracy: 0.9669\n",
            "Epoch 21/30\n",
            "844/844 [==============================] - 3s 4ms/step - loss: 0.0872 - accuracy: 0.9676\n",
            "Epoch 22/30\n",
            "844/844 [==============================] - 3s 4ms/step - loss: 0.0865 - accuracy: 0.9681\n",
            "Epoch 23/30\n",
            "844/844 [==============================] - 3s 4ms/step - loss: 0.0768 - accuracy: 0.9714\n",
            "Epoch 24/30\n",
            "844/844 [==============================] - 3s 4ms/step - loss: 0.0755 - accuracy: 0.9717\n",
            "Epoch 25/30\n",
            "844/844 [==============================] - 3s 4ms/step - loss: 0.0689 - accuracy: 0.9741\n",
            "Epoch 26/30\n",
            "844/844 [==============================] - 3s 4ms/step - loss: 0.0678 - accuracy: 0.9751\n",
            "Epoch 27/30\n",
            "844/844 [==============================] - 3s 4ms/step - loss: 0.0650 - accuracy: 0.9761\n",
            "Epoch 28/30\n",
            "844/844 [==============================] - 3s 4ms/step - loss: 0.0594 - accuracy: 0.9780\n",
            "Epoch 29/30\n",
            "844/844 [==============================] - 3s 4ms/step - loss: 0.0604 - accuracy: 0.9780\n",
            "Epoch 30/30\n",
            "844/844 [==============================] - 3s 4ms/step - loss: 0.0556 - accuracy: 0.9790\n"
          ]
        },
        {
          "output_type": "execute_result",
          "data": {
            "text/plain": [
              "<keras.callbacks.History at 0x7f3b30321ed0>"
            ]
          },
          "metadata": {},
          "execution_count": 109
        }
      ]
    },
    {
      "cell_type": "code",
      "source": [
        "y_pred=model.predict(X_test255_reshape)"
      ],
      "metadata": {
        "id": "Qly-mCyAJ243"
      },
      "execution_count": 110,
      "outputs": []
    },
    {
      "cell_type": "code",
      "source": [
        "import numpy as np\n",
        "y_pred_list=[]\n",
        "for x in y_pred:\n",
        "  indices = np.where(x == x.max())\n",
        "  # print(indices)\n",
        "  y_pred_list.append(indices[0][0])\n",
        "\n",
        "print(y_pred_list)"
      ],
      "metadata": {
        "colab": {
          "base_uri": "https://localhost:8080/"
        },
        "id": "ouQ72NflMV8Z",
        "outputId": "71a74421-6da2-4807-d47c-65cf2f5bc390"
      },
      "execution_count": 111,
      "outputs": [
        {
          "output_type": "stream",
          "name": "stdout",
          "text": [
            "[2, 6, 6, 8, 6, 7, 8, 2, 5, 5, 5, 4, 3, 8, 2, 4, 7, 3, 2, 6, 5, 4, 2, 4, 4, 6, 5, 4, 3, 3, 7, 0, 8, 5, 5, 9, 8, 9, 1, 1, 7, 1, 6, 8, 4, 3, 7, 1, 2, 8, 3, 0, 7, 3, 6, 7, 7, 5, 0, 5, 9, 2, 5, 6, 8, 6, 1, 1, 9, 2, 8, 4, 2, 1, 5, 2, 1, 9, 1, 0, 6, 5, 6, 2, 3, 2, 9, 8, 7, 6, 2, 6, 3, 9, 3, 3, 6, 4, 4, 8, 6, 3, 9, 6, 9, 6, 0, 1, 4, 1, 9, 6, 6, 8, 6, 9, 9, 0, 2, 0, 6, 7, 8, 4, 8, 9, 4, 5, 6, 2, 9, 3, 0, 8, 2, 1, 0, 4, 7, 3, 7, 7, 7, 7, 5, 0, 0, 0, 1, 8, 1, 1, 5, 3, 9, 3, 5, 4, 5, 2, 9, 6, 0, 2, 5, 3, 0, 4, 8, 0, 4, 9, 7, 3, 9, 0, 7, 5, 6, 2, 5, 5, 1, 9, 3, 1, 4, 6, 6, 5, 0, 9, 3, 6, 7, 5, 1, 5, 3, 4, 8, 9, 8, 8, 9, 8, 1, 4, 6, 1, 8, 8, 7, 9, 4, 7, 8, 2, 4, 7, 5, 7, 4, 6, 5, 2, 7, 5, 0, 8, 3, 0, 9, 2, 8, 8, 4, 9, 7, 0, 0, 5, 6, 4, 3, 4, 9, 8, 4, 1, 0, 1, 5, 7, 1, 6, 1, 3, 2, 0, 9, 4, 4, 1, 2, 2, 6, 5, 5, 0, 2, 5, 2, 5, 4, 2, 8, 6, 6, 7, 7, 9, 4, 5, 8, 2, 9, 3, 2, 5, 9, 1, 7, 2, 7, 1, 9, 7, 9, 4, 7, 5, 7, 6, 7, 7, 3, 9, 2, 4, 7, 0, 5, 9, 4, 3, 7, 7, 3, 5, 8, 9, 7, 9, 8, 3, 2, 0, 3, 8, 0, 8, 2, 6, 1, 8, 1, 0, 7, 5, 3, 5, 9, 3, 3, 6, 3, 7, 6, 4, 3, 9, 1, 4, 0, 2, 3, 2, 9, 0, 4, 4, 5, 4, 6, 0, 4, 9, 0, 9, 5, 9, 2, 4, 1, 2, 6, 3, 2, 3, 7, 3, 7, 2, 7, 1, 2, 9, 9, 0, 7, 4, 1, 3, 6, 8, 3, 7, 0, 1, 1, 5, 2, 6, 2, 1, 2, 6, 4, 5, 2, 9, 5, 4, 8, 6, 1, 8, 4, 4, 8, 0, 0, 4, 5, 6, 5, 7, 7, 8, 5, 9, 1, 7, 2, 4, 1, 0, 8, 7, 9, 4, 0, 0, 9, 3, 3, 7, 4, 8, 4, 6, 3, 4, 5, 6, 6, 1, 6, 0, 7, 8, 6, 6, 0, 6, 2, 9, 3, 7, 7, 0, 2, 9, 3, 1, 8, 1, 4, 5, 0, 5, 6, 0, 1, 2, 0, 3, 9, 9, 2, 3, 2, 0, 3, 2, 3, 1, 1, 8, 4, 5, 8, 6, 8, 2, 2, 5, 4, 5, 0, 0, 6, 5, 0, 6, 9, 0, 2, 2, 8, 5, 1, 4, 5, 5, 1, 1, 2, 2, 0, 8, 5, 9, 3, 4, 6, 5, 9, 2, 4, 8, 2, 8, 1, 2, 8, 6, 3, 3, 9, 5, 2, 8, 5, 0, 8, 1, 0, 8, 5, 2, 3, 4, 1, 8, 5, 9, 4, 1, 6, 3, 2, 5, 6, 8, 1, 6, 5, 2, 5, 4, 0, 8, 2, 2, 8, 3, 8, 8, 8, 6, 6, 1, 4, 4, 3, 6, 6, 2, 2, 6, 7, 3, 0, 4, 6, 5, 1, 1, 4, 4, 6, 5, 4, 1, 7, 2, 9, 8, 3, 5, 7, 2, 5, 5, 2, 6, 5, 3, 9, 5, 8, 6, 1, 4, 5, 3, 1, 0, 8, 5, 1, 2, 2, 1, 0, 7, 7, 9, 4, 6, 2, 6, 5, 8, 9, 8, 9, 9, 4, 7, 5, 2, 7, 8, 4, 4, 1, 3, 5, 8, 2, 7, 4, 5, 5, 2, 9, 9, 5, 3, 6, 5, 9, 3, 0, 7, 9, 0, 5, 7, 3, 8, 9, 8, 8, 3, 8, 3, 4, 9, 9, 3, 5, 7, 9, 1, 1, 7, 8, 1, 7, 8, 5, 8, 8, 4, 0, 6, 0, 9, 6, 0, 2, 6, 0, 0, 2, 4, 6, 0, 5, 2, 3, 1, 8, 4, 5, 0, 9, 3, 4, 2, 4, 1, 6, 8, 1, 0, 1, 8, 1, 2, 1, 4, 8, 5, 4, 9, 4, 4, 8, 2, 7, 0, 2, 5, 8, 2, 4, 0, 5, 1, 5, 9, 3, 4, 2, 3, 3, 2, 2, 2, 3, 0, 4, 6, 2, 7, 8, 2, 8, 8, 6, 1, 3, 7, 2, 0, 3, 0, 8, 0, 7, 0, 4, 8, 2, 0, 5, 0, 1, 8, 1, 8, 9, 1, 4, 5, 5, 8, 3, 6, 7, 4, 0, 6, 4, 3, 4, 8, 4, 1, 8, 7, 8, 9, 4, 4, 6, 4, 5, 4, 4, 2, 8, 2, 9, 4, 6, 8, 4, 6, 0, 9, 0, 9, 9, 5, 1, 0, 5, 9, 3, 3, 6, 4, 5, 2, 8, 6, 9, 3, 3, 8, 1, 9, 1, 7, 2, 7, 9, 0, 1, 4, 7, 4, 7, 0, 9, 0, 8, 2, 6, 1, 0, 7, 0, 1, 1, 4, 0, 7, 7, 2, 1, 6, 1, 8, 1, 9, 8, 5, 8, 4, 5, 9, 3, 4, 0, 0, 5, 6, 8, 4, 0, 9, 6, 8, 0, 9, 8, 0, 9, 2, 3, 9, 4, 6, 6, 1, 5, 8, 5, 0, 5, 0, 9, 0, 8, 5, 5, 5, 4, 3, 6, 3, 8, 2, 0, 2, 3, 9, 4, 4, 2, 1, 4, 5, 8, 9, 4, 2, 3, 8, 8, 6, 2, 4, 9, 4, 3, 8, 7, 2, 0, 2, 6, 3, 5, 4, 2, 6, 7, 1, 3, 7, 7, 3, 6, 4, 7, 8, 3, 1, 7, 7, 1, 0, 7, 2, 3, 2, 2, 0, 1, 5, 1, 2, 7, 2, 5, 5, 2, 7, 7, 9, 4, 0, 5, 5, 9, 8, 5, 5, 6, 4, 7, 6, 8, 4, 6, 5, 7, 5, 0, 8, 3, 4, 0, 5, 0, 4, 9, 6, 5, 2, 0, 6, 8, 7, 4, 0, 8, 2, 6, 9, 4, 8, 9, 9, 2, 7, 6, 9, 9, 1, 0, 9, 8, 8, 3, 0, 0, 4, 4, 1, 0, 6, 4, 6, 3, 9, 1, 5, 9, 6, 5, 2, 9, 7, 2, 9, 0, 7, 4, 4, 5, 5, 6, 5, 8, 8, 3, 5, 5, 7, 4, 0, 7, 6, 3, 4, 4, 7, 1, 6, 8, 6, 0, 6, 2, 2, 0, 7, 1, 6, 3, 9, 9, 6, 9, 1, 2, 8, 9, 3, 2, 1, 0, 2, 1, 1, 7, 3, 3, 6, 2, 9, 9, 9, 1, 7, 4, 4, 0, 7, 6, 1, 9, 6, 3, 2, 4, 7, 8, 3, 1, 5, 2, 3, 3, 3, 8, 2, 4, 3, 7, 5, 9, 6, 6, 1, 5, 2, 7, 6, 3, 3, 0, 6, 6, 9, 9, 7, 0, 8, 7, 3, 9, 8, 5, 8, 6, 1, 2, 7, 0, 1, 7, 4, 7, 4, 8, 9, 9, 5, 8, 1, 6, 0, 3, 5, 4, 0, 3, 6, 8, 2, 5, 9, 0, 0, 1, 5, 7, 3, 9, 9, 4, 0, 0, 5, 1, 5, 3, 5, 6, 7, 5, 1, 6, 0, 3, 3, 1, 5, 2, 7, 7, 1, 4, 6, 9, 4, 6, 4, 7, 7, 7, 0, 9, 8, 2, 1, 9, 6, 3, 4, 7, 7, 4, 1, 7, 9, 6, 3, 5, 8, 1, 2, 5, 2, 5, 6, 1, 6, 2, 9, 5, 2, 9, 9, 5, 9, 7, 6, 2, 7, 7, 9, 7, 6, 7, 4, 8, 3, 3, 2, 1, 3, 7, 3, 8, 9, 3, 1, 1, 2, 2, 7, 9, 5, 3, 5, 9, 8, 7, 9, 5, 1, 4, 7, 9, 9, 8, 9, 9, 8, 1, 3, 9, 5, 2, 9, 2, 7, 7, 9, 5, 0, 5, 1, 2, 6, 6, 3, 6, 7, 9, 9, 3, 7, 2, 5, 3, 9, 1, 2, 0, 4, 9, 1, 0, 6, 3, 5, 2, 1, 1, 2, 4, 9, 9, 5, 9, 4, 3, 6, 8, 9, 3, 9, 1, 4, 9, 7, 9, 2, 1, 5, 6, 7, 2, 3, 1, 6, 6, 3, 3, 8, 4, 6, 5, 8, 4, 0, 6, 6, 2, 4, 3, 6, 4, 4, 9, 9, 8, 4, 3, 1, 3, 2, 8, 1, 9, 9, 7, 7, 0, 0, 2, 8, 1, 1, 6, 8, 6, 0, 3, 5, 7, 9, 0, 6, 2, 0, 0, 6, 6, 7, 6, 0, 6, 4, 9, 7, 5, 4, 5, 3, 3, 4, 7, 8, 7, 8, 7, 8, 3, 9, 8, 2, 5, 0, 0, 5, 0, 6, 9, 7, 6, 8, 6, 7, 9, 7, 9, 5, 3, 1, 6, 8, 7, 3, 8, 6, 0, 4, 1, 0, 7, 5, 5, 4, 9, 8, 4, 4, 8, 0, 5, 1, 1, 1, 7, 2, 4, 9, 6, 7, 4, 1, 0, 6, 7, 3, 2, 0, 4, 9, 7, 7, 8, 4, 3, 2, 9, 7, 4, 0, 1, 3, 3, 8, 4, 7, 8, 2, 3, 7, 4, 0, 0, 2, 4, 0, 8, 6, 2, 1, 3, 7, 4, 2, 3, 6, 9, 9, 7, 8, 9, 6, 6, 3, 1, 9, 1, 6, 6, 3, 5, 8, 9, 4, 0, 2, 2, 1, 8, 7, 7, 7, 1, 2, 9, 3, 7, 7, 4, 1, 4, 2, 9, 7, 1, 9, 0, 3, 7, 8, 6, 1, 1, 6, 1, 4, 1, 6, 0, 6, 5, 0, 9, 7, 3, 2, 9, 3, 0, 0, 0, 8, 8, 2, 6, 6, 9, 3, 5, 3, 6, 0, 7, 1, 1, 5, 9, 8, 8, 3, 1, 5, 7, 8, 4, 3, 8, 3, 9, 0, 4, 9, 5, 3, 9, 8, 8, 6, 3, 3, 3, 6, 4, 4, 6, 4, 2, 3, 0, 2, 9, 5, 1, 1, 7, 8, 9, 5, 5, 5, 1, 3, 7, 7, 2, 1, 5, 0, 2, 4, 2, 0, 7, 4, 0, 4, 1, 7, 2, 7, 1, 9, 7, 0, 4, 1, 0, 8, 8, 9, 1, 2, 1, 6, 8, 3, 7, 6, 2, 5, 5, 5, 7, 9, 9, 4, 3, 1, 4, 2, 5, 1, 8, 3, 0, 1, 3, 6, 4, 7, 3, 6, 1, 2, 5, 0, 2, 2, 6, 5, 0, 8, 2, 2, 6, 0, 0, 1, 3, 6, 5, 0, 7, 1, 6, 8, 5, 5, 6, 3, 3, 7, 1, 9, 1, 4, 7, 2, 5, 2, 8, 4, 0, 7, 5, 8, 9, 5, 3, 4, 1, 8, 0, 8, 4, 2, 0, 1, 7, 2, 5, 1, 8, 2, 9, 5, 1, 8, 8, 5, 0, 8, 3, 3, 5, 0, 2, 7, 3, 0, 0, 6, 2, 4, 8, 1, 7, 7, 2, 9, 3, 7, 5, 6, 2, 1, 1, 1, 4, 8, 1, 7, 0, 2, 2, 4, 0, 6, 1, 6, 0, 0, 7, 1, 3, 2, 0, 5, 9, 6, 2, 5, 2, 6, 5, 1, 6, 2, 5, 2, 2, 7, 3, 3, 6, 1, 1, 2, 0, 4, 9, 9, 9, 0, 0, 8, 1, 6, 8, 2, 6, 1, 8, 8, 6, 3, 0, 7, 6, 6, 9, 2, 4, 4, 2, 1, 5, 6, 2, 9, 6, 7, 8, 8, 6, 4, 4, 4, 7, 7, 1, 9, 1, 7, 5, 8, 6, 7, 3, 1, 1, 8, 9, 8, 3, 2, 8, 8, 9, 3, 9, 6, 4, 2, 9, 2, 0, 7, 7, 6, 6, 1, 4, 1, 8, 8, 5, 3, 6, 7, 3, 4, 2, 3, 0, 0, 8, 2, 2, 3, 8, 8, 4, 2, 4, 3, 6, 9, 0, 2, 7, 6, 4, 2, 0, 4, 4, 1, 4, 4, 9, 7, 7, 0, 7, 8, 3, 4, 2, 1, 9, 2, 9, 6, 6, 8, 9, 2, 1, 6, 1, 4, 4, 4, 7, 6, 4, 1, 7, 8, 1, 3, 1, 1, 5, 2, 0, 2, 7, 6, 8, 6, 9, 6, 8, 3, 7, 8, 9, 9, 5, 3, 9, 4, 3, 8, 8, 2, 3, 4, 7, 5, 3, 1, 1, 9, 1, 7, 3, 0, 6, 1, 2, 9, 9, 3, 6, 0, 4, 0, 7, 9, 7, 6, 6, 8, 4, 6, 9, 0, 8, 2, 3, 7, 6, 6, 6, 1, 6, 9, 8, 9, 0, 4, 6, 0, 8, 1, 3, 5, 4, 0, 7, 1, 6, 3, 2, 3, 5, 1, 3, 4, 0, 7, 8, 3, 3, 3, 9, 0, 3, 4, 6, 8, 4, 2, 9, 8, 9, 4, 2, 1, 9, 4, 3, 6, 9, 4, 5, 2, 6, 4, 4, 0, 7, 7, 3, 3, 8, 6, 5, 5, 2, 0, 5, 3, 2, 1, 4, 1, 7, 3, 4, 9, 3, 5, 4, 4, 0, 5, 0, 1, 4, 7, 8, 9, 3, 0, 3, 7, 5, 5, 1, 7, 3, 4, 3, 3, 1, 0, 6, 1, 2, 7, 9, 7, 5, 5, 6, 8, 4, 3, 9, 7, 3, 7, 9, 9, 3, 4, 2, 7, 9, 0, 7, 9, 0, 4, 8, 7, 1, 3, 9, 0, 0, 2, 2, 1, 7, 4, 3, 6, 3, 3, 0, 4, 3, 6, 4, 7, 5, 9, 0, 1, 9, 0, 6, 5, 1, 2, 6, 6, 4, 1, 5, 3, 7, 9, 0, 3, 4, 1, 6, 5, 7, 9, 0, 1, 8, 6, 5, 8, 5, 2, 5, 5, 7, 2, 2, 3, 3, 9, 3, 8, 7, 9, 1, 4, 1, 6, 2, 8, 6, 7, 9, 6, 5, 8, 1, 7, 9, 4, 3, 8, 7, 4, 3, 7, 5, 6, 2, 4, 5, 9, 5, 8, 3, 8, 8, 0, 8, 2, 2, 1, 3, 8, 3, 6, 0, 3, 3, 3, 2, 9, 6, 4, 9, 6, 7, 5, 4, 4, 6, 6, 8, 9, 4, 8, 6, 5, 1, 4, 8, 9, 7, 3, 4, 2, 3, 0, 6, 3, 9, 0, 8, 0, 3, 4, 6, 3, 8, 5, 4, 8, 3, 7, 8, 3, 2, 7, 9, 5, 1, 6, 1, 3, 4, 0, 2, 3, 1, 9, 6, 8, 7, 1, 2, 4, 6, 6, 7, 6, 9, 2, 0, 3, 3, 5, 8, 5, 6, 5, 3, 6, 5, 6, 5, 9, 6, 5, 6, 4, 9, 2, 5, 6, 1, 7, 9, 0, 9, 3, 1, 6, 5, 0, 5, 6, 2, 1, 5, 8, 9, 6, 4, 2, 8, 1, 6, 4, 8, 3, 7, 2, 9, 4, 8, 3, 9, 4, 9, 1, 8, 0, 6, 4, 1, 7, 5, 2, 3, 2, 9, 2, 3, 7, 2, 6, 3, 5, 9, 9, 6, 3, 0, 7, 0, 5, 9, 7, 8, 7, 3, 4, 8, 5, 3, 7, 7, 3, 0, 7, 8, 9, 1, 3, 1, 7, 3, 8, 9, 3, 8, 9, 4, 5, 0, 1, 9, 4, 0, 1, 2, 7, 8, 9, 5, 1, 4, 2, 1, 5, 0, 2, 9, 1, 6, 0, 9, 8, 6, 8, 9, 7, 0, 5, 5, 3, 2, 3, 9, 4, 6, 7, 9, 7, 1, 5, 7, 4, 5, 3, 4, 9, 8, 7, 6, 4, 6, 9, 3, 3, 8, 9, 7, 9, 9, 7, 5, 5, 1, 5, 3, 9, 7, 9, 2, 3, 5, 6, 9, 6, 6, 6, 9, 2, 3, 2, 3, 7, 7, 6, 2, 1, 8, 2, 9, 7, 8, 2, 4, 5, 3, 6, 1, 3, 1, 4, 8, 1, 7, 8, 4, 3, 3, 3, 7, 1, 1, 9, 3, 9, 3, 8, 5, 3, 3, 3, 9, 9, 8, 6, 5, 2, 0, 4, 6, 7, 6, 7, 3, 0, 0, 7, 7, 4, 5, 6, 5, 0, 5, 5, 4, 6, 3, 7, 3, 2, 4, 8, 5, 3, 7, 2, 1, 8, 1, 4, 4, 7, 1, 9, 6, 1, 3, 8, 9, 1, 7, 6, 0, 2, 8, 9, 2, 5, 1, 5, 6, 8, 3, 4, 7, 0, 8, 9, 4, 4, 4, 3, 5, 1, 3, 0, 8, 8, 8, 1, 0, 0, 2, 3, 5, 2, 3, 9, 7, 8, 9, 0, 0, 4, 3, 7, 3, 8, 6, 0, 9, 3, 4, 9, 9, 1, 9, 3, 9, 8, 3, 8, 5, 1, 6, 0, 5, 6, 0, 1, 1, 7, 7, 5, 9, 8, 4, 9, 9, 2, 1, 8, 2, 8, 1, 2, 5, 3, 3, 1, 0, 3, 7, 0, 3, 6, 6, 4, 4, 5, 5, 9, 5, 1, 9, 5, 6, 8, 8, 3, 0, 5, 0, 7, 7, 0, 4, 7, 8, 7, 1, 9, 6, 9, 2, 4, 5, 3, 2, 9, 0, 3, 3, 0, 7, 5, 1, 8, 1, 7, 5, 5, 9, 0, 7, 3, 2, 4, 5, 4, 4, 3, 6, 0, 9, 0, 4, 4, 0, 3, 9, 7, 7, 8, 4, 5, 9, 3, 8, 8, 5, 6, 7, 2, 9, 9, 6, 4, 0, 6, 3, 0, 4, 0, 7, 8, 4, 9, 9, 6, 0, 5, 2, 6, 6, 8, 9, 9, 5, 7, 3, 9, 2, 2, 2, 0, 0, 4, 4, 8, 3, 0, 4, 7, 3, 5, 4, 9, 1, 5, 8, 0, 7, 3, 3, 3, 5, 5, 5, 2, 0, 6, 6, 8, 3, 3, 1, 3, 1, 7, 7, 8, 4, 1, 1, 8, 7, 7, 7, 8, 8, 3, 1, 2, 0, 1, 9, 6, 9, 2, 7, 3, 2, 9, 4, 2, 8, 2, 4, 8, 3, 2, 4, 5, 4, 3, 9, 8, 1, 2, 0, 5, 2, 2, 3, 3, 6, 9, 3, 1, 6, 2, 8, 1, 1, 5, 3, 4, 3, 9, 0, 3, 1, 7, 7, 2, 8, 7, 9, 7, 1, 1, 0, 9, 6, 3, 2, 8, 1, 2, 2, 8, 1, 5, 9, 1, 8, 2, 5, 3, 4, 3, 4, 4, 8, 3, 4, 2, 6, 4, 7, 0, 8, 0, 5, 1, 1, 9, 9, 9, 5, 0, 1, 9, 6, 2, 0, 7, 3, 6, 5, 3, 0, 7, 3, 1, 7, 5, 8, 1, 2, 3, 9, 0, 8, 3, 4, 9, 0, 6, 6, 8, 7, 9, 3, 8, 8, 5, 4, 7, 3, 3, 4, 8, 3, 3, 8, 3, 7, 4, 7, 6, 1, 4, 0, 8, 7, 2, 6, 7, 3, 5, 7, 7, 9, 1, 9, 7, 1, 0, 3, 6, 7, 6, 1, 1, 9, 7, 3, 2, 6, 0, 4, 3, 3, 1, 5, 1, 9, 6, 4, 1, 1, 0, 6, 3, 6, 0, 2, 3, 3, 3, 5, 8, 6, 8, 5, 8, 4, 6, 3, 8, 2, 0, 5, 5, 1, 5, 1, 1, 0, 5, 2, 0, 1, 3, 6, 8, 2, 2, 3, 1, 7, 3, 5, 5, 8, 9, 8, 4, 5, 3, 0, 3, 1, 8, 9, 4, 5, 4, 3, 6, 2, 0, 4, 7, 9, 1, 1, 8, 5, 3, 0, 7, 3, 6, 3, 3, 6, 1, 6, 3, 3, 9, 0, 2, 3, 0, 2, 9, 6, 3, 7, 0, 3, 5, 5, 0, 0, 8, 1, 4, 4, 4, 2, 7, 6, 6, 9, 1, 1, 2, 3, 9, 8, 4, 5, 2, 6, 1, 7, 4, 3, 9, 9, 7, 5, 1, 2, 0, 7, 3, 7, 2, 1, 0, 8, 4, 1, 2, 9, 8, 2, 9, 3, 8, 6, 8, 1, 8, 3, 5, 0, 1, 0, 1, 6, 1, 4, 2, 7, 6, 2, 8, 9, 8, 2, 6, 6, 3, 9, 7, 8, 8, 7, 9, 4, 1, 9, 9, 7, 3, 7, 0, 5, 3, 4, 3, 3, 9, 1, 0, 8, 6, 7, 5, 0, 9, 7, 9, 4, 6, 7, 4, 9, 5, 6, 5, 9, 2, 6, 0, 3, 6, 1, 4, 2, 5, 0, 6, 9, 1, 6, 7, 0, 6, 9, 8, 0, 5, 2, 5, 4, 6, 4, 5, 7, 4, 3, 6, 6, 1, 4, 4, 5, 7, 8, 7, 7, 6, 8, 4, 3, 6, 8, 5, 6, 2, 8, 5, 0, 2, 9, 3, 0, 8, 3, 4, 7, 5, 6, 8, 2, 2, 7, 9, 2, 5, 9, 2, 0, 6, 1, 9, 6, 8, 3, 3, 4, 9, 4, 5, 7, 4, 6, 3, 2, 3, 9, 3, 4, 6, 5, 7, 9, 5, 0, 2, 0, 9, 6, 5, 2, 0, 1, 9, 6, 4, 8, 6, 3, 6, 6, 7, 9, 8, 2, 8, 3, 5, 1, 7, 6, 8, 8, 8, 9, 7, 7, 4, 1, 3, 3, 8, 7, 1, 1, 2, 8, 4, 7, 2, 6, 1, 5, 2, 2, 8, 0, 5, 4, 6, 5, 2, 4, 0, 7, 0, 2, 7, 1, 7, 1, 3, 1, 0, 7, 1, 1, 6, 3, 1, 8, 3, 2, 5, 2, 1, 7, 0, 6, 9, 6, 5, 3, 0, 0, 2, 4, 8, 3, 9, 6, 1, 4, 6, 6, 9, 4, 6, 9, 4, 6, 9, 4, 3, 8, 8, 5, 0, 7, 3, 3, 9, 4, 8, 6, 4, 4, 9, 6, 7, 3, 8, 5, 7, 3, 4, 8, 0, 8, 6, 0, 1, 2, 0, 0, 8, 6, 3, 9, 1, 1, 5, 6, 7, 1, 2, 9, 8, 4, 3, 8, 6, 9, 8, 2, 3, 8, 1, 3, 3, 3, 5, 2, 3, 3, 3, 1, 3, 3, 1, 5, 3, 8, 4, 6, 9, 9, 6, 4, 5, 8, 2, 2, 6, 7, 6, 6, 2, 1, 3, 5, 5, 7, 4, 8, 3, 4, 4, 2, 7, 0, 7, 8, 8, 3, 5, 0, 6, 3, 9, 5, 2, 3, 9, 0, 9, 0, 4, 7, 5, 3, 9, 1, 6, 4, 5, 9, 1, 0, 5, 2, 3, 3, 1, 7, 7, 5, 8, 5, 7, 8, 9, 8, 9, 5, 4, 3, 8, 8, 5, 3, 9, 9, 9, 4, 2, 0, 5, 8, 6, 5, 8, 7, 2, 4, 9, 5, 0, 7, 9, 8, 2, 9, 6, 8, 6, 9, 6, 5, 3, 5, 2, 8, 2, 8, 6, 5, 1, 5, 3, 8, 3, 8, 5, 9, 5, 9, 8, 7, 9, 4, 7, 9, 7, 7, 2, 5, 1, 8, 5, 7, 7, 7, 3, 6, 3, 8, 6, 9, 4, 5, 0, 5, 3, 6, 9, 4, 7, 0, 6, 7, 6, 7, 7, 1, 4, 4, 5, 6, 7, 2, 9, 5, 9, 2, 5, 3, 9, 7, 6, 1, 4, 0, 3, 1, 4, 9, 9, 5, 9, 0, 3, 8, 8, 1, 4, 4, 6, 3, 8, 8, 0, 4, 0, 5, 1, 6, 7, 3, 0, 5, 2, 1, 4, 4, 9, 1, 5, 1, 3, 7, 3, 7, 4, 1, 4, 5, 7, 1, 3, 7, 0, 6, 0, 8, 9, 2, 1, 1, 4, 0, 4, 5, 8, 9, 9, 6, 3, 1, 8, 6, 4, 7, 4, 3, 7, 4, 0, 9, 0, 5, 1, 1, 4, 9, 7, 3, 5, 3, 7, 7, 8, 3, 5, 7, 1, 8, 5, 1, 1, 9, 8, 8, 4, 9, 5, 9, 3, 4, 3, 9, 1, 6, 8, 3, 9, 6, 6, 6, 3, 3, 7, 3, 8, 1, 1, 6, 0, 7, 5, 2, 0, 1, 5, 8, 9, 1, 5, 4, 9, 0, 2, 2, 8, 6, 1, 2, 0, 4, 7, 8, 8, 0, 7, 9, 8, 8, 8, 1, 7, 2, 0, 8, 1, 4, 6, 5, 2, 1, 0, 8, 2, 7, 3, 4, 2, 7, 2, 1, 2, 5, 1, 9, 6, 6, 4, 6, 9, 6, 3, 9, 7, 8, 1, 0, 3, 2, 0, 1, 8, 9, 6, 5, 7, 4, 9, 4, 8, 6, 8, 6, 9, 6, 9, 3, 5, 9, 2, 6, 6, 4, 3, 9, 5, 0, 0, 4, 3, 5, 2, 8, 2, 6, 0, 3, 2, 8, 7, 4, 8, 2, 0, 6, 6, 0, 9, 0, 6, 3, 2, 5, 2, 7, 9, 1, 3, 0, 4, 1, 7, 9, 5, 6, 4, 2, 9, 2, 4, 2, 1, 8, 0, 2, 2, 1, 7, 6, 9, 0, 3, 6, 3, 8, 6, 8, 3, 9, 1, 3, 3, 4, 1, 6, 8, 3, 2, 7, 4, 4, 8, 2, 7, 6, 1, 9, 0, 8, 6, 8, 8, 6, 7, 4, 0, 3, 2, 2, 7, 0, 4, 5, 5, 3, 8, 2, 2, 1, 8, 7, 1, 3, 8, 7, 1, 7, 3, 4, 8, 5, 2, 0, 6, 8, 4, 9, 3, 9, 2, 8, 6, 1, 1, 9, 8, 7, 5, 3, 5, 0, 2, 1, 6, 5, 2, 5, 5, 7, 6, 2, 6, 6, 9, 9, 9, 5, 0, 0, 1, 9, 0, 6, 2, 1, 9, 9, 7, 4, 6, 9, 8, 0, 0, 9, 5, 3, 2, 2, 1, 2, 7, 5, 6, 5, 7, 2, 2, 6, 4, 5, 0, 2, 2, 0, 2, 5, 7, 5, 5, 7, 7, 9, 0, 8, 8, 0, 8, 8, 7, 2, 2, 2, 1, 3, 5, 9, 2, 3, 3, 1, 5, 5, 9, 4, 9, 8, 5, 6, 9, 9, 2, 4, 9, 4, 5, 2, 5, 3, 5, 6, 1, 6, 9, 4, 3, 0, 8, 6, 9, 1, 0, 3, 0, 5, 1, 8, 2, 6, 3, 4, 4, 5, 9, 4, 4, 9, 6, 3, 4, 5, 0, 8, 0, 0, 1, 9, 8, 3, 3, 2, 4, 4, 3, 9, 6, 3, 6, 8, 6, 1, 8, 1, 8, 5, 3, 6, 3, 9, 2, 2, 8, 6, 4, 9, 9, 0, 4, 3, 3, 9, 5, 7, 9, 9, 1, 0, 3, 9, 0, 9, 0, 6, 8, 0, 3, 7, 2, 2, 6, 0, 5, 0, 5, 4, 7, 4, 8, 3, 6, 5, 5, 0, 9, 6, 6, 6, 8, 8, 4, 4, 4, 5, 5, 9, 6, 2, 1, 7, 9, 6, 7, 6, 7, 9, 1, 5, 0, 3, 2, 0, 9, 4, 1, 8, 1, 6, 8, 8, 0, 1, 0, 6, 0, 9, 3, 3, 8, 2, 2, 7, 6, 4, 5, 6, 3, 0, 4, 2, 4, 3, 9, 2, 0, 5, 5, 0, 9, 0, 7, 8, 6, 1, 4, 5, 9, 7, 8, 0, 9, 0, 2, 7, 9, 8, 9, 1, 2, 6, 6, 7, 9, 2, 0, 2, 6, 5, 0, 8, 2, 1, 3, 4, 7, 5, 7, 1, 7, 7, 5, 6, 6, 7, 4, 7, 2, 1, 5, 6, 5, 4, 8, 1, 4, 2, 1, 3, 7, 5, 6, 2, 5, 2, 6, 5, 1, 2, 6, 6, 5, 7, 1, 5, 0, 6, 0, 7, 5, 9, 1, 6, 1, 3, 1, 2, 6, 2, 4, 3, 6, 4, 9, 6, 1, 3, 3, 9, 4, 6, 4, 9, 0, 7, 7, 0, 0, 0, 6, 8, 9, 0, 9, 4, 4, 4, 6, 5, 4, 9, 0, 5, 5, 3, 1, 5, 8, 1, 2, 5, 7, 2, 9, 3, 2, 7, 8, 5, 6, 5, 4, 3, 4, 3, 1, 4, 3, 8, 7, 9, 0, 7, 6, 9, 8, 0, 5, 2, 9, 5, 6, 5, 6, 0, 8, 7, 2, 3, 9, 3, 8, 5, 5, 6, 5, 7, 8, 2, 1, 6, 8, 0, 8, 7, 9, 6, 8, 0, 6, 6, 2, 5, 2, 7, 0, 7, 7, 9, 3, 9, 0, 1, 3, 9, 5, 3, 8, 6, 3, 8, 5, 5, 9, 3, 8, 2, 1, 8, 6, 3, 9, 1, 7, 8, 6, 4, 7, 2, 6, 7, 3, 8, 0, 6, 2, 6, 8, 2, 1, 9, 9, 3, 7, 9, 5, 1, 4, 3, 6, 7, 0, 6, 1, 4, 4, 3, 3, 8, 7, 4, 6, 1, 9, 8, 5, 9, 3, 7, 3, 4, 9, 2, 5, 1, 9, 4, 8, 1, 8, 8, 1, 5, 7, 9, 6, 4, 4, 7, 1, 2, 9, 2, 8, 6, 4, 0, 2, 7, 4, 4, 3, 1, 4, 1, 1, 3, 6, 2, 7, 5, 1, 2, 6, 9, 1, 3, 1, 9, 1, 3, 7, 1, 5, 2, 4, 0, 0, 9, 5, 4, 4, 8, 1, 1, 9, 1, 7, 3, 3, 1, 3, 0, 4, 0, 9, 7, 8, 2, 4, 0, 5, 5, 3, 5, 5, 0, 9, 9, 8, 4, 3, 7, 3, 0, 2, 4, 2, 1, 1, 9, 9, 6, 7, 1, 2, 8, 8, 1, 4, 2, 7, 1, 2, 2, 0, 5, 5, 3, 6, 5, 6, 1, 1, 9, 7, 6, 1, 9, 2, 1, 8, 5, 0, 0, 3, 4, 4, 8, 8, 9, 0, 6, 8, 4, 5, 8, 8, 7, 3, 7, 4, 4, 1, 4, 9, 6, 7, 1, 7, 4, 3, 0, 7, 9, 5, 2, 1, 6, 6, 3, 8, 3, 1, 1, 8, 5, 1, 1, 2, 4, 0, 1, 9, 5, 6, 7, 8, 7, 6, 3, 7, 0, 6, 1, 0, 0, 1, 4, 5, 2, 2, 8, 7, 1, 5, 1, 7, 8, 4, 9, 7, 9, 5, 3, 5, 3, 2, 2, 4, 4, 8, 4, 9, 0, 0, 1, 5, 2, 7, 0, 6, 4, 9, 5, 1, 8, 9, 2, 8, 2, 1, 6, 5, 7, 5, 0, 3, 9, 4, 1, 9, 5, 9, 7, 5, 9, 9, 4, 5, 9, 1, 4, 4, 7, 2, 2, 8, 0, 9, 4, 1, 8, 4, 4, 0, 7, 6, 4, 7, 0, 9, 2, 9, 8, 1, 2, 0, 5, 0, 1, 0, 0, 3, 8, 6, 5, 8, 2, 7, 4, 8, 3, 6, 7, 8, 2, 2, 1, 7, 6, 0, 0, 6, 1, 4, 3, 4, 0, 9, 1, 9, 9, 3, 4, 7, 5, 6, 2, 3, 8, 5, 2, 8, 3, 8, 2, 1, 2, 2, 9, 3, 9, 0, 9, 1, 5, 6, 8, 2, 9, 8, 0, 5, 3, 5, 8, 5, 3, 4, 8, 9, 7, 4, 1, 9, 0, 0, 4, 8, 8, 9, 9, 9, 5, 5, 8, 7, 7, 5, 3, 5, 0, 3, 4, 4, 7, 0, 0, 2, 8, 7, 2, 3, 5, 7, 5, 8, 4, 6, 8, 5, 3, 1, 3, 6, 4, 0, 7, 4, 0, 9, 1, 0, 2, 7, 2, 9, 4, 4, 7, 3, 1, 5, 2, 3, 1, 8, 4, 9, 0, 6, 5, 4, 8, 1, 2, 9, 0, 2, 8, 7, 2, 3, 8, 5, 7, 6, 7, 4, 3, 9, 7, 9, 4, 3, 2, 0, 5, 4, 6, 0, 7, 8, 3, 8, 0, 3, 1, 1, 1, 3, 8, 9, 8, 2, 1, 3, 2, 8, 6, 3, 4, 2, 3, 6, 1, 3, 2, 6, 6, 6, 4, 3, 8, 4, 8, 6, 3, 5, 5, 6, 5, 0, 5, 5, 6, 2, 0, 7, 5, 8, 5, 8, 1, 8, 7, 9, 7, 7, 8, 8, 5, 7, 1, 5, 1, 8, 1, 6, 5, 1, 8, 1, 8, 6, 6, 7, 4, 9, 7, 3, 7, 4, 2, 4, 1, 0, 9, 5, 3, 9, 8, 6, 5, 7, 4, 8, 4, 1, 7, 6, 3, 7, 2, 6, 5, 5, 9, 8, 5, 1, 8, 1, 7, 1, 9, 4, 3, 9, 6, 3, 0, 8, 9, 9, 2, 0, 9, 1, 0, 7, 8, 8, 2, 7, 9, 6, 1, 1, 9, 1, 7, 2, 5, 4, 3, 4, 4, 2, 3, 5, 0, 5, 2, 6, 3, 2, 3, 9, 0, 6, 2, 4, 5, 6, 5, 2, 0, 0, 2, 8, 6, 6, 4, 0, 7, 6, 5, 4, 3, 2, 6, 0, 9, 6, 8, 9, 8, 9, 8, 3, 2, 0, 7, 3, 2, 5, 8, 6, 4, 2, 5, 1, 0, 2, 4, 2, 7, 6, 9, 0, 3, 4, 1, 9, 6, 3, 1, 9, 4, 2, 7, 2, 7, 3, 1, 0, 2, 8, 2, 7, 5, 0, 4, 6, 2, 0, 6, 5, 3, 3, 6, 9, 4, 4, 4, 6, 0, 0, 5, 5, 5, 6, 3, 7, 9, 3, 1, 0, 3, 6, 8, 4, 2, 5, 8, 1, 3, 6, 0, 2, 0, 3, 9, 0, 0, 5, 4, 2, 9, 1, 8, 1, 0, 5, 7, 7, 0, 5, 6, 2, 5, 6, 7, 4, 0, 1, 6, 5, 8, 8, 8, 7, 0, 8, 9, 3, 9, 4, 1, 3, 2, 8, 0, 5, 4, 6, 4, 4, 1, 8, 3, 5, 5, 8, 8, 5, 7, 6, 8, 3, 1, 3, 6, 3, 1, 5, 2, 6, 2, 0, 0, 3, 5, 7, 5, 8, 3, 7, 8, 3, 9, 9, 7, 4, 8, 0, 3, 0, 0, 5, 6, 8, 6, 7, 3, 6, 3, 3, 4, 4, 0, 3, 6, 1, 1, 8, 5, 9, 3, 7, 3, 4, 6, 6, 0, 7, 9, 4, 9, 6, 2, 2, 5, 6, 9, 2, 0, 6, 2, 2, 3, 1, 9, 4, 8, 7, 0, 4, 0, 0, 0, 4, 1, 5, 1, 3, 7, 6, 6, 8, 8, 2, 2, 7, 0, 7, 7, 4, 0, 4, 8, 3, 1, 0, 1, 6, 1, 1, 5, 3, 3, 9, 2, 4, 3, 1, 6, 2, 6, 6, 9, 1, 9, 1, 9, 2, 8, 3, 2, 5, 8, 4, 3, 9, 4, 0, 1, 5, 0, 8, 6, 2, 6, 7, 7, 9, 0, 0, 2, 4, 9, 4, 0, 9, 4, 6, 5, 6, 6, 6, 4, 3, 0, 1, 0, 0, 0, 4, 9, 3, 3, 9, 1, 4, 4, 3, 9, 1, 2, 3, 3, 8, 1, 0, 7, 4, 5, 8, 7, 3, 5, 4, 1, 2, 5, 8, 5, 0, 5, 1, 7, 7, 3, 4, 5, 8, 6, 2, 8, 7, 2, 5, 8, 7, 5, 2, 1, 1, 0, 3, 4, 6, 3, 2, 0, 2, 7, 9, 0, 0, 2, 5, 5, 9, 3, 4, 9, 1, 9, 4, 4, 4, 3, 1, 4, 8, 2, 4, 6, 5, 6, 0, 0, 3, 8, 4, 3, 3, 3, 8, 5, 0, 1, 2, 7, 1, 6, 8, 8, 1, 3, 4, 1, 6, 0, 8, 5, 9, 6, 5, 8, 3, 3, 3, 4, 7, 0, 2, 7, 2, 5, 6, 4, 8, 0, 2, 9, 5, 1, 7, 1, 2, 4, 6, 0, 2, 4, 8, 6, 4, 6, 4, 5, 1, 5, 9, 5, 3, 0, 1, 0, 7, 4, 6, 8, 8, 7, 8, 6, 0, 8, 1, 5, 8, 4, 5, 1, 9, 7, 7, 5, 2, 3, 7, 3, 1, 0, 5, 2, 8, 4, 5, 8, 4, 8, 9, 0, 6, 7, 6, 9, 9, 9, 6, 7, 0, 7, 2, 4, 2, 3, 8, 3, 4, 9, 6, 0, 0, 6, 0, 6, 8, 4, 5, 0, 2, 6, 5, 5, 5, 4, 7, 4, 4, 5, 7, 9, 9, 0, 4, 4, 7, 1, 0, 1, 9, 5, 3, 6, 1, 0, 8, 2, 0, 1, 9, 5, 1, 9, 0, 8, 2, 9, 3, 5, 2, 4, 4, 8, 0, 0, 6, 3, 0, 4, 9, 9, 1, 2, 9, 3, 6, 1, 5, 1, 7, 6, 7, 9, 7, 6, 2, 5, 9, 7, 4, 2, 6, 8, 2, 0, 6, 8, 0, 0, 8, 0, 2, 4, 3, 8, 5, 3, 6, 5, 8, 0, 3, 3, 5]\n"
          ]
        }
      ]
    },
    {
      "cell_type": "code",
      "source": [
        "from sklearn.metrics import accuracy_score\n",
        "accuracy = accuracy_score(y_test_list, y_pred_list)\n",
        "print(\"Accuracy: %.2f%%\" % (accuracy * 100.0))"
      ],
      "metadata": {
        "colab": {
          "base_uri": "https://localhost:8080/"
        },
        "id": "3FlE8AX6MWIU",
        "outputId": "42640c7d-69ed-4901-8403-25b1bf1fe801"
      },
      "execution_count": 112,
      "outputs": [
        {
          "output_type": "stream",
          "name": "stdout",
          "text": [
            "Accuracy: 90.32%\n"
          ]
        }
      ]
    },
    {
      "cell_type": "code",
      "source": [
        ""
      ],
      "metadata": {
        "id": "o4KDcdMnMWRh"
      },
      "execution_count": null,
      "outputs": []
    }
  ],
  "metadata": {
    "accelerator": "GPU",
    "colab": {
      "collapsed_sections": [],
      "name": "DL_FashionMNIST.ipynb",
      "provenance": []
    },
    "gpuClass": "standard",
    "kernelspec": {
      "display_name": "Python 3",
      "name": "python3"
    },
    "language_info": {
      "name": "python"
    }
  },
  "nbformat": 4,
  "nbformat_minor": 0
}